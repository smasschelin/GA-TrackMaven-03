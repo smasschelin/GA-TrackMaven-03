{
 "cells": [
  {
   "cell_type": "code",
   "execution_count": 1,
   "metadata": {
    "ExecuteTime": {
     "end_time": "2017-12-11T13:28:56.917243Z",
     "start_time": "2017-12-11T13:28:40.686123Z"
    }
   },
   "outputs": [
    {
     "name": "stderr",
     "output_type": "stream",
     "text": [
      "C:\\Users\\benps\\Anaconda3\\lib\\site-packages\\gensim\\utils.py:862: UserWarning: detected Windows; aliasing chunkize to chunkize_serial\n",
      "  warnings.warn(\"detected Windows; aliasing chunkize to chunkize_serial\")\n",
      "Using Theano backend.\n"
     ]
    }
   ],
   "source": [
    "# Topic Modeling\n",
    "\n",
    "from nltk.tokenize import RegexpTokenizer\n",
    "from stop_words import get_stop_words\n",
    "from nltk.stem.porter import PorterStemmer\n",
    "from gensim import corpora, models\n",
    "import gensim\n",
    "import pyLDAvis.gensim\n",
    "\n",
    "import numpy as np\n",
    "import pandas as pd"
   ]
  },
  {
   "cell_type": "code",
   "execution_count": 14,
   "metadata": {
    "ExecuteTime": {
     "end_time": "2017-12-11T13:37:38.255779Z",
     "start_time": "2017-12-11T13:37:38.251007Z"
    }
   },
   "outputs": [],
   "source": [
    "####"
   ]
  },
  {
   "cell_type": "code",
   "execution_count": 148,
   "metadata": {
    "ExecuteTime": {
     "end_time": "2017-12-11T14:53:01.249115Z",
     "start_time": "2017-12-11T14:53:01.204835Z"
    }
   },
   "outputs": [],
   "source": [
    "class LDA:\n",
    "    '''A class that takes a list or pandas Series of strings as input and outputs a trained LDA model'''\n",
    "    # Credit to Matt Brems' LDA lecture for the LDA basics\n",
    "    \n",
    "    def __init__(self, num_topics=5, passes=20):\n",
    "        # Number of topics to find\n",
    "        self.num_topics = num_topics\n",
    "        \n",
    "        # Number of passes over the data to make. More passes will ensure the convergence on the 'correct' \n",
    "        #  latent distribution of topics across documents and words across topics.\n",
    "        self.passes = passes\n",
    "        \n",
    "        # Initialize the tokenizer object\n",
    "        self.tokenizer = RegexpTokenizer(r'\\w+')\n",
    "\n",
    "        # Fetch an English stop words list from the NLTK package\n",
    "        self.en_stop = get_stop_words('en')\n",
    "\n",
    "        # Initialize a 'stemmer' object which will reduce words to 'stems'\n",
    "        self.stemmer = PorterStemmer()    \n",
    "\n",
    "    def transform(self, text_series):\n",
    "        '''Transforms a series of texts into a dictionary and a corpus, both saved as attributes of the object'''\n",
    "        self.text_series = text_series\n",
    "        \n",
    "        # Initialize empty list to contain tokenized strings\n",
    "        tokenized_text = []\n",
    "        \n",
    "        # Loop through text_series\n",
    "        for text in text_series:\n",
    "\n",
    "            # Turn each string into a series of lowercase words\n",
    "            raw = text.lower()\n",
    "            tokens = self.tokenizer.tokenize(raw)\n",
    "\n",
    "            # Remove stop words\n",
    "            tokens = [text for text in tokens if not text in self.en_stop]\n",
    "\n",
    "            # Turn words into 'stems,' to reduce the total number of unique words\n",
    "            tokens = [self.stemmer.stem(text) for text in tokens]\n",
    "\n",
    "            # Remove strings shorter than 4 elements\n",
    "            tokens = [text for text in tokens if len(text) > 3]\n",
    "\n",
    "            # Add tokens to list\n",
    "            tokenized_text.append(tokens)\n",
    "\n",
    "        # Create a id:term dictionary from our tokenized series of strings\n",
    "        self.dictionary = corpora.Dictionary(tokenized_text)\n",
    "\n",
    "        # Create a document-term matrix from our tokenized series of strings\n",
    "        self.corpus = [self.dictionary.doc2bow(text) for text in tokenized_text]   \n",
    "        \n",
    "     \n",
    "    def train_model(self):\n",
    "        '''Train the model. Uses Gensims multiple core version of the LDA model.''' \n",
    "        self.model = gensim.models.ldamulticore.LdaMulticore(self.corpus, num_topics=self.num_topics, id2word = self.dictionary, passes=self.passes)"
   ]
  },
  {
   "cell_type": "code",
   "execution_count": 175,
   "metadata": {
    "ExecuteTime": {
     "end_time": "2017-12-11T17:08:39.602995Z",
     "start_time": "2017-12-11T17:08:39.582942Z"
    }
   },
   "outputs": [],
   "source": [
    "def fetch_topic_string(topic, n_words=5, join=True):\n",
    "    '''Return a list of words charcterizing each topic'''\n",
    "    topic_words = [LDA.model.show_topic(topic)[i][0] for i in range(n_words)]\n",
    "    if join:\n",
    "        topic_words = ' '.join(topic_words)\n",
    "    return(topic_words)\n",
    "\n",
    "def fetch_doc_topic(document, n_words=5, num_topics=5):\n",
    "    '''Return the topic most represented by a text. Minimum string length (for error handling) is 5.'''\n",
    "    if type(document) != str:\n",
    "        return('')\n",
    "    if len(document) < 5:\n",
    "        return('')\n",
    "    probs = LDA.model[LDA.dictionary.doc2bow(document.split())]\n",
    "    probs = [probs[i][1] for i in range(num_topics)]\n",
    "    topic = np.argmax(probs)\n",
    "    return(fetch_topic_string(topic, n_words=n_words))"
   ]
  },
  {
   "cell_type": "code",
   "execution_count": 161,
   "metadata": {
    "ExecuteTime": {
     "end_time": "2017-12-11T15:39:54.573939Z",
     "start_time": "2017-12-11T15:39:46.140511Z"
    },
    "scrolled": true
   },
   "outputs": [
    {
     "name": "stderr",
     "output_type": "stream",
     "text": [
      "C:\\Users\\benps\\Anaconda3\\lib\\site-packages\\IPython\\core\\interactiveshell.py:2717: DtypeWarning: Columns (10) have mixed types. Specify dtype option on import or set low_memory=False.\n",
      "  interactivity=interactivity, compiler=compiler, result=result)\n"
     ]
    }
   ],
   "source": [
    "# Read in the data. Be careful with encoding! There are strang characters.\n",
    "facebook = pd.read_csv('assets/facebook_data.csv', encoding='ISO-8859-1', index_col=0)"
   ]
  },
  {
   "cell_type": "code",
   "execution_count": 162,
   "metadata": {
    "ExecuteTime": {
     "end_time": "2017-12-11T15:40:01.797960Z",
     "start_time": "2017-12-11T15:39:54.980367Z"
    }
   },
   "outputs": [],
   "source": [
    "def safe_string_add(*args):\n",
    "    '''Safely adds multiple strings, ignores non-string inputs.'''\n",
    "    string = ''\n",
    "    for arg in args:\n",
    "        if type(arg) == str:\n",
    "            string += ' ' + arg\n",
    "    return(string)        \n",
    "    \n",
    "# Create a column of all the text from each FB post\n",
    "facebook['Text'] = [safe_string_add(facebook['media_title'][i],\n",
    "         facebook['message'][i]) for i in range(facebook.shape[0])]\n"
   ]
  },
  {
   "cell_type": "code",
   "execution_count": 163,
   "metadata": {
    "ExecuteTime": {
     "end_time": "2017-12-11T15:40:02.233999Z",
     "start_time": "2017-12-11T15:40:02.215949Z"
    }
   },
   "outputs": [],
   "source": [
    "# Identify the unique brands represented\n",
    "brands = facebook['brand_name'].unique()"
   ]
  },
  {
   "cell_type": "code",
   "execution_count": 164,
   "metadata": {
    "ExecuteTime": {
     "end_time": "2017-12-11T15:40:02.789786Z",
     "start_time": "2017-12-11T15:40:02.780764Z"
    }
   },
   "outputs": [],
   "source": [
    "# Initiate new dataframe to store data.\n",
    "facebook_topics = pd.DataFrame(columns=list(facebook.columns) + ['Topic'])"
   ]
  },
  {
   "cell_type": "code",
   "execution_count": 165,
   "metadata": {
    "ExecuteTime": {
     "end_time": "2017-12-11T16:35:00.233504Z",
     "start_time": "2017-12-11T15:40:03.171801Z"
    }
   },
   "outputs": [
    {
     "name": "stdout",
     "output_type": "stream",
     "text": [
      "Glamor analyzed.\n"
     ]
    },
    {
     "name": "stderr",
     "output_type": "stream",
     "text": [
      "C:\\Users\\benps\\Anaconda3\\lib\\site-packages\\ipykernel_launcher.py:9: SettingWithCopyWarning: \n",
      "A value is trying to be set on a copy of a slice from a DataFrame.\n",
      "Try using .loc[row_indexer,col_indexer] = value instead\n",
      "\n",
      "See the caveats in the documentation: http://pandas.pydata.org/pandas-docs/stable/indexing.html#indexing-view-versus-copy\n",
      "  if __name__ == '__main__':\n"
     ]
    },
    {
     "name": "stdout",
     "output_type": "stream",
     "text": [
      "Teen_Vogue analyzed.\n",
      "Vanity_Fair analyzed.\n",
      "W_Magazine analyzed.\n",
      "Vogue analyzed.\n",
      "Onself analyzed.\n",
      "Conde_Naste_Traveler analyzed.\n",
      "Clever analyzed.\n",
      "Allure analyzed.\n"
     ]
    }
   ],
   "source": [
    "# For each brand, train an LDA model and assign each observation to one of 5 topics. Append to pre-existing dataframe.\n",
    "for brand in brands:\n",
    "    try:\n",
    "        brand_data = facebook[facebook['brand_name'] == brand]\n",
    "\n",
    "        LDA = LDA(num_topics=5, passes=20)\n",
    "        LDA.transform(brand_data['Text'])\n",
    "        LDA.train_model()\n",
    "        print(brand + ' analyzed.')\n",
    "        brand_data['Topic'] = [fetch_doc_topic(text, num_topics=5) for text in brand_data['Text']]\n",
    "        facebook_topics = facebook_topics.append(brand_data)\n",
    "        facebook_topics.to_csv('assets/fb_w_topics.csv')\n",
    "    except:\n",
    "        pass"
   ]
  },
  {
   "cell_type": "code",
   "execution_count": null,
   "metadata": {
    "ExecuteTime": {
     "end_time": "2017-12-11T17:00:26.134360Z",
     "start_time": "2017-12-11T16:42:26.926728Z"
    }
   },
   "outputs": [],
   "source": [
    "brand_data = facebook[facebook['brand_name'] == 'Glamor']\n",
    "\n",
    "LDA = LDA(num_topics=5, passes=100)\n",
    "LDA.transform(brand_data['Text'])\n",
    "LDA.train_model()\n",
    "print(brand + ' analyzed.')"
   ]
  },
  {
   "cell_type": "code",
   "execution_count": 194,
   "metadata": {
    "ExecuteTime": {
     "end_time": "2017-12-11T17:43:08.770849Z",
     "start_time": "2017-12-11T17:43:08.757816Z"
    }
   },
   "outputs": [
    {
     "data": {
      "text/plain": [
       "'women trump glamour photo http glmr just self magazin woman'"
      ]
     },
     "execution_count": 194,
     "metadata": {},
     "output_type": "execute_result"
    }
   ],
   "source": [
    "fetch_topic_string(0, n_words = 10)"
   ]
  },
  {
   "cell_type": "code",
   "execution_count": null,
   "metadata": {
    "ExecuteTime": {
     "end_time": "2017-12-11T17:09:38.959647Z",
     "start_time": "2017-12-11T17:09:15.180131Z"
    }
   },
   "outputs": [],
   "source": [
    "brand_data['Topic'] = "
   ]
  },
  {
   "cell_type": "code",
   "execution_count": 181,
   "metadata": {
    "ExecuteTime": {
     "end_time": "2017-12-11T17:35:33.456412Z",
     "start_time": "2017-12-11T17:35:09.096302Z"
    }
   },
   "outputs": [
    {
     "ename": "IndexError",
     "evalue": "list index out of range",
     "output_type": "error",
     "traceback": [
      "\u001b[1;31m---------------------------------------------------------------------------\u001b[0m",
      "\u001b[1;31mIndexError\u001b[0m                                Traceback (most recent call last)",
      "\u001b[1;32m<ipython-input-181-c1a0018eb3c9>\u001b[0m in \u001b[0;36m<module>\u001b[1;34m()\u001b[0m\n\u001b[1;32m----> 1\u001b[1;33m \u001b[1;33m[\u001b[0m\u001b[0mfetch_doc_topic\u001b[0m\u001b[1;33m(\u001b[0m\u001b[0mtext\u001b[0m\u001b[1;33m,\u001b[0m \u001b[0mnum_topics\u001b[0m\u001b[1;33m=\u001b[0m\u001b[1;36m5\u001b[0m\u001b[1;33m)\u001b[0m \u001b[1;32mfor\u001b[0m \u001b[0mtext\u001b[0m \u001b[1;32min\u001b[0m \u001b[0mbrand_data\u001b[0m\u001b[1;33m[\u001b[0m\u001b[1;34m'Text'\u001b[0m\u001b[1;33m]\u001b[0m\u001b[1;33m]\u001b[0m\u001b[1;33m\u001b[0m\u001b[0m\n\u001b[0m",
      "\u001b[1;32m<ipython-input-181-c1a0018eb3c9>\u001b[0m in \u001b[0;36m<listcomp>\u001b[1;34m(.0)\u001b[0m\n\u001b[1;32m----> 1\u001b[1;33m \u001b[1;33m[\u001b[0m\u001b[0mfetch_doc_topic\u001b[0m\u001b[1;33m(\u001b[0m\u001b[0mtext\u001b[0m\u001b[1;33m,\u001b[0m \u001b[0mnum_topics\u001b[0m\u001b[1;33m=\u001b[0m\u001b[1;36m5\u001b[0m\u001b[1;33m)\u001b[0m \u001b[1;32mfor\u001b[0m \u001b[0mtext\u001b[0m \u001b[1;32min\u001b[0m \u001b[0mbrand_data\u001b[0m\u001b[1;33m[\u001b[0m\u001b[1;34m'Text'\u001b[0m\u001b[1;33m]\u001b[0m\u001b[1;33m]\u001b[0m\u001b[1;33m\u001b[0m\u001b[0m\n\u001b[0m",
      "\u001b[1;32m<ipython-input-175-31a7193565a3>\u001b[0m in \u001b[0;36mfetch_doc_topic\u001b[1;34m(document, n_words, num_topics)\u001b[0m\n\u001b[0;32m     13\u001b[0m         \u001b[1;32mreturn\u001b[0m\u001b[1;33m(\u001b[0m\u001b[1;34m''\u001b[0m\u001b[1;33m)\u001b[0m\u001b[1;33m\u001b[0m\u001b[0m\n\u001b[0;32m     14\u001b[0m     \u001b[0mprobs\u001b[0m \u001b[1;33m=\u001b[0m \u001b[0mLDA\u001b[0m\u001b[1;33m.\u001b[0m\u001b[0mmodel\u001b[0m\u001b[1;33m[\u001b[0m\u001b[0mLDA\u001b[0m\u001b[1;33m.\u001b[0m\u001b[0mdictionary\u001b[0m\u001b[1;33m.\u001b[0m\u001b[0mdoc2bow\u001b[0m\u001b[1;33m(\u001b[0m\u001b[0mdocument\u001b[0m\u001b[1;33m.\u001b[0m\u001b[0msplit\u001b[0m\u001b[1;33m(\u001b[0m\u001b[1;33m)\u001b[0m\u001b[1;33m)\u001b[0m\u001b[1;33m]\u001b[0m\u001b[1;33m\u001b[0m\u001b[0m\n\u001b[1;32m---> 15\u001b[1;33m     \u001b[0mprobs\u001b[0m \u001b[1;33m=\u001b[0m \u001b[1;33m[\u001b[0m\u001b[0mprobs\u001b[0m\u001b[1;33m[\u001b[0m\u001b[0mi\u001b[0m\u001b[1;33m]\u001b[0m\u001b[1;33m[\u001b[0m\u001b[1;36m1\u001b[0m\u001b[1;33m]\u001b[0m \u001b[1;32mfor\u001b[0m \u001b[0mi\u001b[0m \u001b[1;32min\u001b[0m \u001b[0mrange\u001b[0m\u001b[1;33m(\u001b[0m\u001b[0mnum_topics\u001b[0m\u001b[1;33m)\u001b[0m\u001b[1;33m]\u001b[0m\u001b[1;33m\u001b[0m\u001b[0m\n\u001b[0m\u001b[0;32m     16\u001b[0m     \u001b[0mtopic\u001b[0m \u001b[1;33m=\u001b[0m \u001b[0mnp\u001b[0m\u001b[1;33m.\u001b[0m\u001b[0margmax\u001b[0m\u001b[1;33m(\u001b[0m\u001b[0mprobs\u001b[0m\u001b[1;33m)\u001b[0m\u001b[1;33m\u001b[0m\u001b[0m\n\u001b[0;32m     17\u001b[0m     \u001b[1;32mreturn\u001b[0m\u001b[1;33m(\u001b[0m\u001b[0mfetch_topic_string\u001b[0m\u001b[1;33m(\u001b[0m\u001b[0mtopic\u001b[0m\u001b[1;33m,\u001b[0m \u001b[0mn_words\u001b[0m\u001b[1;33m=\u001b[0m\u001b[0mn_words\u001b[0m\u001b[1;33m)\u001b[0m\u001b[1;33m)\u001b[0m\u001b[1;33m\u001b[0m\u001b[0m\n",
      "\u001b[1;32m<ipython-input-175-31a7193565a3>\u001b[0m in \u001b[0;36m<listcomp>\u001b[1;34m(.0)\u001b[0m\n\u001b[0;32m     13\u001b[0m         \u001b[1;32mreturn\u001b[0m\u001b[1;33m(\u001b[0m\u001b[1;34m''\u001b[0m\u001b[1;33m)\u001b[0m\u001b[1;33m\u001b[0m\u001b[0m\n\u001b[0;32m     14\u001b[0m     \u001b[0mprobs\u001b[0m \u001b[1;33m=\u001b[0m \u001b[0mLDA\u001b[0m\u001b[1;33m.\u001b[0m\u001b[0mmodel\u001b[0m\u001b[1;33m[\u001b[0m\u001b[0mLDA\u001b[0m\u001b[1;33m.\u001b[0m\u001b[0mdictionary\u001b[0m\u001b[1;33m.\u001b[0m\u001b[0mdoc2bow\u001b[0m\u001b[1;33m(\u001b[0m\u001b[0mdocument\u001b[0m\u001b[1;33m.\u001b[0m\u001b[0msplit\u001b[0m\u001b[1;33m(\u001b[0m\u001b[1;33m)\u001b[0m\u001b[1;33m)\u001b[0m\u001b[1;33m]\u001b[0m\u001b[1;33m\u001b[0m\u001b[0m\n\u001b[1;32m---> 15\u001b[1;33m     \u001b[0mprobs\u001b[0m \u001b[1;33m=\u001b[0m \u001b[1;33m[\u001b[0m\u001b[0mprobs\u001b[0m\u001b[1;33m[\u001b[0m\u001b[0mi\u001b[0m\u001b[1;33m]\u001b[0m\u001b[1;33m[\u001b[0m\u001b[1;36m1\u001b[0m\u001b[1;33m]\u001b[0m \u001b[1;32mfor\u001b[0m \u001b[0mi\u001b[0m \u001b[1;32min\u001b[0m \u001b[0mrange\u001b[0m\u001b[1;33m(\u001b[0m\u001b[0mnum_topics\u001b[0m\u001b[1;33m)\u001b[0m\u001b[1;33m]\u001b[0m\u001b[1;33m\u001b[0m\u001b[0m\n\u001b[0m\u001b[0;32m     16\u001b[0m     \u001b[0mtopic\u001b[0m \u001b[1;33m=\u001b[0m \u001b[0mnp\u001b[0m\u001b[1;33m.\u001b[0m\u001b[0margmax\u001b[0m\u001b[1;33m(\u001b[0m\u001b[0mprobs\u001b[0m\u001b[1;33m)\u001b[0m\u001b[1;33m\u001b[0m\u001b[0m\n\u001b[0;32m     17\u001b[0m     \u001b[1;32mreturn\u001b[0m\u001b[1;33m(\u001b[0m\u001b[0mfetch_topic_string\u001b[0m\u001b[1;33m(\u001b[0m\u001b[0mtopic\u001b[0m\u001b[1;33m,\u001b[0m \u001b[0mn_words\u001b[0m\u001b[1;33m=\u001b[0m\u001b[0mn_words\u001b[0m\u001b[1;33m)\u001b[0m\u001b[1;33m)\u001b[0m\u001b[1;33m\u001b[0m\u001b[0m\n",
      "\u001b[1;31mIndexError\u001b[0m: list index out of range"
     ]
    }
   ],
   "source": [
    "[fetch_doc_topic(text, num_topics=5) for text in brand_data['Text']]"
   ]
  },
  {
   "cell_type": "code",
   "execution_count": 179,
   "metadata": {
    "ExecuteTime": {
     "end_time": "2017-12-11T17:09:03.962131Z",
     "start_time": "2017-12-11T17:09:03.948124Z"
    }
   },
   "outputs": [
    {
     "data": {
      "text/plain": [
       "'women trump glamour photo http'"
      ]
     },
     "execution_count": 179,
     "metadata": {},
     "output_type": "execute_result"
    }
   ],
   "source": [
    "fetch_doc_topic('trump clinton', num_topics=5)"
   ]
  },
  {
   "cell_type": "code",
   "execution_count": 170,
   "metadata": {
    "ExecuteTime": {
     "end_time": "2017-12-10T19:18:34.503994Z",
     "start_time": "2017-12-10T19:18:34.453862Z"
    }
   },
   "outputs": [
    {
     "data": {
      "text/html": [
       "\n",
       "<link rel=\"stylesheet\" type=\"text/css\" href=\"https://cdn.rawgit.com/bmabey/pyLDAvis/files/ldavis.v1.0.0.css\">\n",
       "\n",
       "\n",
       "<div id=\"ldavis_el1802423213768501123713242331\"></div>\n",
       "<script type=\"text/javascript\">\n",
       "\n",
       "var ldavis_el1802423213768501123713242331_data = {\"mdsDat\": {\"Freq\": [22.93323257032076, 22.19358245930728, 19.31453934505382, 18.554396897803475, 17.00424872751467], \"cluster\": [1, 1, 1, 1, 1], \"topics\": [1, 2, 3, 4, 5], \"x\": [-0.03189927403525521, 0.13795094476644235, -0.10911100321981228, 0.11793501958398624, -0.11487568709536145], \"y\": [0.12182297393103467, -0.035124118231815146, 0.04630668992718773, -0.006421802268136223, -0.12658374335827105]}, \"tinfo\": {\"Category\": [\"Default\", \"Default\", \"Default\", \"Default\", \"Default\", \"Default\", \"Default\", \"Default\", \"Default\", \"Default\", \"Default\", \"Default\", \"Default\", \"Default\", \"Default\", \"Default\", \"Default\", \"Default\", \"Default\", \"Default\", \"Default\", \"Default\", \"Default\", \"Default\", \"Default\", \"Default\", \"Default\", \"Default\", \"Default\", \"Default\", \"Topic1\", \"Topic1\", \"Topic1\", \"Topic1\", \"Topic1\", \"Topic1\", \"Topic1\", \"Topic1\", \"Topic1\", \"Topic1\", \"Topic1\", \"Topic1\", \"Topic1\", \"Topic1\", \"Topic1\", \"Topic1\", \"Topic1\", \"Topic1\", \"Topic1\", \"Topic1\", \"Topic1\", \"Topic1\", \"Topic1\", \"Topic1\", \"Topic1\", \"Topic1\", \"Topic1\", \"Topic1\", \"Topic1\", \"Topic1\", \"Topic1\", \"Topic1\", \"Topic1\", \"Topic1\", \"Topic1\", \"Topic1\", \"Topic1\", \"Topic1\", \"Topic1\", \"Topic1\", \"Topic1\", \"Topic1\", \"Topic1\", \"Topic1\", \"Topic1\", \"Topic1\", \"Topic1\", \"Topic1\", \"Topic1\", \"Topic1\", \"Topic1\", \"Topic1\", \"Topic1\", \"Topic1\", \"Topic1\", \"Topic1\", \"Topic1\", \"Topic1\", \"Topic1\", \"Topic1\", \"Topic1\", \"Topic1\", \"Topic1\", \"Topic1\", \"Topic1\", \"Topic1\", \"Topic1\", \"Topic1\", \"Topic1\", \"Topic1\", \"Topic1\", \"Topic1\", \"Topic1\", \"Topic1\", \"Topic2\", \"Topic2\", \"Topic2\", \"Topic2\", \"Topic2\", \"Topic2\", \"Topic2\", \"Topic2\", \"Topic2\", \"Topic2\", \"Topic2\", \"Topic2\", \"Topic2\", \"Topic2\", \"Topic2\", \"Topic2\", \"Topic2\", \"Topic2\", \"Topic2\", \"Topic2\", \"Topic2\", \"Topic2\", \"Topic2\", \"Topic2\", \"Topic2\", \"Topic2\", \"Topic2\", \"Topic2\", \"Topic2\", \"Topic2\", \"Topic2\", \"Topic2\", \"Topic2\", \"Topic2\", \"Topic2\", \"Topic2\", \"Topic2\", \"Topic2\", \"Topic2\", \"Topic2\", \"Topic2\", \"Topic2\", \"Topic2\", \"Topic2\", \"Topic2\", \"Topic2\", \"Topic2\", \"Topic2\", \"Topic2\", \"Topic2\", \"Topic2\", \"Topic2\", \"Topic2\", \"Topic2\", \"Topic2\", \"Topic2\", \"Topic2\", \"Topic2\", \"Topic2\", \"Topic2\", \"Topic2\", \"Topic2\", \"Topic2\", \"Topic2\", \"Topic2\", \"Topic2\", \"Topic2\", \"Topic2\", \"Topic2\", \"Topic2\", \"Topic2\", \"Topic2\", \"Topic2\", \"Topic2\", \"Topic2\", \"Topic2\", \"Topic2\", \"Topic2\", \"Topic2\", \"Topic2\", \"Topic2\", \"Topic2\", \"Topic3\", \"Topic3\", \"Topic3\", \"Topic3\", \"Topic3\", \"Topic3\", \"Topic3\", \"Topic3\", \"Topic3\", \"Topic3\", \"Topic3\", \"Topic3\", \"Topic3\", \"Topic3\", \"Topic3\", \"Topic3\", \"Topic3\", \"Topic3\", \"Topic3\", \"Topic3\", \"Topic3\", \"Topic3\", \"Topic3\", \"Topic3\", \"Topic3\", \"Topic3\", \"Topic3\", \"Topic3\", \"Topic3\", \"Topic3\", \"Topic3\", \"Topic3\", \"Topic3\", \"Topic3\", \"Topic3\", \"Topic3\", \"Topic3\", \"Topic3\", \"Topic3\", \"Topic3\", \"Topic3\", \"Topic3\", \"Topic3\", \"Topic3\", \"Topic3\", \"Topic3\", \"Topic3\", \"Topic3\", \"Topic3\", \"Topic3\", \"Topic3\", \"Topic3\", \"Topic3\", \"Topic3\", \"Topic3\", \"Topic3\", \"Topic3\", \"Topic3\", \"Topic3\", \"Topic3\", \"Topic3\", \"Topic3\", \"Topic3\", \"Topic3\", \"Topic3\", \"Topic3\", \"Topic3\", \"Topic3\", \"Topic4\", \"Topic4\", \"Topic4\", \"Topic4\", \"Topic4\", \"Topic4\", \"Topic4\", \"Topic4\", \"Topic4\", \"Topic4\", \"Topic4\", \"Topic4\", \"Topic4\", \"Topic4\", \"Topic4\", \"Topic4\", \"Topic4\", \"Topic4\", \"Topic4\", \"Topic4\", \"Topic4\", \"Topic4\", \"Topic4\", \"Topic4\", \"Topic4\", \"Topic4\", \"Topic4\", \"Topic4\", \"Topic4\", \"Topic4\", \"Topic4\", \"Topic4\", \"Topic4\", \"Topic4\", \"Topic4\", \"Topic4\", \"Topic4\", \"Topic4\", \"Topic4\", \"Topic4\", \"Topic4\", \"Topic4\", \"Topic4\", \"Topic4\", \"Topic4\", \"Topic4\", \"Topic4\", \"Topic4\", \"Topic4\", \"Topic4\", \"Topic4\", \"Topic4\", \"Topic4\", \"Topic4\", \"Topic4\", \"Topic4\", \"Topic4\", \"Topic4\", \"Topic4\", \"Topic4\", \"Topic4\", \"Topic4\", \"Topic4\", \"Topic4\", \"Topic4\", \"Topic4\", \"Topic4\", \"Topic4\", \"Topic4\", \"Topic4\", \"Topic4\", \"Topic4\", \"Topic4\", \"Topic4\", \"Topic4\", \"Topic4\", \"Topic4\", \"Topic4\", \"Topic4\", \"Topic4\", \"Topic5\", \"Topic5\", \"Topic5\", \"Topic5\", \"Topic5\", \"Topic5\", \"Topic5\", \"Topic5\", \"Topic5\", \"Topic5\", \"Topic5\", \"Topic5\", \"Topic5\", \"Topic5\", \"Topic5\", \"Topic5\", \"Topic5\", \"Topic5\", \"Topic5\", \"Topic5\", \"Topic5\", \"Topic5\", \"Topic5\", \"Topic5\", \"Topic5\", \"Topic5\", \"Topic5\", \"Topic5\", \"Topic5\", \"Topic5\", \"Topic5\", \"Topic5\", \"Topic5\", \"Topic5\", \"Topic5\", \"Topic5\", \"Topic5\", \"Topic5\", \"Topic5\", \"Topic5\", \"Topic5\", \"Topic5\", \"Topic5\", \"Topic5\", \"Topic5\", \"Topic5\", \"Topic5\", \"Topic5\", \"Topic5\", \"Topic5\", \"Topic5\", \"Topic5\", \"Topic5\", \"Topic5\", \"Topic5\", \"Topic5\", \"Topic5\", \"Topic5\", \"Topic5\", \"Topic5\", \"Topic5\", \"Topic5\", \"Topic5\"], \"Freq\": [5000.0, 1933.0, 1911.0, 1822.0, 1075.0, 915.0, 871.0, 1108.0, 1085.0, 1061.0, 849.0, 642.0, 787.0, 379.0, 497.0, 353.0, 501.0, 523.0, 305.0, 305.0, 610.0, 285.0, 261.0, 234.0, 385.0, 237.0, 650.0, 636.0, 278.0, 275.0, 166.5211828084626, 59.147416608632845, 71.53191902077613, 49.064611985650835, 54.78263807683443, 102.75207006208134, 36.458493961104054, 81.2580842310997, 892.2183622383376, 26.43355311037814, 25.124691261623685, 59.07329755841719, 33.1385484240629, 23.819785733215518, 21.72287851545896, 29.23193267204918, 22.81121943357477, 24.052117263698698, 268.8783456900356, 23.870140630564894, 21.96589313331961, 105.40204636550722, 22.350577162433915, 233.1343512641972, 22.45510648273278, 17.95180529544726, 52.25376317578667, 17.386204851935194, 23.1935389864902, 18.505834180311307, 1010.553093238379, 169.00322015843304, 87.35120382647793, 597.5946663612704, 96.8958962178969, 344.9812803477084, 42.103634588006614, 42.2052350652953, 50.54525715528148, 52.19591668697704, 423.30733478607107, 143.95494360511174, 181.65778579218633, 62.28487867350855, 230.1133124333167, 174.44507718444336, 108.82651095252953, 84.95489163837968, 199.3449632312425, 440.83558034245306, 198.7780160901385, 171.60267890703568, 172.03824146482222, 483.5338325747185, 101.61433209865699, 339.43377527683936, 538.7729828595726, 103.18183408780422, 178.35756566360706, 166.2582782191029, 313.13429550308877, 361.1212529441307, 305.5458845744143, 189.39321081752402, 227.21686384577438, 272.898962994279, 170.42663487598924, 234.40729145519842, 228.18053291909146, 208.92328190200843, 186.7651167888991, 179.70648677674092, 178.41616406167293, 174.893629602321, 54.78120025270723, 124.00035599281773, 98.41824081181619, 44.12300631861269, 58.92635269466566, 87.7467062034919, 59.0404350427346, 125.71357111922099, 131.34145680592476, 31.915026566717003, 109.57218013772948, 96.47091248021998, 63.46998464970382, 29.301755408151852, 26.712805209185365, 29.820533156225874, 20.668536019171, 61.08390731106262, 29.887850066780626, 19.247984995829434, 22.01135686929006, 18.31393462247907, 26.43798640230425, 18.19107394116473, 29.53336472628743, 17.72210299650291, 15.95910816203658, 35.25705576575434, 20.4912080585099, 17.660198459571877, 136.61526026982673, 41.936341216620356, 29.463373688499694, 86.70687066689423, 67.99359398749684, 150.0526781384981, 32.604129394243195, 65.77630804551902, 32.68733826430012, 108.18602470820205, 142.3440192663651, 84.85668180592712, 2899.4810531810836, 70.14048737427505, 64.9183706770837, 143.41407879009765, 1004.4121256230302, 79.0431992671121, 86.92987854788184, 93.65363949438404, 309.572113130058, 305.7520117576098, 327.5463009152761, 125.87954566252314, 107.11185821250686, 126.51104747255184, 170.7367205994245, 147.069541422108, 131.68080629791106, 267.9375873287681, 193.79744442795817, 217.40940304601023, 182.2627728608456, 347.6851868187011, 306.29866886304546, 154.2859767328727, 251.6066855532525, 196.17973343726985, 224.91356130262443, 171.93625297542516, 158.47266906490879, 173.9158232322814, 197.17293442840997, 188.3767068566657, 147.52152228061433, 154.22218476599406, 154.74807141551165, 170.95069905278262, 159.818263100822, 158.60116813651075, 148.60105775528027, 156.8305593473468, 235.6140249439611, 376.3214753239372, 121.18448326925883, 79.92013886679906, 120.17092436948967, 72.23771300924643, 73.49488142954934, 189.615530244026, 74.00738940730601, 42.7759741334401, 38.903975996769915, 39.33154426481508, 35.52053135406107, 38.303589190021924, 79.02090176102755, 37.74263601528943, 37.62913070882838, 28.05691052881882, 31.521702808791645, 32.09099157357907, 51.12310490492869, 50.21610963389328, 43.24983171962309, 46.27500862956097, 23.83590640097483, 294.46224275599025, 21.7381314648585, 20.466086867992715, 120.41338090232043, 22.940512084671294, 336.09146642591276, 87.85934229873912, 226.75607593411598, 62.62095659308292, 56.701824587871236, 114.1947116550824, 97.10952173051707, 407.5799905103097, 248.22881694546848, 146.24141412773307, 175.51712301311193, 116.13076526028235, 131.98053302872822, 415.3457224097485, 122.97737829932855, 589.409525572838, 262.1941563007358, 466.9502136794123, 110.63266508540721, 247.32006285541385, 499.5102526078241, 488.6264135346159, 387.87889854534734, 263.64324997631206, 352.4834021209463, 267.65071746182724, 282.57379070035023, 149.87841473954774, 277.2344048876107, 138.70708479832012, 306.7104482692638, 232.55975504406794, 191.4877625607331, 186.20344464345274, 171.29782687286558, 187.14854412904072, 159.65863034486102, 164.50144077752674, 44.58000561010714, 48.15041294717374, 32.121280483380716, 36.82524841976704, 38.11683196483076, 28.53019270360343, 36.777910848432626, 41.614944993506164, 23.562662193268814, 22.61298566194527, 40.5152741652041, 48.044171844748156, 31.76977222464311, 51.10398743466631, 18.891985937475884, 17.500353359814884, 16.170736874279942, 15.073992287915658, 19.445738611526515, 20.60428104211492, 15.536340175725096, 20.706357866733487, 16.490825221887512, 13.552029991452413, 13.27437525537701, 13.268480187245428, 17.481394645228388, 14.036137900290031, 12.828676483965156, 15.255982223064363, 268.8026041169322, 282.9683627293225, 63.7271190442827, 89.408182034391, 16.72741017014763, 15.871330173051993, 59.81154720394248, 141.46704295448882, 50.83105506938456, 49.65008736153165, 37.344653839959, 24.253314809774114, 51.249549584310856, 164.25660701730828, 49.37644300675056, 135.09519373606093, 52.975676349338165, 238.48079187830922, 85.28738282302835, 1960.6566242499973, 185.48879610835507, 811.2010531310362, 241.3419983593143, 77.80434675122149, 104.7943066346162, 126.04513731270255, 255.4324639734791, 89.45608346804588, 263.87216953656565, 227.90170259971208, 63.88487728596222, 282.4673161717533, 250.30618336263865, 151.39444828099857, 127.15491608280401, 143.99254197865895, 76.42198641395332, 111.55604855492246, 251.25173060948813, 86.2487898983539, 136.8606618628317, 122.3410189151655, 137.52046766941814, 142.76373155194176, 103.49708143575715, 115.65617892621214, 121.74964686633166, 118.45866553653633, 113.43453525247067, 113.42084452016239, 169.8824724683127, 48.95577431202373, 139.21511460119928, 229.9374123519274, 174.02534192806039, 36.172708273613516, 32.08614705929469, 67.73294301748325, 66.24372764515728, 28.271314010928833, 32.33203204050064, 23.77839755560286, 100.99581491709665, 100.15360904822496, 21.62743986553973, 24.901151264519957, 56.48707552723797, 66.48285057119249, 19.55477150866047, 19.19142771197446, 19.319109775338777, 43.93408711690217, 125.69865836870964, 19.36919813488537, 19.819828971681364, 17.899705789950005, 16.841640824654544, 16.94740200302665, 15.53399064121333, 16.817324986235047, 246.78204607279528, 1741.9477945938884, 1749.827326533054, 119.78796163868431, 238.65355440954386, 235.5122136982952, 693.2338624674237, 116.47559116901216, 45.52488246821249, 223.13539375854234, 372.7259018573072, 48.689825815444344, 38.98676458301606, 472.7261183315359, 42.09713442862656, 539.5004961779076, 547.3487954987548, 235.41959719424716, 486.6808106512489, 304.43971807424117, 377.2714707541509, 153.4267661136943, 260.6971092255833, 189.3393715933433, 168.07799139947056, 208.10166653903116, 143.9463139328586, 189.82602491901736, 148.7450331460015, 176.02547385392097, 150.76438255384772, 153.52977495880185, 143.72979676301986], \"Term\": [\"trump\", \"fair\", \"vanity\", \"donald\", \"game\", \"thrones\", \"hive\", \"photos\", \"http\", \"vntyfr\", \"timeline\", \"prince\", \"clinton\", \"jennifer\", \"hillary\", \"taylor\", \"kate\", \"american\", \"swift\", \"valley\", \"oscar\", \"silicon\", \"golden\", \"vanities\", \"harry\", \"lawrence\", \"president\", \"story\", \"middleton\", \"dicaprio\", \"bieber\", \"harington\", \"batman\", \"superman\", \"marissa\", \"duchess\", \"pok\\u00e9mon\", \"snow\", \"thrones\", \"tremblay\", \"shkreli\", \"cambridge\", \"ridley\", \"tatiana\", \"emilia\", \"fifty\", \"maslany\", \"daisy\", \"middleton\", \"kimmy\", \"freeman\", \"gilmore\", \"hodor\", \"william\", \"schmidt\", \"kramer\", \"manuel\", \"bridge\", \"logan\", \"orphan\", \"game\", \"zuckerberg\", \"charlotte\", \"prince\", \"outlander\", \"harry\", \"pippa\", \"canada\", \"benedict\", \"cumberbatch\", \"kate\", \"royal\", \"princess\", \"westworld\", \"justin\", \"girls\", \"hamilton\", \"diana\", \"black\", \"season\", \"james\", \"uber\", \"trailer\", \"star\", \"angelina\", \"movie\", \"will\", \"jolie\", \"mark\", \"wars\", \"show\", \"just\", \"watch\", \"love\", \"world\", \"first\", \"george\", \"time\", \"hollywood\", \"best\", \"life\", \"might\", \"real\", \"back\", \"hathaway\", \"johnny\", \"anne\", \"jerry\", \"union\", \"alec\", \"rowling\", \"depp\", \"weinstein\", \"ronan\", \"harvey\", \"baldwin\", \"ailes\", \"jagger\", \"monica\", \"saoirse\", \"bourne\", \"holmes\", \"katie\", \"poppins\", \"lewinsky\", \"mcnally\", \"rashida\", \"funding\", \"reince\", \"bump\", \"bundy\", \"romney\", \"garry\", \"selma\", \"kushner\", \"cohn\", \"priebus\", \"spicer\", \"harassment\", \"sexual\", \"mitt\", \"roger\", \"airbnb\", \"seth\", \"sean\", \"putin\", \"trump\", \"theranos\", \"allegations\", \"jared\", \"donald\", \"health\", \"bannon\", \"jimmy\", \"house\", \"white\", \"president\", \"state\", \"melania\", \"company\", \"million\", \"saturday\", \"sanders\", \"night\", \"news\", \"live\", \"twitter\", \"will\", \"just\", \"jenner\", \"like\", \"even\", \"show\", \"beyonc\\u00e9\", \"america\", \"take\", \"back\", \"says\", \"reportedly\", \"campaign\", \"real\", \"hive\", \"people\", \"make\", \"women\", \"fair\", \"lawrence\", \"jennifer\", \"paltrow\", \"tatum\", \"gwyneth\", \"channing\", \"spears\", \"gaga\", \"britney\", \"grease\", \"marcia\", \"spielberg\", \"malik\", \"connections\", \"hiddleston\", \"india\", \"idol\", \"rupert\", \"jaden\", \"goop\", \"vikander\", \"aniston\", \"lopez\", \"portfolio\", \"fabulous\", \"swift\", \"crushing\", \"sight\", \"smith\", \"palin\", \"taylor\", \"kidman\", \"simpson\", \"alicia\", \"paulson\", \"nicole\", \"dressed\", \"american\", \"lady\", \"michelle\", \"horror\", \"lively\", \"cannes\", \"story\", \"scenes\", \"photos\", \"fashion\", \"timeline\", \"crime\", \"behind\", \"http\", \"vntyfr\", \"hollywood\", \"obama\", \"best\", \"film\", \"year\", \"cover\", \"first\", \"carpet\", \"will\", \"watch\", \"oscar\", \"2016\", \"look\", \"like\", \"week\", \"movie\", \"sarandon\", \"hemsworth\", \"francis\", \"vice\", \"huma\", \"carolina\", \"abedin\", \"niro\", \"edith\", \"hampshire\", \"springsteen\", \"kasich\", \"flynn\", \"thiel\", \"dern\", \"dominick\", \"correctness\", \"quinn\", \"nashville\", \"pattinson\", \"ramsey\", \"georgia\", \"jonben\\u00e9t\", \"harley\", \"militia\", \"roses\", \"mccain\", \"primaries\", \"tyga\", \"apron\", \"silicon\", \"valley\", \"turner\", \"christie\", \"haley\", \"mccartney\", \"sophie\", \"robert\", \"senator\", \"susan\", \"interest\", \"diaries\", \"manager\", \"chris\", \"bruce\", \"republican\", \"fund\", \"john\", \"megyn\", \"trump\", \"election\", \"donald\", \"campaign\", \"oliver\", \"presidential\", \"kelly\", \"president\", \"billionaire\", \"like\", \"clinton\", \"peter\", \"just\", \"star\", \"news\", \"york\", \"another\", \"wife\", \"wars\", \"will\", \"paul\", \"obama\", \"west\", \"says\", \"night\", \"former\", \"last\", \"show\", \"time\", \"life\", \"movie\", \"globes\", \"amal\", \"clooney\", \"vanities\", \"emma\", \"gwen\", \"stefani\", \"helen\", \"mirren\", \"cindy\", \"alan\", \"rickman\", \"downton\", \"abbey\", \"brussels\", \"fuller\", \"crawford\", \"watson\", \"kendrick\", \"picasso\", \"boston\", \"monroe\", \"stone\", \"spiegel\", \"shelton\", \"douglas\", \"goldberg\", \"levitt\", \"whoopi\", \"didion\", \"golden\", \"vanity\", \"fair\", \"portrait\", \"dicaprio\", \"leonardo\", \"hive\", \"studio\", \"seliger\", \"walking\", \"hillary\", \"winslet\", \"nast\", \"clinton\", \"globe\", \"vntyfr\", \"http\", \"dead\", \"photos\", \"oscar\", \"timeline\", \"instagram\", \"2016\", \"party\", \"things\", \"year\", \"george\", \"watch\", \"inside\", \"first\", \"time\", \"just\", \"season\"], \"Total\": [5000.0, 1933.0, 1911.0, 1822.0, 1075.0, 915.0, 871.0, 1108.0, 1085.0, 1061.0, 849.0, 642.0, 787.0, 379.0, 497.0, 353.0, 501.0, 523.0, 305.0, 305.0, 610.0, 285.0, 261.0, 234.0, 385.0, 237.0, 650.0, 636.0, 278.0, 275.0, 168.32607753459396, 59.98467604498506, 72.7510845933637, 49.93675520606683, 55.79054284744056, 104.73741886858045, 37.23673425836106, 83.00408698194454, 915.1483925850897, 27.2024889438007, 25.876714299558426, 60.86162188721482, 34.165666844044935, 24.62790252766745, 22.472921078093137, 30.272150138876864, 23.628424650835225, 24.926941249785422, 278.76073661696427, 24.76226244546299, 22.807007770267152, 109.62921252925041, 23.25643955847734, 242.6657027779158, 23.390725363716708, 18.70171950182104, 54.4753584798607, 18.142239710518986, 24.20637712181564, 19.33644194916435, 1075.158365782523, 178.21093618269646, 91.91230508657803, 642.6063889130031, 103.69832236626733, 385.5189456438971, 44.38042871320374, 44.55450878036117, 53.72117876288436, 55.59261722283529, 501.4640572914796, 161.8226541268644, 212.89582076584355, 68.31384349093865, 278.4860470610796, 217.00288431105233, 136.31443819591732, 102.00250667901872, 286.42363497891756, 767.8330159250163, 297.6668340777976, 249.52065652561177, 251.30440894570867, 1020.5792889661898, 131.22280794604097, 710.2640441082798, 1582.4084949552616, 136.75569256574357, 317.0856689382367, 284.77338784961364, 841.6229105075508, 1240.5197608033707, 941.4536525015751, 419.00783542323416, 626.3496856995162, 947.491759632141, 353.5938548119282, 775.416562522023, 829.4986923354521, 806.2351917096582, 618.9444926349886, 433.06395738635575, 446.0178934376318, 704.7459067819981, 55.83117990535553, 126.44782275973787, 100.5148933115882, 45.09857462688398, 60.27029025475806, 89.8235564672954, 60.539529902928074, 128.92654448741345, 134.76004050720294, 32.74959562395048, 112.72917765003045, 99.30237080963369, 65.40517370666886, 30.275056523275165, 27.626711672112055, 30.87017492382938, 21.400275665433625, 63.38441492324772, 31.021938441111864, 19.985168531299333, 22.8743919830715, 19.046355470837117, 27.639983627271626, 19.022045844232643, 30.916202211106402, 18.552898974296244, 16.708797091849622, 36.91387436368908, 21.458891910401363, 18.521192487393744, 144.18292457372507, 44.08683283901949, 30.90713992396963, 91.97108257182445, 72.42365738086558, 163.0510364935255, 34.32577044644807, 70.92596642954445, 34.579375685976096, 122.34627718902372, 166.5614239813124, 97.61601963686556, 5000.347669319375, 80.26970057748885, 74.27635288489087, 186.2884134858123, 1822.9224492279254, 95.6796106534746, 107.65233121721899, 119.0474844248497, 551.7798370969878, 563.0981419892212, 650.7653298982364, 181.2712596747629, 146.9263467980193, 186.9181881033839, 300.52115381136025, 242.9413473700625, 218.0483614178743, 715.349229188159, 435.76269297019894, 553.7158792918974, 434.3902426392589, 1582.4084949552616, 1240.5197608033707, 320.16378134978135, 988.0160085400291, 599.8810185670906, 841.6229105075508, 440.12799868187545, 367.1630032837625, 480.70665700533135, 704.7459067819981, 618.9636828583193, 331.09464217004745, 428.73004143125195, 446.0178934376318, 871.8009952748303, 627.061966614928, 595.9610735828547, 415.909647567459, 1933.8502919859973, 237.45335821180197, 379.272682555831, 122.57458544141156, 80.93987296952463, 121.70916435109055, 73.26221552821112, 74.73999983915552, 192.83004666627934, 75.31234301767864, 43.54703296954018, 39.71478735409478, 40.15807990577305, 36.29909241380352, 39.15118617696937, 80.93244154653627, 38.65595529477501, 38.625519411434155, 28.836765092718995, 32.40639234481868, 32.998733831039466, 52.637874849850995, 51.73921837366669, 44.63028359693946, 47.80688771334075, 24.67630488646445, 305.45387817285865, 22.555490369111205, 21.257111004588285, 125.10817219129721, 23.85769024930676, 353.33157921262426, 91.49163234458783, 239.98254225820176, 65.59698850798723, 59.761789292888146, 123.94272484074631, 107.35321488094672, 523.2223536511395, 309.18094441274457, 172.71492741874255, 214.49267783573964, 140.178982972419, 163.45483345160818, 636.8047386409377, 159.09393253907058, 1108.1808175806664, 408.64790006144574, 849.3640893600273, 143.07780669262854, 417.4150036610155, 1085.946365716662, 1061.5820972157135, 829.4986923354521, 493.684776290246, 806.2351917096582, 542.9497435837504, 729.1674216635644, 241.5643225083593, 947.491759632141, 212.82203338821307, 1582.4084949552616, 941.4536525015751, 610.5325916227916, 671.7905718714683, 546.3769128983273, 988.0160085400291, 480.8894468788078, 710.2640441082798, 45.44086305011069, 49.291347361891155, 32.910101501238614, 37.81182827387554, 39.17632845360244, 29.346686897085945, 37.89756833432647, 43.00532142888037, 24.350828132727056, 23.398943595191927, 41.97114656288926, 49.779272181605144, 33.05814672954378, 53.20369368130341, 19.699220821904117, 18.30389664189269, 16.939199129176988, 15.820999698079682, 20.418675312083117, 21.66424653808353, 16.365071267557678, 21.816234058718916, 17.376061745984003, 14.297829825228655, 14.033134694239122, 14.032162488342513, 18.492029037297936, 14.849835957896566, 13.57830857799246, 16.147650709316007, 285.7083558317342, 305.55955686390934, 68.81780594259567, 97.8734518554782, 17.741640147204095, 16.816345525890853, 66.43860213172096, 167.30980918049926, 58.861570515920064, 57.68599893079107, 42.339161756103, 26.529848579524366, 61.189773489492445, 228.32800957490178, 59.24465767282634, 191.3197632961846, 65.15207086693599, 381.2209261135477, 113.7898341758482, 5000.347669319375, 298.73567083139784, 1822.9224492279254, 428.73004143125195, 108.58064517469974, 172.39240769816504, 226.36059371383453, 650.7653298982364, 147.46499619642748, 988.0160085400291, 787.3123899801712, 91.16568914023453, 1240.5197608033707, 1020.5792889661898, 435.76269297019894, 317.6063644711579, 398.6976146238305, 126.03347805934627, 284.77338784961364, 1582.4084949552616, 167.1155295851868, 493.684776290246, 442.48238824826393, 618.9636828583193, 715.349229188159, 289.63586501931667, 441.3987555009169, 841.6229105075508, 775.416562522023, 618.9444926349886, 710.2640441082798, 171.13837695763146, 49.82592664946757, 141.79029756830082, 234.43613776638668, 177.5897495604756, 37.044721684831714, 32.87810962792608, 69.6372225358193, 68.20771022104064, 29.112624926214924, 33.38399589205515, 24.617819588447468, 104.59889576221391, 103.7711871823247, 22.414962491892524, 25.867909326874354, 58.694367594104406, 69.13689973597646, 20.341775140750173, 19.97346507138144, 20.10673596382805, 45.747844445016185, 130.90458507151635, 20.177962189823496, 20.680691452533473, 18.67797642598467, 17.596855257981876, 17.76621728353956, 16.287875602126864, 17.65283549305202, 261.0726265608779, 1911.9722842513575, 1933.8502919859973, 129.01560238593447, 275.05427927977854, 272.7831281368609, 871.8009952748303, 135.7289715334765, 50.33245550641193, 280.72888356994895, 497.6781853970381, 54.94083649371304, 42.95629373077651, 787.3123899801712, 46.99605560291116, 1061.5820972157135, 1085.946365716662, 395.27443491496, 1108.1808175806664, 610.5325916227916, 849.3640893600273, 276.5075823633248, 671.7905718714683, 426.77918260093224, 391.08880566114004, 729.1674216635644, 353.5938548119282, 941.4536525015751, 469.8800724283324, 947.491759632141, 775.416562522023, 1240.5197608033707, 767.8330159250163], \"loglift\": [30.0, 29.0, 28.0, 27.0, 26.0, 25.0, 24.0, 23.0, 22.0, 21.0, 20.0, 19.0, 18.0, 17.0, 16.0, 15.0, 14.0, 13.0, 12.0, 11.0, 10.0, 9.0, 8.0, 7.0, 6.0, 5.0, 4.0, 3.0, 2.0, 1.0, 1.4618, 1.4585, 1.4557, 1.455, 1.4544, 1.4534, 1.4515, 1.4513, 1.4472, 1.4439, 1.4431, 1.4428, 1.4421, 1.4392, 1.4386, 1.4376, 1.4374, 1.4369, 1.4365, 1.4359, 1.435, 1.4333, 1.4329, 1.4325, 1.4318, 1.4317, 1.4309, 1.43, 1.4298, 1.4287, 1.4106, 1.4195, 1.4217, 1.4, 1.4047, 1.3615, 1.4199, 1.4184, 1.4116, 1.4095, 1.3031, 1.3556, 1.3139, 1.3802, 1.2818, 1.2543, 1.2474, 1.2897, 1.1101, 0.9177, 1.0688, 1.0982, 1.0936, 0.7256, 1.2169, 0.7342, 0.3952, 1.1909, 0.8972, 0.9344, 0.4839, 0.2385, 0.3473, 0.6785, 0.4586, 0.2279, 0.7427, 0.2762, 0.1819, 0.1222, 0.2744, 0.593, 0.5563, 0.0789, 1.4864, 1.4858, 1.4843, 1.4835, 1.4828, 1.482, 1.4803, 1.4801, 1.4797, 1.4796, 1.477, 1.4764, 1.4753, 1.4727, 1.4717, 1.4708, 1.4706, 1.4684, 1.4681, 1.4678, 1.4669, 1.4662, 1.4609, 1.4607, 1.4596, 1.4596, 1.4595, 1.4594, 1.4592, 1.4578, 1.4515, 1.4554, 1.4575, 1.4464, 1.4422, 1.4223, 1.4539, 1.43, 1.4491, 1.3824, 1.3482, 1.3653, 0.9604, 1.3705, 1.3707, 1.2438, 0.9093, 1.3144, 1.2916, 1.2654, 0.9274, 0.8947, 0.8188, 1.1407, 1.1893, 1.115, 0.94, 1.0035, 1.001, 0.5234, 0.6951, 0.5705, 0.6369, -0.01, 0.1066, 0.7753, 0.1375, 0.3877, 0.1858, 0.5654, 0.6651, 0.4887, 0.2316, 0.3158, 0.6969, 0.4829, 0.4468, -0.1238, 0.1384, 0.1816, 0.4762, -1.0067, 1.6365, 1.6365, 1.6329, 1.6316, 1.6316, 1.6302, 1.6275, 1.6275, 1.6268, 1.6264, 1.6237, 1.6235, 1.6226, 1.6224, 1.6204, 1.6204, 1.6182, 1.6169, 1.6166, 1.6164, 1.6151, 1.6144, 1.6129, 1.6117, 1.6097, 1.6077, 1.6074, 1.6064, 1.6061, 1.6051, 1.5943, 1.6038, 1.5876, 1.5979, 1.5918, 1.5624, 1.544, 1.3945, 1.4247, 1.4779, 1.4438, 1.4561, 1.4304, 1.217, 1.3868, 1.013, 1.2005, 1.046, 1.3871, 1.1209, 0.8677, 0.8684, 0.8842, 1.017, 0.8169, 0.937, 0.6963, 1.167, 0.4154, 1.2162, 0.0035, 0.246, 0.4848, 0.3612, 0.4844, -0.0195, 0.5417, 0.1816, 1.6653, 1.661, 1.6602, 1.658, 1.657, 1.6562, 1.6545, 1.6516, 1.6516, 1.6503, 1.6492, 1.649, 1.6447, 1.6442, 1.6426, 1.6396, 1.638, 1.6361, 1.6356, 1.6343, 1.6325, 1.6322, 1.6322, 1.6309, 1.6289, 1.6285, 1.6283, 1.6281, 1.6277, 1.6277, 1.6235, 1.6077, 1.6076, 1.594, 1.6256, 1.6266, 1.5794, 1.5167, 1.5378, 1.5344, 1.5589, 1.5947, 1.5072, 1.3551, 1.5023, 1.3365, 1.4776, 1.2154, 1.3961, 0.7482, 1.2079, 0.8748, 1.1099, 1.3512, 1.1867, 1.099, 0.7493, 1.1846, 0.3642, 0.4448, 1.3289, 0.2047, 0.279, 0.6273, 0.7691, 0.666, 1.1842, 0.7473, -0.1558, 1.023, 0.4015, 0.3989, 0.1802, 0.0729, 0.6554, 0.3451, -0.2489, -0.1944, -0.0123, -0.1501, 1.7643, 1.7541, 1.7534, 1.7523, 1.7514, 1.7479, 1.7473, 1.744, 1.7425, 1.7424, 1.7397, 1.737, 1.7367, 1.7362, 1.7359, 1.7336, 1.7334, 1.7326, 1.7322, 1.7318, 1.7317, 1.7313, 1.7311, 1.7308, 1.7292, 1.7291, 1.7278, 1.7245, 1.7243, 1.7232, 1.7154, 1.6786, 1.6717, 1.6975, 1.6298, 1.6248, 1.5425, 1.6187, 1.6713, 1.5421, 1.4826, 1.6509, 1.6747, 1.2616, 1.6616, 1.0948, 1.0866, 1.2535, 0.9488, 1.0758, 0.9602, 1.1827, 0.8251, 0.959, 0.9272, 0.5178, 0.873, 0.1704, 0.6215, 0.0885, 0.134, -0.3177, 0.0961], \"logprob\": [30.0, 29.0, 28.0, 27.0, 26.0, 25.0, 24.0, 23.0, 22.0, 21.0, 20.0, 19.0, 18.0, 17.0, 16.0, 15.0, 14.0, 13.0, 12.0, 11.0, 10.0, 9.0, 8.0, 7.0, 6.0, 5.0, 4.0, 3.0, 2.0, 1.0, -6.1111, -7.1462, -6.9561, -7.3331, -7.2229, -6.5939, -7.6301, -6.8286, -4.4325, -7.9516, -8.0024, -7.1475, -7.7256, -8.0557, -8.1479, -7.851, -8.099, -8.046, -5.632, -8.0536, -8.1368, -6.5685, -8.1194, -5.7746, -8.1147, -8.3386, -7.2701, -8.3706, -8.0824, -8.3082, -4.308, -6.0963, -6.7563, -4.8333, -6.6526, -5.3828, -7.4861, -7.4837, -7.3034, -7.2713, -5.1782, -6.2568, -6.0241, -7.0945, -5.7877, -6.0646, -6.5365, -6.7841, -5.9312, -5.1376, -5.9341, -6.0811, -6.0785, -5.0451, -6.6051, -5.399, -4.937, -6.5898, -6.0425, -6.1127, -5.4796, -5.337, -5.5042, -5.9824, -5.8004, -5.6172, -6.088, -5.7692, -5.7961, -5.8843, -5.9964, -6.0349, -6.0421, -6.0621, -7.1901, -6.3732, -6.6042, -7.4065, -7.1172, -6.719, -7.1153, -6.3595, -6.3157, -7.7304, -6.4969, -6.6242, -7.0429, -7.8158, -7.9083, -7.7983, -8.1649, -7.0812, -7.796, -8.2361, -8.1019, -8.2858, -7.9187, -8.2925, -7.808, -8.3187, -8.4234, -7.6308, -8.1735, -8.3222, -6.2763, -7.4573, -7.8103, -6.7309, -6.9741, -6.1825, -7.709, -7.0072, -7.7065, -6.5096, -6.2352, -6.7525, -3.2212, -6.943, -7.0203, -6.2277, -4.2813, -6.8235, -6.7284, -6.6539, -5.4583, -5.4707, -5.4018, -6.3581, -6.5196, -6.3531, -6.0534, -6.2026, -6.3131, -5.6027, -5.9267, -5.8117, -5.988, -5.3422, -5.4689, -6.1547, -5.6656, -5.9144, -5.7778, -6.0463, -6.1279, -6.0349, -5.9094, -5.955, -6.1995, -6.1551, -6.1517, -6.0521, -6.1194, -6.1271, -6.1922, -6.1383, -5.5923, -5.1241, -6.2572, -6.6735, -6.2656, -6.7746, -6.7573, -5.8095, -6.7504, -7.2986, -7.3934, -7.3825, -7.4844, -7.409, -6.6848, -7.4237, -7.4267, -7.7203, -7.6039, -7.586, -7.1203, -7.1382, -7.2875, -7.2199, -7.8833, -5.3694, -7.9755, -8.0358, -6.2636, -7.9216, -5.2371, -6.5788, -5.6307, -6.9174, -7.0167, -6.3166, -6.4787, -5.0443, -5.5402, -6.0693, -5.8868, -6.2998, -6.1719, -5.0254, -6.2425, -4.6754, -5.4854, -4.9083, -6.3483, -5.5438, -4.8409, -4.8629, -5.0938, -5.4799, -5.1895, -5.4648, -5.4106, -6.0447, -5.4297, -6.1222, -5.3286, -5.6054, -5.7997, -5.8277, -5.9111, -5.8226, -5.9815, -5.9516, -7.2171, -7.14, -7.5449, -7.4082, -7.3737, -7.6634, -7.4095, -7.2859, -7.8547, -7.8959, -7.3127, -7.1423, -7.5559, -7.0805, -8.0756, -8.1522, -8.2312, -8.3014, -8.0467, -7.9889, -8.2712, -7.9839, -8.2116, -8.4078, -8.4285, -8.429, -8.1532, -8.3727, -8.4627, -8.2894, -5.4204, -5.369, -6.8598, -6.5212, -8.1973, -8.2499, -6.9232, -6.0623, -7.0859, -7.1094, -7.3942, -7.8258, -7.0777, -5.9129, -7.1149, -6.1084, -7.0445, -5.5401, -6.5684, -3.4333, -5.7914, -4.3159, -5.5282, -6.6602, -6.3624, -6.1777, -5.4714, -6.5206, -5.4389, -5.5855, -6.8573, -5.3708, -5.4917, -5.9945, -6.169, -6.0446, -6.6781, -6.2998, -5.4879, -6.5571, -6.0954, -6.2076, -6.0906, -6.0532, -6.3748, -6.2638, -6.2124, -6.2398, -6.2832, -6.2833, -5.792, -7.0362, -5.9911, -5.4893, -5.7679, -7.3388, -7.4587, -6.7116, -6.7338, -7.5853, -7.4511, -7.7584, -6.3121, -6.3204, -7.8532, -7.7122, -6.8931, -6.7302, -7.9539, -7.9727, -7.966, -7.1444, -6.0932, -7.9634, -7.9405, -8.0423, -8.1033, -8.097, -8.1841, -8.1047, -5.4186, -3.4644, -3.4599, -6.1414, -5.4521, -5.4654, -4.3858, -6.1695, -7.1089, -5.5194, -5.0063, -7.0417, -7.2639, -4.7686, -7.1872, -4.6365, -4.622, -5.4658, -4.7395, -5.2087, -4.9942, -5.8939, -5.3638, -5.6836, -5.8027, -5.5891, -5.9577, -5.681, -5.9249, -5.7565, -5.9114, -5.8932, -5.9592]}, \"token.table\": {\"Topic\": [1, 2, 3, 4, 5, 3, 5, 4, 2, 4, 5, 2, 5, 5, 1, 2, 3, 4, 3, 4, 5, 1, 2, 3, 4, 5, 5, 1, 2, 3, 4, 5, 1, 2, 3, 4, 5, 1, 3, 4, 5, 2, 3, 2, 4, 5, 1, 2, 3, 4, 5, 4, 1, 2, 3, 4, 5, 1, 2, 3, 4, 1, 2, 3, 4, 5, 1, 1, 2, 3, 4, 5, 1, 2, 3, 1, 2, 3, 4, 5, 1, 2, 3, 4, 5, 1, 2, 1, 2, 3, 4, 5, 1, 2, 3, 4, 5, 5, 2, 1, 2, 3, 2, 3, 4, 5, 5, 2, 2, 1, 5, 1, 2, 4, 5, 1, 2, 4, 2, 3, 5, 4, 1, 2, 3, 4, 5, 3, 1, 4, 5, 1, 2, 3, 4, 5, 1, 2, 4, 5, 5, 1, 2, 3, 4, 5, 1, 2, 5, 2, 3, 4, 1, 2, 3, 4, 5, 3, 4, 1, 2, 3, 4, 5, 4, 5, 2, 3, 4, 3, 1, 2, 3, 1, 1, 2, 3, 4, 5, 1, 2, 3, 5, 4, 1, 3, 5, 3, 4, 1, 2, 3, 4, 5, 5, 4, 1, 2, 3, 4, 5, 5, 2, 3, 5, 1, 2, 3, 5, 1, 3, 5, 4, 1, 2, 3, 4, 5, 1, 2, 3, 4, 5, 1, 2, 3, 4, 5, 3, 1, 2, 3, 4, 5, 1, 2, 3, 4, 5, 1, 1, 2, 3, 4, 5, 1, 2, 3, 4, 5, 3, 4, 1, 2, 3, 4, 5, 4, 1, 5, 1, 2, 4, 5, 2, 1, 3, 4, 5, 1, 2, 3, 4, 5, 2, 1, 2, 3, 4, 5, 1, 4, 1, 2, 3, 5, 1, 2, 3, 4, 5, 1, 3, 5, 1, 5, 5, 1, 2, 3, 5, 3, 3, 5, 3, 4, 1, 2, 3, 4, 4, 2, 3, 5, 1, 4, 1, 2, 3, 4, 5, 2, 3, 4, 2, 1, 2, 3, 4, 5, 1, 2, 5, 4, 3, 5, 1, 2, 3, 4, 5, 1, 2, 3, 4, 5, 1, 1, 2, 3, 4, 5, 2, 3, 5, 1, 2, 3, 4, 5, 1, 2, 3, 4, 5, 1, 2, 3, 4, 5, 4, 3, 3, 1, 2, 3, 4, 5, 1, 2, 3, 4, 5, 1, 2, 4, 3, 2, 1, 2, 3, 4, 5, 1, 2, 3, 4, 5, 1, 2, 3, 4, 5, 1, 2, 3, 2, 1, 2, 3, 5, 1, 2, 3, 4, 5, 1, 2, 3, 5, 1, 3, 4, 5, 4, 1, 2, 3, 4, 5, 1, 2, 3, 4, 5, 1, 4, 1, 2, 3, 4, 5, 2, 1, 2, 3, 4, 5, 5, 1, 3, 4, 5, 1, 1, 1, 2, 3, 4, 1, 2, 3, 4, 5, 1, 2, 3, 4, 5, 2, 3, 1, 2, 3, 4, 5, 5, 2, 1, 2, 3, 4, 5, 1, 2, 3, 4, 5, 1, 2, 3, 4, 5, 1, 2, 3, 1, 1, 2, 3, 4, 5, 2, 3, 1, 2, 3, 4, 5, 1, 2, 3, 4, 5, 3, 2, 4, 1, 3, 4, 3, 1, 1, 2, 3, 4, 5, 1, 4, 4, 2, 2, 4, 5, 1, 2, 4, 5, 1, 2, 3, 4, 5, 1, 3, 5, 1, 2, 3, 4, 5, 4, 1, 2, 3, 4, 5, 1, 2, 5, 2, 4, 2, 1, 5, 1, 2, 3, 4, 5, 4, 2, 5, 1, 2, 3, 4, 5, 1, 3, 4, 5, 1, 2, 3, 4, 5, 1, 4, 1, 2, 3, 4, 5, 1, 2, 4, 5, 1, 1, 2, 3, 4, 5, 1, 2, 3, 4, 5, 3, 3, 1, 2, 3, 4, 5, 4, 1, 2, 3, 4, 5, 1, 3, 4, 1, 2, 3, 4, 5, 1, 2, 3, 4, 1, 2, 3, 4, 5, 5, 1, 3, 5, 1, 2, 3, 1, 3, 5, 1, 2, 3, 4, 5, 1, 2, 3, 4, 5, 2, 4, 4, 1, 2, 3, 4, 5, 1, 3, 5, 1, 2, 4, 5, 4, 4, 2, 3, 1, 2, 3, 4, 5, 2, 4, 1, 2, 3, 4, 5, 1, 2, 4, 5, 5, 1, 1, 2, 3, 4, 2, 4, 5, 2, 4, 2, 4, 1, 2, 1, 3, 4, 5, 3, 2, 3, 5, 2, 4, 1, 2, 3, 4, 5, 1, 2, 3, 4, 5, 1, 2, 3, 4, 5, 1, 1, 2, 3, 4, 5, 1, 2, 3, 4, 5, 3, 5, 2, 1, 2, 3, 4, 5, 1, 2, 3, 4, 5, 1, 2, 3, 4, 5, 5, 1, 1, 2, 3, 4, 5, 3, 1, 2, 4, 5, 1, 2, 3, 4, 5, 1, 3, 4, 5, 1, 4, 1, 4, 5, 2, 3, 2, 3, 4, 5, 5, 3, 3, 4, 1, 2, 3, 4, 5, 1, 2, 3, 4, 5, 5, 1, 2, 3, 4, 5, 1, 2, 3, 4, 5, 1, 3, 4, 5, 1, 2, 3, 4, 3, 4, 5, 1, 2, 3, 4, 5, 1, 3, 3, 4, 5, 2, 3, 5, 3, 4, 1, 2, 3, 4, 5, 1, 2, 3, 4, 5, 1, 2, 3, 4, 5, 1, 2, 3, 4, 5, 1, 2, 3, 4, 5, 1, 1, 2, 3, 4, 5, 1, 2, 4, 5, 1, 2, 3, 4, 5, 4, 1, 2, 3, 4, 1, 2, 1, 2, 4, 5, 2, 4, 5, 1, 2, 3, 4, 5, 4, 3, 4, 1, 2, 3, 4, 5, 1, 2, 4, 5, 1, 3, 4, 5, 1, 2, 3, 4, 5, 2, 3, 5, 1, 2, 3, 4, 5, 2, 3, 4, 1, 2, 3, 4, 5, 1, 2, 3, 4, 5, 1, 2, 3, 4, 5, 5, 1, 2, 3, 4, 5, 1, 2, 3, 4, 5, 1, 3, 4, 5, 1, 3, 5, 1, 2, 3, 4, 5, 1, 2, 3, 4, 5, 1, 2, 3, 4, 5, 1, 2, 3, 4, 5, 1, 2, 5], \"Freq\": [0.14439023716837562, 0.053588129258366216, 0.2768720011682254, 0.136947441438047, 0.3885139371231551, 0.028909758878724563, 0.9636586292908188, 0.9763159386267672, 0.9632265527272252, 0.015289310360749608, 0.015289310360749608, 0.9543260786337266, 0.0289189720798099, 0.9585431325677668, 0.011132937052699514, 0.9796984606375572, 0.011132937052699514, 0.011132937052699514, 0.9604099430925702, 0.030489204542621277, 0.015244602271310638, 0.06731617541519179, 0.8751102803974932, 0.013463235083038356, 0.026926470166076712, 0.013463235083038356, 0.9834237573687675, 0.16886232938911658, 0.4303265813464584, 0.17430950130489453, 0.18248025917856148, 0.04357737532622363, 0.015289866620136856, 0.12423016628861196, 0.7797831976269797, 0.028668499912756606, 0.053514533170478995, 0.7773038970629448, 0.11430939662690363, 0.09144751730152291, 0.015241252883587152, 0.0193276982419387, 0.9663849120969349, 0.9749798937378142, 0.009948774425896064, 0.009948774425896064, 0.23576765085160745, 0.2207186518610793, 0.12039199192422508, 0.36117597577267524, 0.0627041624605339, 0.928927697906303, 0.2483164475535343, 0.27953337238883574, 0.2114237182027235, 0.13338140611446986, 0.1277056015989605, 0.010070253024643662, 0.9667442903657915, 0.010070253024643662, 0.010070253024643662, 0.01857832503380196, 0.8081571389703853, 0.00928916251690098, 0.1486266002704157, 0.027867487550702945, 0.9896759670654832, 0.10061928687668444, 0.10301498418327217, 0.591737234727168, 0.1844686926072548, 0.0191655784527018, 0.9493462573690881, 0.0186146324974331, 0.0372292649948662, 0.2592295674377672, 0.07814097008889632, 0.43659716621097633, 0.1252736187139449, 0.1004669615428667, 0.020448596833089003, 0.39079540614347874, 0.32944961564421177, 0.1249636473133217, 0.13405191257247237, 0.9921219721030959, 0.0059408501323538684, 0.10850032490888586, 0.2576882716586039, 0.0067812703068053665, 0.6035330573056776, 0.027125081227221466, 0.6947750663615716, 0.05935264386003375, 0.08379196780240059, 0.0384046519094336, 0.1256879517036009, 0.9449569554293116, 0.9812957705923311, 0.9370397630752995, 0.013278035975660223, 0.9825746621988565, 0.016879159054685, 0.10127495432811001, 0.827078793679565, 0.050637477164055006, 0.9814872546834457, 0.970198782677454, 0.9575794063478474, 0.9694122202220529, 0.016430715596983947, 0.006997410281735665, 0.3592003944624308, 0.5621252926327651, 0.06997410281735665, 0.9426655382297212, 0.022444417576898124, 0.022444417576898124, 0.00611789800817396, 0.8075625370789626, 0.1835369402452188, 0.9881865064256923, 0.13156532504754628, 0.009397523217681877, 0.6531278636288904, 0.018795046435363755, 0.18795046435363755, 0.9827712618419917, 0.9465544348827851, 0.010879936033135461, 0.043519744132541845, 0.021898320794321018, 0.008759328317728406, 0.21022387962548175, 0.7182649220537294, 0.03941697742977783, 0.010217275277841626, 0.010217275277841626, 0.9093374997279048, 0.07152092694489139, 0.9617820471690602, 0.007620863174973167, 0.10161150899964222, 0.0012701438624955277, 0.28959280064898035, 0.6007780469603846, 0.007052668744970346, 0.007052668744970346, 0.9803209555508781, 0.9526653945263104, 0.02268250939348358, 0.02268250939348358, 0.0962988149127802, 0.6794416385512825, 0.07489907826549572, 0.12304848572188581, 0.03209960497092673, 0.9705963908279603, 0.944554691044439, 0.08279368324065281, 0.020698420810163203, 0.6209526243048962, 0.1324698931850445, 0.14488894567114244, 0.01703740990814331, 0.9540949548560254, 0.03494602073920108, 0.775801660410264, 0.1817193078438456, 0.9753722769923936, 0.9353760013054471, 0.017988000025104752, 0.035976000050209504, 0.9628136785618091, 0.21504046933439305, 0.027828766619744982, 0.02276899087070044, 0.14167372097324718, 0.5945236505127337, 0.0077563546279457276, 0.9773006831211616, 0.0077563546279457276, 0.0077563546279457276, 0.9645051533649172, 0.8333128544328604, 0.049018403201932965, 0.11764416768463912, 0.0753867853412323, 0.9046414240947876, 0.007271292070921203, 0.0036356460354606017, 0.07998421278013323, 0.03999210639006662, 0.8689194024750838, 0.9630180945543299, 0.9833971613892776, 0.002742848442136243, 0.5507639671809577, 0.0005485696884272486, 0.4448900173144986, 0.0010971393768544973, 0.9637018266581879, 0.00956033037168302, 0.02868099111504906, 0.965593367539985, 0.07452035794989366, 0.009315044743736707, 0.9035593401424605, 0.009315044743736707, 0.9834116699900685, 0.009547686116408431, 0.009547686116408431, 0.9855927637937065, 0.01673720445263441, 0.24101574411793553, 0.01673720445263441, 0.6192765647474733, 0.10377066760633336, 0.9789559587536599, 0.005630955629336391, 0.011261911258672782, 0.005630955629336391, 0.979786279504532, 0.2583845716109533, 0.3267314582951409, 0.06501289221178824, 0.13836077060457497, 0.21004165176116202, 0.9725929433285848, 0.0005171031098653633, 0.08118518824886203, 0.009824959087441902, 0.003619721769057543, 0.9049304422643857, 0.07341283289474654, 0.06117736074562211, 0.6411387406141198, 0.10277796605264515, 0.12235472149124423, 0.9579762212779491, 0.27995224566590826, 0.03499403070823853, 0.49360001209515403, 0.0644626881467552, 0.1270835852036031, 0.28812915492372293, 0.1234839235387384, 0.2923508275233379, 0.10976348758998969, 0.18575359438305947, 0.03024972961071374, 0.9679913475428397, 0.06214699964315375, 0.34526110912863195, 0.13465183256016644, 0.35561894240249087, 0.10012572164730325, 0.972345831227401, 0.9646157979864757, 0.9664484162246278, 0.12278965032959403, 0.015348706291199254, 0.8134814334335605, 0.061394825164797016, 0.9462704562589139, 0.005185913799682093, 0.9853236219395977, 0.005185913799682093, 0.010371827599364185, 0.9403265901802036, 0.004650477696242352, 0.015811624167223995, 0.004650477696242352, 0.035343630491441874, 0.9320145738888679, 0.4807775861671032, 0.03676534482454319, 0.005656206896083567, 0.0678744827530028, 0.4072468965180168, 0.04583742534611959, 0.9625859322685115, 0.9577739142473976, 0.00912165632616569, 0.01824331265233138, 0.00912165632616569, 0.8018326602082767, 0.06451527151101077, 0.03225763575550539, 0.07833997254908451, 0.018432934717431647, 0.08511352599030078, 0.021278381497575195, 0.8936920228981582, 0.005843224750504493, 0.9933482075857638, 0.9660817089626771, 0.019151758902743798, 0.022982110683292558, 0.011491055341646279, 0.9460968897955436, 0.9697341771913676, 0.9874381115718535, 0.9717983659394185, 0.9859569789982274, 0.9581977685799827, 0.7996218261439059, 0.15405558118368828, 0.036679900281830546, 0.007335980056366109, 0.9829503586959412, 0.938919718489192, 0.041422928756876115, 0.013807642918958706, 0.9835845400874282, 0.9791695782598328, 0.8948976539240582, 0.04669031237864651, 0.005187812486516279, 0.005187812486516279, 0.04928421862190465, 0.9757899622180938, 0.017741635676692614, 0.008870817838346307, 0.9851126215357702, 0.031354642640271393, 0.8256722561938135, 0.04180619018702853, 0.05225773773378566, 0.06270928528054279, 0.01436013619706946, 0.01436013619706946, 0.9764892614007233, 0.9738017434903892, 0.9761227820437728, 0.012355984582832567, 0.0040186611723888165, 0.046214603482471396, 0.0020093305861944083, 0.20093305861944083, 0.7494803086505143, 0.0011470507666543276, 0.19614568109789005, 0.0011470507666543276, 0.006882304599925966, 0.7949061812914491, 0.9459745523248271, 0.27486480944058683, 0.03496087488498692, 0.4677523950129284, 0.05786627567170249, 0.16395444773649037, 0.9623816844229767, 0.015776748924966832, 0.015776748924966832, 0.10256760380812528, 0.013986491428380722, 0.8205408304650023, 0.037297310475681925, 0.032635146666221686, 0.09242816893839417, 0.5618182817823959, 0.11055133931847146, 0.14498536304061832, 0.09242816893839417, 0.02486310636730347, 0.0055251347482896595, 0.46042789569080494, 0.0055251347482896595, 0.5037081178857407, 0.9699734890931498, 0.9838055404570434, 0.9830309381886192, 0.134076764895385, 0.21707666697348046, 0.2851791507298665, 0.04682045758251539, 0.31710218999067247, 0.159127643531254, 0.12296227000142354, 0.14827803147230487, 0.01446614941193218, 0.5533302150064059, 0.07085638627617759, 0.02361879542539253, 0.8738954307395237, 0.987459500567219, 0.9578842562260812, 0.6685326587240477, 0.17469195102336926, 0.09742435730149439, 0.06047029073885859, 0.003359460596603255, 0.09662436682553463, 0.7676269142250807, 0.12346446872151647, 0.005368020379196368, 0.005368020379196368, 0.0031234013909508785, 0.4810038142064353, 0.2592423154489229, 0.10931904868328075, 0.14367646398374043, 0.002636625430709196, 0.005273250861418392, 0.9913711619466576, 0.9756405909505375, 0.05040005699396008, 0.7896008929053746, 0.05040005699396008, 0.1092001234869135, 0.18099740930656089, 0.041970413752246, 0.028854659454669127, 0.6243099045646593, 0.12328809039722263, 0.007908400304369725, 0.9806416377418459, 0.007908400304369725, 0.007908400304369725, 0.7531679162129506, 0.1389338874567579, 0.08774771839374183, 0.014624619732290305, 0.9208070409681848, 0.2910070531776241, 0.24667079853837387, 0.1104375797377687, 0.2273240692412465, 0.12414151298990057, 0.825894160325938, 0.007181688350660331, 0.05386266262995248, 0.007181688350660331, 0.10772532525990496, 0.020088682621790692, 0.9642567658459531, 0.84353004736714, 0.0019941608684802365, 0.01196496521088142, 0.003988321736960473, 0.13959126079361656, 0.967057556926954, 0.035341840506539816, 0.026506380379904864, 0.07068368101307963, 0.5566339879780021, 0.3136588344955409, 0.9831983620708941, 0.021859922582508275, 0.9618365936303641, 0.010929961291254137, 0.010929961291254137, 0.9692167689789325, 0.9624783431409764, 0.02774253616942469, 0.9501818638027957, 0.013871268084712346, 0.006935634042356173, 0.08085879952105318, 0.0355778717892634, 0.8021192912488475, 0.025874815846737016, 0.05498398367431616, 0.30131485044416656, 0.09062100765238092, 0.17217991453952375, 0.26280092219190465, 0.17217991453952375, 0.004211353368639356, 0.9938793949988881, 0.010997747626439852, 0.0036659158754799507, 0.08065014926055891, 0.040325074630279456, 0.8651561466132683, 0.9568722327712685, 0.9617741978139307, 0.3021272540997952, 0.15025580016727783, 0.21488195077685968, 0.18256887547206874, 0.15025580016727783, 0.16598921331481198, 0.25505659606910136, 0.18926818835286488, 0.2672021482628681, 0.12347978063662843, 0.19504587829070838, 0.39189773693596036, 0.1896279372270776, 0.07946313559991823, 0.1426724480089441, 0.007133737018171659, 0.16407595141794815, 0.8275134941079124, 0.9501628386707894, 0.20498669939379657, 0.12445621034623364, 0.3129707642530287, 0.13360740228345672, 0.22511932165568732, 0.022406310679786393, 0.9634713592308148, 0.4510655506217292, 0.06921111623296373, 0.21956629977354014, 0.09069042816733179, 0.17183449547494445, 0.28357556808868395, 0.26679594867515233, 0.20135543296237912, 0.11074548812930853, 0.13927084113231222, 0.9917603335534145, 0.14708340114292934, 0.8334726064765995, 0.9545600332161956, 0.018356923715696073, 0.018356923715696073, 0.9820019846078546, 0.9858301639114302, 0.5613624879233239, 0.03469094026492451, 0.10091909895250767, 0.03469094026492451, 0.2680663565925985, 0.973403870121616, 0.9193150176063128, 0.9514552359408893, 0.9450626933620321, 0.008788131270624958, 0.7469911580031213, 0.23727954430687384, 0.04083678748405991, 0.728256043465735, 0.21779619991498617, 0.006806131247343318, 0.005789887503907104, 0.017369662511721312, 0.8453235755704372, 0.04052921252734973, 0.09263820006251366, 0.9649852531765398, 0.0035873057738904828, 0.03228575196501434, 0.41564299436587365, 0.22167626366179927, 0.06465557690135812, 0.2470766688730471, 0.05310993816897274, 0.9263789084370976, 0.08984392498688507, 0.5690115249169387, 0.08651637220959303, 0.11646434720522139, 0.13642966386897362, 0.014661099115617592, 0.014661099115617592, 0.9676325416307611, 0.9613768189554138, 0.029132630877436783, 0.9773150102136589, 0.021858953402752967, 0.9617939497211306, 0.47728728887804917, 0.04646159449255346, 0.2323079724627673, 0.1590957629593497, 0.0844756263500972, 0.9305206978219791, 0.06983842737462746, 0.9078995558701569, 0.09638273463412873, 0.44519644092907085, 0.0688448104529491, 0.34651887927984376, 0.041306886271769455, 0.0161364856434276, 0.9197796816753732, 0.0484094569302828, 0.0080682428217138, 0.10484389573623581, 0.37464218743081595, 0.1537710470798125, 0.1999023612037563, 0.1677502331779773, 0.0232529363058881, 0.9766233248473003, 0.024307008391413285, 0.15799555454418635, 0.5347541846110923, 0.277505012468635, 0.006076752097853321, 0.14735591204359635, 0.0644682115190734, 0.7183600712125322, 0.07367795602179818, 0.9826006278689297, 0.17525681915783511, 0.011465399384157438, 0.3128416117677244, 0.001637914197736777, 0.49792591611198017, 0.9354056824313074, 0.00964335755083822, 0.00964335755083822, 0.02893007265251466, 0.00964335755083822, 0.9640497365694618, 0.9871540626815811, 0.08435275540058959, 0.17573490708456166, 0.12184286891196275, 0.17339177499010083, 0.4428519658530954, 0.9693390426980301, 0.07779049638455818, 0.3231297542127801, 0.011967768674547413, 0.5146140530055388, 0.07180661204728447, 0.0167331000599576, 0.9537867034175831, 0.0334662001199152, 0.25196871826389383, 0.25515819571027226, 0.24718450209432624, 0.12120014296237931, 0.12438962040875771, 0.01096903900393669, 0.02193807800787338, 0.25228789709054383, 0.7020184962519481, 0.02436425497685952, 0.0018047596279155199, 0.5315017104211206, 0.0027071394418732796, 0.43945896939742907, 0.9512620835742592, 0.9463630978288514, 0.022532454710210748, 0.022532454710210748, 0.9667872523465624, 0.9507050175855943, 0.9622044479411587, 0.046506003065053564, 0.023253001532526782, 0.9301200613010712, 0.010756565659536022, 0.5040219337611165, 0.08144256856505845, 0.39184632045452655, 0.012293217896612597, 0.011601438988552905, 0.20302518229967584, 0.02320287797710581, 0.6090755468990275, 0.15661942634546422, 0.9382945193679804, 0.03235498342648208, 0.9427713571849488, 0.9305852078619126, 0.004668487664859093, 0.001556162554953031, 0.003112325109906062, 0.06224650219812124, 0.8548782185826712, 0.03757706455308445, 0.10333692752098224, 0.020488440395747116, 0.8707587168192524, 0.09219798178086203, 0.020488440395747116, 0.9481069645567762, 0.9776920453575171, 0.9406662590909244, 0.036179471503497096, 0.3990871277115933, 0.34751968986121895, 0.10986106324644986, 0.11882931330738454, 0.022420625152336705, 0.9703649819324425, 0.03234549939774808, 0.21444019611629653, 0.4470020989466463, 0.0664462579515285, 0.2023590583069277, 0.07248682685621291, 0.03136110925828046, 0.24043517098015016, 0.7056249583113102, 0.01568055462914023, 0.9749035617785827, 0.9658819232369787, 0.03586161522380917, 0.03586161522380917, 0.08367710218888808, 0.8427479577595156, 0.9305477714648028, 0.014099208658557618, 0.056396834634230474, 0.9481529805071967, 0.027090085157348474, 0.9771113013865036, 0.9264430917757686, 0.01651813288942691, 0.9745698404761876, 0.889863046536785, 0.006179604489838785, 0.006179604489838785, 0.09887367183742056, 0.970982698994546, 0.6053702909834361, 0.009172277136112668, 0.385235639716732, 0.9718117916086807, 0.9902980924982757, 0.05762707810570582, 0.6050843201099111, 0.12760281580549146, 0.19346233364058382, 0.01646487945877309, 0.23103132535925, 0.3037334906820909, 0.16963838575329546, 0.22295330699004545, 0.07431776899668181, 0.09428392246395866, 0.02514237932372231, 0.773128164204461, 0.06285594830930577, 0.04399916381651404, 0.940543726537272, 0.0060037911306053465, 0.8525383405459591, 0.0780492846978695, 0.06003791130605346, 0.0060037911306053465, 0.5743436279159249, 0.01302366503210714, 0.17321474492702496, 0.05209466012842856, 0.18754077646234282, 0.0794715846813878, 0.9139232238359598, 0.9718596689846786, 0.03397802645206464, 0.05096703967809696, 0.01698901322603232, 0.8664396745276483, 0.03397802645206464, 0.008173522096262974, 0.8827403863964012, 0.008173522096262974, 0.08990874305889271, 0.008173522096262974, 0.006133049022596728, 0.9199573533895092, 0.06133049022596729, 0.012266098045193456, 0.006133049022596728, 0.9670856531032436, 0.966119566440729, 0.3719005223030841, 0.2673406310485429, 0.13426440581549043, 0.14495803105743216, 0.08198446018821982, 0.9408616248785199, 0.03150065378312031, 0.017500363212844615, 0.9415195408510402, 0.010500217927706768, 0.008333939549020038, 0.016667879098040076, 0.9459021388137743, 0.02916878842157013, 0.004166969774510019, 0.023979248896809368, 0.9591699558723746, 0.007993082965603122, 0.007993082965603122, 0.9758555626016285, 0.01204759953829171, 0.07525745334146279, 0.9030894400975534, 0.015051490668292557, 0.013379716378807246, 0.9767192956529289, 0.9459495046397621, 0.021745965623902578, 0.021745965623902578, 0.010872982811951289, 0.941621350127339, 0.9711619701815831, 0.02382589187792636, 0.9768615669949807, 0.47424046836211486, 0.016657206533380067, 0.14599551608668412, 0.2449589196085304, 0.11856011709052872, 0.03861616018203552, 0.6950908832766394, 0.02206637724687744, 0.2096305838453357, 0.03861616018203552, 0.9732919672735616, 0.007639151825382402, 0.007639151825382402, 0.015278303650764803, 0.007639151825382402, 0.9625331299981826, 0.05653224264133279, 0.06438394300818456, 0.6516911304486974, 0.16331536763051696, 0.06438394300818456, 0.014735247584976472, 0.11788198067981177, 0.007367623792488236, 0.8546443599286353, 0.9812411679092633, 0.05200568691892218, 0.06934091589189624, 0.866761448648703, 0.9625021026369919, 0.013095266702544107, 0.022916716729452186, 0.21842842920903316, 0.36196711126068354, 0.1830638263847135, 0.0748897471573828, 0.16226111884099606, 0.9745044253378031, 0.9883880103212108, 0.9509481172012801, 0.014151013648828573, 0.03113223002742286, 0.8720600612235382, 0.024916001749243948, 0.08720600612235381, 0.018795687494746537, 0.9585800622320735, 0.2710381848460372, 0.12784820039907416, 0.08437981226338895, 0.08693677627137043, 0.42956995334088915, 0.9747053125234688, 0.001092718960228104, 0.006556313761368625, 0.002185437920456208, 0.016390784403421562, 0.30177328072400317, 0.152176269766805, 0.19860292833972856, 0.152176269766805, 0.19473404012531828, 0.0023547028006646073, 0.0011773514003323036, 0.5498231039551859, 0.0023547028006646073, 0.44386147792527847, 0.6844288992842882, 0.015916951146146236, 0.1273356091691699, 0.047750853438438705, 0.1273356091691699, 0.9557948926554113, 0.021598498172968137, 0.5797596870688391, 0.002599819224523942, 0.39217273071472697, 0.003999721883882988, 0.05812449184062331, 0.014531122960155827, 0.9299918694499729, 0.014531122960155827, 0.2509264465466355, 0.4189781034081436, 0.05524985979008487, 0.23711398159911423, 0.03683323986005658, 0.9574093802132487, 0.689321687410458, 0.2484764222060953, 0.06011526343695854, 0.00400768422913057, 0.016591922749551628, 0.978923442223546, 0.03927221299559804, 0.01963610649779902, 0.9261696898128539, 0.013090737665199349, 0.012796661933534627, 0.0042655539778448754, 0.9810774149043214, 0.0005230201338360692, 0.07531489927239397, 0.008891342275213177, 0.004184161070688554, 0.9111010731424326, 0.9785297799409388, 0.9688841000035998, 0.018997727451050977, 0.020723785807711864, 0.005651941583921418, 0.4606332390895955, 0.004709951319934515, 0.5086747425529276, 0.14248622903112582, 0.0035621557257781455, 0.05699449161245033, 0.7943607268485264, 0.5829196374475243, 0.010534692243027548, 0.3932951770730284, 0.01404625632403673, 0.32502927699830453, 0.13064902310716162, 0.24748961287779397, 0.09559684617597192, 0.20181556414927407, 0.014464056152631249, 0.028928112305262498, 0.9546277060736624, 0.19963008259608078, 0.16843788219044314, 0.3327168043268013, 0.14348412186593307, 0.1559610020281881, 0.9720982533616709, 0.01484119470781177, 0.007420597353905885, 0.3389965431027266, 0.23051764930985408, 0.11977877856296339, 0.27571718839021764, 0.033899654310272656, 0.9075759294413563, 0.014638321442602522, 0.04391496432780757, 0.014638321442602522, 0.014638321442602522, 0.11365691915429031, 0.5434221447064506, 0.1420711489428629, 0.1402952595810771, 0.06038023830071673, 0.9823257735287914, 0.1428191959562063, 0.03967199887672397, 0.09521279730413752, 0.6030143829262044, 0.11108159685482712, 0.3406200116583922, 0.21991792960504725, 0.19400805858836065, 0.15861896646800822, 0.08720883415372563, 0.9601686490209879, 0.004120895489360463, 0.008241790978720926, 0.02884626842552324, 0.09100698713555548, 0.018201397427111098, 0.8918684739284437, 0.17551889076619623, 0.3582508866323731, 0.21158441626609956, 0.07213105099980667, 0.1851363642328371, 0.3624173607534954, 0.21713110600209415, 0.13730349350132426, 0.12453107550120106, 0.1580586727515244, 0.21805691707570846, 0.0246856887255519, 0.3881138838517327, 0.08365705623659256, 0.2852568474952664, 0.034634066663985, 0.23928991513298725, 0.17317033331992499, 0.39986604239328133, 0.1511304727155709, 0.9483144167243828, 0.0056113279096117324, 0.04489062327689386], \"Term\": [\"2016\", \"2016\", \"2016\", \"2016\", \"2016\", \"abbey\", \"abbey\", \"abedin\", \"ailes\", \"ailes\", \"ailes\", \"airbnb\", \"airbnb\", \"alan\", \"alec\", \"alec\", \"alec\", \"alec\", \"alicia\", \"alicia\", \"alicia\", \"allegations\", \"allegations\", \"allegations\", \"allegations\", \"allegations\", \"amal\", \"america\", \"america\", \"america\", \"america\", \"america\", \"american\", \"american\", \"american\", \"american\", \"american\", \"angelina\", \"angelina\", \"angelina\", \"angelina\", \"aniston\", \"aniston\", \"anne\", \"anne\", \"anne\", \"another\", \"another\", \"another\", \"another\", \"another\", \"apron\", \"back\", \"back\", \"back\", \"back\", \"back\", \"baldwin\", \"baldwin\", \"baldwin\", \"baldwin\", \"bannon\", \"bannon\", \"bannon\", \"bannon\", \"bannon\", \"batman\", \"behind\", \"behind\", \"behind\", \"behind\", \"behind\", \"benedict\", \"benedict\", \"benedict\", \"best\", \"best\", \"best\", \"best\", \"best\", \"beyonc\\u00e9\", \"beyonc\\u00e9\", \"beyonc\\u00e9\", \"beyonc\\u00e9\", \"beyonc\\u00e9\", \"bieber\", \"bieber\", \"billionaire\", \"billionaire\", \"billionaire\", \"billionaire\", \"billionaire\", \"black\", \"black\", \"black\", \"black\", \"black\", \"boston\", \"bourne\", \"bridge\", \"britney\", \"britney\", \"bruce\", \"bruce\", \"bruce\", \"bruce\", \"brussels\", \"bump\", \"bundy\", \"cambridge\", \"cambridge\", \"campaign\", \"campaign\", \"campaign\", \"campaign\", \"canada\", \"canada\", \"canada\", \"cannes\", \"cannes\", \"cannes\", \"carolina\", \"carpet\", \"carpet\", \"carpet\", \"carpet\", \"carpet\", \"channing\", \"charlotte\", \"charlotte\", \"charlotte\", \"chris\", \"chris\", \"chris\", \"chris\", \"chris\", \"christie\", \"christie\", \"christie\", \"christie\", \"cindy\", \"clinton\", \"clinton\", \"clinton\", \"clinton\", \"clinton\", \"clooney\", \"clooney\", \"clooney\", \"cohn\", \"cohn\", \"cohn\", \"company\", \"company\", \"company\", \"company\", \"company\", \"connections\", \"correctness\", \"cover\", \"cover\", \"cover\", \"cover\", \"cover\", \"crawford\", \"crawford\", \"crime\", \"crime\", \"crime\", \"crushing\", \"cumberbatch\", \"cumberbatch\", \"cumberbatch\", \"daisy\", \"dead\", \"dead\", \"dead\", \"dead\", \"dead\", \"depp\", \"depp\", \"depp\", \"depp\", \"dern\", \"diana\", \"diana\", \"diana\", \"diaries\", \"diaries\", \"dicaprio\", \"dicaprio\", \"dicaprio\", \"dicaprio\", \"dicaprio\", \"didion\", \"dominick\", \"donald\", \"donald\", \"donald\", \"donald\", \"donald\", \"douglas\", \"downton\", \"downton\", \"downton\", \"dressed\", \"dressed\", \"dressed\", \"dressed\", \"duchess\", \"duchess\", \"duchess\", \"edith\", \"election\", \"election\", \"election\", \"election\", \"election\", \"emilia\", \"emma\", \"emma\", \"emma\", \"emma\", \"even\", \"even\", \"even\", \"even\", \"even\", \"fabulous\", \"fair\", \"fair\", \"fair\", \"fair\", \"fair\", \"fashion\", \"fashion\", \"fashion\", \"fashion\", \"fashion\", \"fifty\", \"film\", \"film\", \"film\", \"film\", \"film\", \"first\", \"first\", \"first\", \"first\", \"first\", \"flynn\", \"flynn\", \"former\", \"former\", \"former\", \"former\", \"former\", \"francis\", \"freeman\", \"fuller\", \"fund\", \"fund\", \"fund\", \"fund\", \"funding\", \"gaga\", \"gaga\", \"gaga\", \"gaga\", \"game\", \"game\", \"game\", \"game\", \"game\", \"garry\", \"george\", \"george\", \"george\", \"george\", \"george\", \"georgia\", \"georgia\", \"gilmore\", \"gilmore\", \"gilmore\", \"gilmore\", \"girls\", \"girls\", \"girls\", \"girls\", \"girls\", \"globe\", \"globe\", \"globe\", \"globes\", \"globes\", \"goldberg\", \"golden\", \"golden\", \"golden\", \"golden\", \"goop\", \"grease\", \"gwen\", \"gwyneth\", \"haley\", \"hamilton\", \"hamilton\", \"hamilton\", \"hamilton\", \"hampshire\", \"harassment\", \"harassment\", \"harassment\", \"harington\", \"harley\", \"harry\", \"harry\", \"harry\", \"harry\", \"harry\", \"harvey\", \"harvey\", \"harvey\", \"hathaway\", \"health\", \"health\", \"health\", \"health\", \"health\", \"helen\", \"helen\", \"helen\", \"hemsworth\", \"hiddleston\", \"hiddleston\", \"hillary\", \"hillary\", \"hillary\", \"hillary\", \"hillary\", \"hive\", \"hive\", \"hive\", \"hive\", \"hive\", \"hodor\", \"hollywood\", \"hollywood\", \"hollywood\", \"hollywood\", \"hollywood\", \"holmes\", \"holmes\", \"holmes\", \"horror\", \"horror\", \"horror\", \"horror\", \"horror\", \"house\", \"house\", \"house\", \"house\", \"house\", \"http\", \"http\", \"http\", \"http\", \"http\", \"huma\", \"idol\", \"india\", \"inside\", \"inside\", \"inside\", \"inside\", \"inside\", \"instagram\", \"instagram\", \"instagram\", \"instagram\", \"instagram\", \"interest\", \"interest\", \"interest\", \"jaden\", \"jagger\", \"james\", \"james\", \"james\", \"james\", \"james\", \"jared\", \"jared\", \"jared\", \"jared\", \"jared\", \"jenner\", \"jenner\", \"jenner\", \"jenner\", \"jenner\", \"jennifer\", \"jennifer\", \"jennifer\", \"jerry\", \"jimmy\", \"jimmy\", \"jimmy\", \"jimmy\", \"john\", \"john\", \"john\", \"john\", \"john\", \"johnny\", \"johnny\", \"johnny\", \"johnny\", \"jolie\", \"jolie\", \"jolie\", \"jolie\", \"jonben\\u00e9t\", \"just\", \"just\", \"just\", \"just\", \"just\", \"justin\", \"justin\", \"justin\", \"justin\", \"justin\", \"kasich\", \"kasich\", \"kate\", \"kate\", \"kate\", \"kate\", \"kate\", \"katie\", \"kelly\", \"kelly\", \"kelly\", \"kelly\", \"kelly\", \"kendrick\", \"kidman\", \"kidman\", \"kidman\", \"kidman\", \"kimmy\", \"kramer\", \"kushner\", \"kushner\", \"kushner\", \"kushner\", \"lady\", \"lady\", \"lady\", \"lady\", \"lady\", \"last\", \"last\", \"last\", \"last\", \"last\", \"lawrence\", \"lawrence\", \"leonardo\", \"leonardo\", \"leonardo\", \"leonardo\", \"leonardo\", \"levitt\", \"lewinsky\", \"life\", \"life\", \"life\", \"life\", \"life\", \"like\", \"like\", \"like\", \"like\", \"like\", \"live\", \"live\", \"live\", \"live\", \"live\", \"lively\", \"lively\", \"lively\", \"logan\", \"look\", \"look\", \"look\", \"look\", \"look\", \"lopez\", \"lopez\", \"love\", \"love\", \"love\", \"love\", \"love\", \"make\", \"make\", \"make\", \"make\", \"make\", \"malik\", \"manager\", \"manager\", \"manuel\", \"manuel\", \"manuel\", \"marcia\", \"marissa\", \"mark\", \"mark\", \"mark\", \"mark\", \"mark\", \"maslany\", \"mccain\", \"mccartney\", \"mcnally\", \"megyn\", \"megyn\", \"megyn\", \"melania\", \"melania\", \"melania\", \"melania\", \"michelle\", \"michelle\", \"michelle\", \"michelle\", \"michelle\", \"middleton\", \"middleton\", \"middleton\", \"might\", \"might\", \"might\", \"might\", \"might\", \"militia\", \"million\", \"million\", \"million\", \"million\", \"million\", \"mirren\", \"mirren\", \"mirren\", \"mitt\", \"mitt\", \"monica\", \"monroe\", \"monroe\", \"movie\", \"movie\", \"movie\", \"movie\", \"movie\", \"nashville\", \"nast\", \"nast\", \"news\", \"news\", \"news\", \"news\", \"news\", \"nicole\", \"nicole\", \"nicole\", \"nicole\", \"night\", \"night\", \"night\", \"night\", \"night\", \"niro\", \"niro\", \"obama\", \"obama\", \"obama\", \"obama\", \"obama\", \"oliver\", \"oliver\", \"oliver\", \"oliver\", \"orphan\", \"oscar\", \"oscar\", \"oscar\", \"oscar\", \"oscar\", \"outlander\", \"outlander\", \"outlander\", \"outlander\", \"outlander\", \"palin\", \"paltrow\", \"party\", \"party\", \"party\", \"party\", \"party\", \"pattinson\", \"paul\", \"paul\", \"paul\", \"paul\", \"paul\", \"paulson\", \"paulson\", \"paulson\", \"people\", \"people\", \"people\", \"people\", \"people\", \"peter\", \"peter\", \"peter\", \"peter\", \"photos\", \"photos\", \"photos\", \"photos\", \"photos\", \"picasso\", \"pippa\", \"pippa\", \"pippa\", \"pok\\u00e9mon\", \"poppins\", \"portfolio\", \"portrait\", \"portrait\", \"portrait\", \"president\", \"president\", \"president\", \"president\", \"president\", \"presidential\", \"presidential\", \"presidential\", \"presidential\", \"presidential\", \"priebus\", \"priebus\", \"primaries\", \"prince\", \"prince\", \"prince\", \"prince\", \"prince\", \"princess\", \"princess\", \"princess\", \"putin\", \"putin\", \"putin\", \"putin\", \"quinn\", \"ramsey\", \"rashida\", \"rashida\", \"real\", \"real\", \"real\", \"real\", \"real\", \"reince\", \"reince\", \"reportedly\", \"reportedly\", \"reportedly\", \"reportedly\", \"reportedly\", \"republican\", \"republican\", \"republican\", \"republican\", \"rickman\", \"ridley\", \"robert\", \"robert\", \"robert\", \"robert\", \"roger\", \"roger\", \"roger\", \"romney\", \"romney\", \"ronan\", \"roses\", \"rowling\", \"rowling\", \"royal\", \"royal\", \"royal\", \"royal\", \"rupert\", \"sanders\", \"sanders\", \"sanders\", \"saoirse\", \"sarandon\", \"saturday\", \"saturday\", \"saturday\", \"saturday\", \"saturday\", \"says\", \"says\", \"says\", \"says\", \"says\", \"scenes\", \"scenes\", \"scenes\", \"scenes\", \"scenes\", \"schmidt\", \"sean\", \"sean\", \"sean\", \"sean\", \"sean\", \"season\", \"season\", \"season\", \"season\", \"season\", \"seliger\", \"seliger\", \"selma\", \"senator\", \"senator\", \"senator\", \"senator\", \"senator\", \"seth\", \"seth\", \"seth\", \"seth\", \"seth\", \"sexual\", \"sexual\", \"sexual\", \"sexual\", \"sexual\", \"shelton\", \"shkreli\", \"show\", \"show\", \"show\", \"show\", \"show\", \"sight\", \"silicon\", \"silicon\", \"silicon\", \"silicon\", \"simpson\", \"simpson\", \"simpson\", \"simpson\", \"simpson\", \"smith\", \"smith\", \"smith\", \"smith\", \"snow\", \"snow\", \"sophie\", \"sophie\", \"sophie\", \"spears\", \"spears\", \"spicer\", \"spicer\", \"spicer\", \"spicer\", \"spiegel\", \"spielberg\", \"springsteen\", \"springsteen\", \"star\", \"star\", \"star\", \"star\", \"star\", \"state\", \"state\", \"state\", \"state\", \"state\", \"stefani\", \"stone\", \"stone\", \"stone\", \"stone\", \"stone\", \"story\", \"story\", \"story\", \"story\", \"story\", \"studio\", \"studio\", \"studio\", \"studio\", \"superman\", \"susan\", \"susan\", \"susan\", \"swift\", \"swift\", \"swift\", \"take\", \"take\", \"take\", \"take\", \"take\", \"tatiana\", \"tatum\", \"taylor\", \"taylor\", \"taylor\", \"theranos\", \"theranos\", \"theranos\", \"thiel\", \"thiel\", \"things\", \"things\", \"things\", \"things\", \"things\", \"thrones\", \"thrones\", \"thrones\", \"thrones\", \"thrones\", \"time\", \"time\", \"time\", \"time\", \"time\", \"timeline\", \"timeline\", \"timeline\", \"timeline\", \"timeline\", \"trailer\", \"trailer\", \"trailer\", \"trailer\", \"trailer\", \"tremblay\", \"trump\", \"trump\", \"trump\", \"trump\", \"trump\", \"turner\", \"turner\", \"turner\", \"turner\", \"twitter\", \"twitter\", \"twitter\", \"twitter\", \"twitter\", \"tyga\", \"uber\", \"uber\", \"uber\", \"uber\", \"union\", \"union\", \"valley\", \"valley\", \"valley\", \"valley\", \"vanities\", \"vanities\", \"vanities\", \"vanity\", \"vanity\", \"vanity\", \"vanity\", \"vanity\", \"vice\", \"vikander\", \"vikander\", \"vntyfr\", \"vntyfr\", \"vntyfr\", \"vntyfr\", \"vntyfr\", \"walking\", \"walking\", \"walking\", \"walking\", \"wars\", \"wars\", \"wars\", \"wars\", \"watch\", \"watch\", \"watch\", \"watch\", \"watch\", \"watson\", \"watson\", \"watson\", \"week\", \"week\", \"week\", \"week\", \"week\", \"weinstein\", \"weinstein\", \"weinstein\", \"west\", \"west\", \"west\", \"west\", \"west\", \"westworld\", \"westworld\", \"westworld\", \"westworld\", \"westworld\", \"white\", \"white\", \"white\", \"white\", \"white\", \"whoopi\", \"wife\", \"wife\", \"wife\", \"wife\", \"wife\", \"will\", \"will\", \"will\", \"will\", \"will\", \"william\", \"william\", \"william\", \"william\", \"winslet\", \"winslet\", \"winslet\", \"women\", \"women\", \"women\", \"women\", \"women\", \"world\", \"world\", \"world\", \"world\", \"world\", \"year\", \"year\", \"year\", \"year\", \"year\", \"york\", \"york\", \"york\", \"york\", \"york\", \"zuckerberg\", \"zuckerberg\", \"zuckerberg\"]}, \"R\": 30, \"lambda.step\": 0.01, \"plot.opts\": {\"xlab\": \"PC1\", \"ylab\": \"PC2\"}, \"topic.order\": [4, 5, 2, 3, 1]};\n",
       "\n",
       "function LDAvis_load_lib(url, callback){\n",
       "  var s = document.createElement('script');\n",
       "  s.src = url;\n",
       "  s.async = true;\n",
       "  s.onreadystatechange = s.onload = callback;\n",
       "  s.onerror = function(){console.warn(\"failed to load library \" + url);};\n",
       "  document.getElementsByTagName(\"head\")[0].appendChild(s);\n",
       "}\n",
       "\n",
       "if(typeof(LDAvis) !== \"undefined\"){\n",
       "   // already loaded: just create the visualization\n",
       "   !function(LDAvis){\n",
       "       new LDAvis(\"#\" + \"ldavis_el1802423213768501123713242331\", ldavis_el1802423213768501123713242331_data);\n",
       "   }(LDAvis);\n",
       "}else if(typeof define === \"function\" && define.amd){\n",
       "   // require.js is available: use it to load d3/LDAvis\n",
       "   require.config({paths: {d3: \"https://cdnjs.cloudflare.com/ajax/libs/d3/3.5.5/d3.min\"}});\n",
       "   require([\"d3\"], function(d3){\n",
       "      window.d3 = d3;\n",
       "      LDAvis_load_lib(\"https://cdn.rawgit.com/bmabey/pyLDAvis/files/ldavis.v1.0.0.js\", function(){\n",
       "        new LDAvis(\"#\" + \"ldavis_el1802423213768501123713242331\", ldavis_el1802423213768501123713242331_data);\n",
       "      });\n",
       "    });\n",
       "}else{\n",
       "    // require.js not available: dynamically load d3 & LDAvis\n",
       "    LDAvis_load_lib(\"https://cdnjs.cloudflare.com/ajax/libs/d3/3.5.5/d3.min.js\", function(){\n",
       "         LDAvis_load_lib(\"https://cdn.rawgit.com/bmabey/pyLDAvis/files/ldavis.v1.0.0.js\", function(){\n",
       "                 new LDAvis(\"#\" + \"ldavis_el1802423213768501123713242331\", ldavis_el1802423213768501123713242331_data);\n",
       "            })\n",
       "         });\n",
       "}\n",
       "</script>"
      ],
      "text/plain": [
       "<IPython.core.display.HTML object>"
      ]
     },
     "execution_count": 170,
     "metadata": {},
     "output_type": "execute_result"
    }
   ],
   "source": [
    "pyLDAvis.display(vis)"
   ]
  },
  {
   "cell_type": "code",
   "execution_count": null,
   "metadata": {},
   "outputs": [],
   "source": []
  }
 ],
 "metadata": {
  "kernelspec": {
   "display_name": "Python 3",
   "language": "python",
   "name": "python3"
  },
  "language_info": {
   "codemirror_mode": {
    "name": "ipython",
    "version": 3
   },
   "file_extension": ".py",
   "mimetype": "text/x-python",
   "name": "python",
   "nbconvert_exporter": "python",
   "pygments_lexer": "ipython3",
   "version": "3.6.1"
  },
  "toc": {
   "nav_menu": {},
   "number_sections": true,
   "sideBar": true,
   "skip_h1_title": false,
   "toc_cell": false,
   "toc_position": {},
   "toc_section_display": "block",
   "toc_window_display": false
  },
  "varInspector": {
   "cols": {
    "lenName": 16,
    "lenType": 16,
    "lenVar": 40
   },
   "kernels_config": {
    "python": {
     "delete_cmd_postfix": "",
     "delete_cmd_prefix": "del ",
     "library": "var_list.py",
     "varRefreshCmd": "print(var_dic_list())"
    },
    "r": {
     "delete_cmd_postfix": ") ",
     "delete_cmd_prefix": "rm(",
     "library": "var_list.r",
     "varRefreshCmd": "cat(var_dic_list()) "
    }
   },
   "types_to_exclude": [
    "module",
    "function",
    "builtin_function_or_method",
    "instance",
    "_Feature"
   ],
   "window_display": false
  }
 },
 "nbformat": 4,
 "nbformat_minor": 2
}
