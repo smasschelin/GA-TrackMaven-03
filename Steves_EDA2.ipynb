{
 "cells": [
  {
   "cell_type": "markdown",
   "metadata": {},
   "source": [
    "# Change Working Directory"
   ]
  },
  {
   "cell_type": "code",
   "execution_count": 1,
   "metadata": {
    "ExecuteTime": {
     "end_time": "2017-11-29T18:46:43.157739Z",
     "start_time": "2017-11-29T18:46:42.748849Z"
    }
   },
   "outputs": [],
   "source": [
    "import pandas as pd\n",
    "import os"
   ]
  },
  {
   "cell_type": "code",
   "execution_count": 2,
   "metadata": {
    "ExecuteTime": {
     "end_time": "2017-11-29T18:46:43.163346Z",
     "start_time": "2017-11-29T18:46:43.159902Z"
    }
   },
   "outputs": [],
   "source": [
    "abspath = os.path.abspath('OO_Importing_Data.py') # Get filepath\n",
    "dname = os.path.dirname(abspath) # Get directory\n",
    "os.chdir(dname) # Make directory working directory"
   ]
  },
  {
   "cell_type": "markdown",
   "metadata": {},
   "source": [
    "# EDA"
   ]
  },
  {
   "cell_type": "markdown",
   "metadata": {},
   "source": [
    "## Reading in the Data"
   ]
  },
  {
   "cell_type": "code",
   "execution_count": 3,
   "metadata": {
    "ExecuteTime": {
     "end_time": "2017-11-29T18:47:07.802281Z",
     "start_time": "2017-11-29T18:46:43.164944Z"
    }
   },
   "outputs": [],
   "source": [
    "data = pd.read_json('assets/newdump.json')"
   ]
  },
  {
   "cell_type": "markdown",
   "metadata": {},
   "source": [
    "## Splitting up the 'Channel Info' dictionaries into seperate columns"
   ]
  },
  {
   "cell_type": "code",
   "execution_count": 4,
   "metadata": {
    "ExecuteTime": {
     "end_time": "2017-11-29T18:47:08.500809Z",
     "start_time": "2017-11-29T18:47:07.804451Z"
    }
   },
   "outputs": [],
   "source": [
    "data['channel_type'] = [x['type'] for x in data['channel_info']]\n",
    "data['channel'] = [x['channel'] for x in data['channel_info']]"
   ]
  },
  {
   "cell_type": "code",
   "execution_count": 5,
   "metadata": {
    "ExecuteTime": {
     "end_time": "2017-11-29T18:47:09.454196Z",
     "start_time": "2017-11-29T18:47:08.503840Z"
    }
   },
   "outputs": [],
   "source": [
    "data.drop('channel_info', axis = 1, inplace=True)"
   ]
  },
  {
   "cell_type": "markdown",
   "metadata": {},
   "source": [
    "## Showing only Facebook and Instagram Data"
   ]
  },
  {
   "cell_type": "code",
   "execution_count": 6,
   "metadata": {
    "ExecuteTime": {
     "end_time": "2017-11-29T18:47:09.830401Z",
     "start_time": "2017-11-29T18:47:09.457038Z"
    }
   },
   "outputs": [],
   "source": [
    "FB_and_IG_data = data.loc[(data['channel'] == 'facebook') | (data['channel'] == 'instagram')]"
   ]
  },
  {
   "cell_type": "markdown",
   "metadata": {},
   "source": [
    "## Removing '' and [] from 'type' column for queries"
   ]
  },
  {
   "cell_type": "code",
   "execution_count": 7,
   "metadata": {
    "ExecuteTime": {
     "end_time": "2017-11-29T18:47:11.653537Z",
     "start_time": "2017-11-29T18:47:09.833395Z"
    },
    "scrolled": true
   },
   "outputs": [
    {
     "name": "stderr",
     "output_type": "stream",
     "text": [
      "/Users/skiparay/miniconda3/lib/python3.6/site-packages/ipykernel_launcher.py:1: SettingWithCopyWarning: \n",
      "A value is trying to be set on a copy of a slice from a DataFrame.\n",
      "Try using .loc[row_indexer,col_indexer] = value instead\n",
      "\n",
      "See the caveats in the documentation: http://pandas.pydata.org/pandas-docs/stable/indexing.html#indexing-view-versus-copy\n",
      "  \"\"\"Entry point for launching an IPython kernel.\n"
     ]
    }
   ],
   "source": [
    "FB_and_IG_data['channel_type'] = FB_and_IG_data['channel_type'].apply(lambda x: x[0])"
   ]
  },
  {
   "cell_type": "markdown",
   "metadata": {},
   "source": [
    "## Breaking down number of entries for each type of post. Looks like Facebook is a clear winner"
   ]
  },
  {
   "cell_type": "code",
   "execution_count": 8,
   "metadata": {
    "ExecuteTime": {
     "end_time": "2017-11-29T18:47:11.788669Z",
     "start_time": "2017-11-29T18:47:11.657115Z"
    }
   },
   "outputs": [
    {
     "data": {
      "text/plain": [
       "facebook post    249485\n",
       "instagram pic     17526\n",
       "instagram vid      2664\n",
       "Name: type, dtype: int64"
      ]
     },
     "execution_count": 8,
     "metadata": {},
     "output_type": "execute_result"
    }
   ],
   "source": [
    "FB_and_IG_data['type'].value_counts()"
   ]
  },
  {
   "cell_type": "markdown",
   "metadata": {},
   "source": [
    "## Replacing Values in 'brand' with the actual publication"
   ]
  },
  {
   "cell_type": "code",
   "execution_count": 9,
   "metadata": {
    "ExecuteTime": {
     "end_time": "2017-11-29T18:47:11.800833Z",
     "start_time": "2017-11-29T18:47:11.790622Z"
    }
   },
   "outputs": [
    {
     "data": {
      "text/plain": [
       "137322    46545\n",
       "137326    37444\n",
       "137329    32608\n",
       "137299    31680\n",
       "137316    28308\n",
       "137325    25983\n",
       "137321    24165\n",
       "137314    22100\n",
       "137300    20842\n",
       "Name: brand, dtype: int64"
      ]
     },
     "execution_count": 9,
     "metadata": {},
     "output_type": "execute_result"
    }
   ],
   "source": [
    "FB_and_IG_data['brand'].value_counts()"
   ]
  },
  {
   "cell_type": "markdown",
   "metadata": {},
   "source": [
    "Found these by plugging urls into google and seeing what showed up\n",
    "* Brand 137314 = Conde Naste Traveler\n",
    "* Brand 137329 = W Magazine\n",
    "* Brand 137321 = OnSelf Magazine\n",
    "* Brand 137325 = Vanity Fair\n",
    "* Brand 137300 = Clever\n",
    "* Brand 137322 = Teen Vogue\n",
    "* Brand 137299 = Allure\n",
    "* Brand 137326 = Vogue\n",
    "* Brand 137316 = Glamor"
   ]
  },
  {
   "cell_type": "code",
   "execution_count": 10,
   "metadata": {
    "ExecuteTime": {
     "end_time": "2017-11-29T18:47:13.430530Z",
     "start_time": "2017-11-29T18:47:11.803265Z"
    },
    "run_control": {
     "marked": true
    }
   },
   "outputs": [
    {
     "name": "stderr",
     "output_type": "stream",
     "text": [
      "/Users/skiparay/miniconda3/lib/python3.6/site-packages/ipykernel_launcher.py:10: SettingWithCopyWarning: \n",
      "A value is trying to be set on a copy of a slice from a DataFrame.\n",
      "Try using .loc[row_indexer,col_indexer] = value instead\n",
      "\n",
      "See the caveats in the documentation: http://pandas.pydata.org/pandas-docs/stable/indexing.html#indexing-view-versus-copy\n",
      "  # Remove the CWD from sys.path while we load stuff.\n"
     ]
    }
   ],
   "source": [
    "brands = {137314 : 'Conde_Naste_Traveler', \n",
    "          137329 : 'W_Magazine',\n",
    "          137321 : 'Onself',\n",
    "          137325 : 'Vanity_Fair', \n",
    "          137300 : 'Clever', \n",
    "          137322 : 'Teen_Vogue', \n",
    "          137299 : 'Allure', \n",
    "          137326 : 'Vogue',137316 : 'Glamor'\n",
    "         }\n",
    "FB_and_IG_data['brand'] = FB_and_IG_data['brand'].map(brands)                                                     "
   ]
  },
  {
   "cell_type": "markdown",
   "metadata": {},
   "source": [
    "## Taking a subset of just the Instagram data"
   ]
  },
  {
   "cell_type": "code",
   "execution_count": 11,
   "metadata": {
    "ExecuteTime": {
     "end_time": "2017-11-29T18:47:13.650811Z",
     "start_time": "2017-11-29T18:47:13.432550Z"
    },
    "run_control": {
     "marked": false
    }
   },
   "outputs": [],
   "source": [
    "instagram = FB_and_IG_data.loc[FB_and_IG_data['type'].isin(['instagram pic', 'instagram vid'])]"
   ]
  },
  {
   "cell_type": "code",
   "execution_count": 12,
   "metadata": {
    "ExecuteTime": {
     "end_time": "2017-11-29T18:47:13.665447Z",
     "start_time": "2017-11-29T18:47:13.652821Z"
    }
   },
   "outputs": [],
   "source": [
    "instagram = instagram.reset_index(drop=True)"
   ]
  },
  {
   "cell_type": "markdown",
   "metadata": {},
   "source": [
    "## Turning post_id into urls"
   ]
  },
  {
   "cell_type": "code",
   "execution_count": 13,
   "metadata": {
    "ExecuteTime": {
     "end_time": "2017-11-29T18:47:13.684962Z",
     "start_time": "2017-11-29T18:47:13.667791Z"
    }
   },
   "outputs": [],
   "source": [
    "instagram['post_id'] = [x['post_id'] for x in instagram['content']]"
   ]
  },
  {
   "cell_type": "code",
   "execution_count": 14,
   "metadata": {
    "ExecuteTime": {
     "end_time": "2017-11-29T18:47:13.838825Z",
     "start_time": "2017-11-29T18:47:13.687042Z"
    }
   },
   "outputs": [],
   "source": [
    "instagram['urls'] = 'http://instdrive.com/p/' + instagram['post_id'].astype(str)"
   ]
  },
  {
   "cell_type": "code",
   "execution_count": 18,
   "metadata": {
    "ExecuteTime": {
     "end_time": "2017-11-29T18:47:53.145069Z",
     "start_time": "2017-11-29T18:47:53.009690Z"
    },
    "run_control": {
     "marked": true
    }
   },
   "outputs": [],
   "source": [
    "instagram.drop(['post_id'], axis=1, inplace=True)"
   ]
  },
  {
   "cell_type": "code",
   "execution_count": 19,
   "metadata": {
    "ExecuteTime": {
     "end_time": "2017-11-29T18:47:55.976365Z",
     "start_time": "2017-11-29T18:47:55.959601Z"
    }
   },
   "outputs": [
    {
     "data": {
      "text/html": [
       "<div>\n",
       "<style scoped>\n",
       "    .dataframe tbody tr th:only-of-type {\n",
       "        vertical-align: middle;\n",
       "    }\n",
       "\n",
       "    .dataframe tbody tr th {\n",
       "        vertical-align: top;\n",
       "    }\n",
       "\n",
       "    .dataframe thead th {\n",
       "        text-align: right;\n",
       "    }\n",
       "</style>\n",
       "<table border=\"1\" class=\"dataframe\">\n",
       "  <thead>\n",
       "    <tr style=\"text-align: right;\">\n",
       "      <th></th>\n",
       "      <th>brand</th>\n",
       "      <th>content</th>\n",
       "      <th>engagement</th>\n",
       "      <th>has_spend</th>\n",
       "      <th>id</th>\n",
       "      <th>impact</th>\n",
       "      <th>share_token</th>\n",
       "      <th>timestamp</th>\n",
       "      <th>type</th>\n",
       "      <th>urls</th>\n",
       "      <th>channel_type</th>\n",
       "      <th>channel</th>\n",
       "    </tr>\n",
       "  </thead>\n",
       "  <tbody>\n",
       "    <tr>\n",
       "      <th>0</th>\n",
       "      <td>Vanity_Fair</td>\n",
       "      <td>{'links': [], 'post_id': '1649041401268187216_...</td>\n",
       "      <td>22842</td>\n",
       "      <td>NaN</td>\n",
       "      <td>MTM3MzI1LTE3MTM5MTc3X2luc3RhZ3JhbSBwaWNfMTc0ODM</td>\n",
       "      <td>0.916917</td>\n",
       "      <td>Rf-5cZ4Jd85T3ELj-vBlTwNQnqB4gu61mQ1EpB60sWzore...</td>\n",
       "      <td>2017-11-16 02:57:55</td>\n",
       "      <td>instagram pic</td>\n",
       "      <td>http://instdrive.com/p/1649041401268187216_112...</td>\n",
       "      <td>photo</td>\n",
       "      <td>instagram</td>\n",
       "    </tr>\n",
       "    <tr>\n",
       "      <th>1</th>\n",
       "      <td>Glamor</td>\n",
       "      <td>{'links': [], 'post_id': '1649001509906326487_...</td>\n",
       "      <td>515</td>\n",
       "      <td>NaN</td>\n",
       "      <td>MTM3MzE2LTE3MTMzNDMwX2luc3RhZ3JhbSBwaWNfMTc0ODM</td>\n",
       "      <td>0.104155</td>\n",
       "      <td>_jVh9Q5jkyQvc0vrcEvC3ANQnqB4gu61mQ1EpB60sWzore...</td>\n",
       "      <td>2017-11-16 01:38:40</td>\n",
       "      <td>instagram pic</td>\n",
       "      <td>http://instdrive.com/p/1649001509906326487_100...</td>\n",
       "      <td>photo</td>\n",
       "      <td>instagram</td>\n",
       "    </tr>\n",
       "    <tr>\n",
       "      <th>2</th>\n",
       "      <td>Allure</td>\n",
       "      <td>{'links': [], 'post_id': '1648982356717300124_...</td>\n",
       "      <td>1128</td>\n",
       "      <td>NaN</td>\n",
       "      <td>MTM3Mjk5LTE3MTM2NjM4X2luc3RhZ3JhbSBwaWNfMTc0ODM</td>\n",
       "      <td>0.373609</td>\n",
       "      <td>0QUMc4LpJEFQMVmFKCRD2wNQnqB4gu61mQ1EpB60sWzore...</td>\n",
       "      <td>2017-11-16 01:00:36</td>\n",
       "      <td>instagram pic</td>\n",
       "      <td>http://instdrive.com/p/1648982356717300124_248...</td>\n",
       "      <td>photo</td>\n",
       "      <td>instagram</td>\n",
       "    </tr>\n",
       "    <tr>\n",
       "      <th>3</th>\n",
       "      <td>Vanity_Fair</td>\n",
       "      <td>{'links': [], 'post_id': '1648951132480942881_...</td>\n",
       "      <td>16709</td>\n",
       "      <td>NaN</td>\n",
       "      <td>MTM3MzI1LTE3MTM5MTc4X2luc3RhZ3JhbSBwaWNfMTc0ODM</td>\n",
       "      <td>0.665746</td>\n",
       "      <td>O8uYi1okeMI9skZXMJXnkwNQnqB4gu61mQ1EpB60sWzore...</td>\n",
       "      <td>2017-11-15 23:58:34</td>\n",
       "      <td>instagram pic</td>\n",
       "      <td>http://instdrive.com/p/1648951132480942881_112...</td>\n",
       "      <td>photo</td>\n",
       "      <td>instagram</td>\n",
       "    </tr>\n",
       "    <tr>\n",
       "      <th>4</th>\n",
       "      <td>Clever</td>\n",
       "      <td>{'links': [], 'post_id': '1648930367465254552_...</td>\n",
       "      <td>6545</td>\n",
       "      <td>NaN</td>\n",
       "      <td>MTM3MzAwLTE3MTM2OTU0X2luc3RhZ3JhbSBwaWNfMTc0ODM</td>\n",
       "      <td>0.302599</td>\n",
       "      <td>m-LLj1UQCfKTd_aXjCJ-rwNQnqB4gu61mQ1EpB60sWzore...</td>\n",
       "      <td>2017-11-15 23:17:19</td>\n",
       "      <td>instagram pic</td>\n",
       "      <td>http://instdrive.com/p/1648930367465254552_239...</td>\n",
       "      <td>photo</td>\n",
       "      <td>instagram</td>\n",
       "    </tr>\n",
       "  </tbody>\n",
       "</table>\n",
       "</div>"
      ],
      "text/plain": [
       "         brand                                            content  engagement  \\\n",
       "0  Vanity_Fair  {'links': [], 'post_id': '1649041401268187216_...       22842   \n",
       "1       Glamor  {'links': [], 'post_id': '1649001509906326487_...         515   \n",
       "2       Allure  {'links': [], 'post_id': '1648982356717300124_...        1128   \n",
       "3  Vanity_Fair  {'links': [], 'post_id': '1648951132480942881_...       16709   \n",
       "4       Clever  {'links': [], 'post_id': '1648930367465254552_...        6545   \n",
       "\n",
       "   has_spend                                               id    impact  \\\n",
       "0        NaN  MTM3MzI1LTE3MTM5MTc3X2luc3RhZ3JhbSBwaWNfMTc0ODM  0.916917   \n",
       "1        NaN  MTM3MzE2LTE3MTMzNDMwX2luc3RhZ3JhbSBwaWNfMTc0ODM  0.104155   \n",
       "2        NaN  MTM3Mjk5LTE3MTM2NjM4X2luc3RhZ3JhbSBwaWNfMTc0ODM  0.373609   \n",
       "3        NaN  MTM3MzI1LTE3MTM5MTc4X2luc3RhZ3JhbSBwaWNfMTc0ODM  0.665746   \n",
       "4        NaN  MTM3MzAwLTE3MTM2OTU0X2luc3RhZ3JhbSBwaWNfMTc0ODM  0.302599   \n",
       "\n",
       "                                         share_token           timestamp  \\\n",
       "0  Rf-5cZ4Jd85T3ELj-vBlTwNQnqB4gu61mQ1EpB60sWzore... 2017-11-16 02:57:55   \n",
       "1  _jVh9Q5jkyQvc0vrcEvC3ANQnqB4gu61mQ1EpB60sWzore... 2017-11-16 01:38:40   \n",
       "2  0QUMc4LpJEFQMVmFKCRD2wNQnqB4gu61mQ1EpB60sWzore... 2017-11-16 01:00:36   \n",
       "3  O8uYi1okeMI9skZXMJXnkwNQnqB4gu61mQ1EpB60sWzore... 2017-11-15 23:58:34   \n",
       "4  m-LLj1UQCfKTd_aXjCJ-rwNQnqB4gu61mQ1EpB60sWzore... 2017-11-15 23:17:19   \n",
       "\n",
       "            type                                               urls  \\\n",
       "0  instagram pic  http://instdrive.com/p/1649041401268187216_112...   \n",
       "1  instagram pic  http://instdrive.com/p/1649001509906326487_100...   \n",
       "2  instagram pic  http://instdrive.com/p/1648982356717300124_248...   \n",
       "3  instagram pic  http://instdrive.com/p/1648951132480942881_112...   \n",
       "4  instagram pic  http://instdrive.com/p/1648930367465254552_239...   \n",
       "\n",
       "  channel_type    channel  \n",
       "0        photo  instagram  \n",
       "1        photo  instagram  \n",
       "2        photo  instagram  \n",
       "3        photo  instagram  \n",
       "4        photo  instagram  "
      ]
     },
     "execution_count": 19,
     "metadata": {},
     "output_type": "execute_result"
    }
   ],
   "source": [
    "instagram.head()"
   ]
  }
 ],
 "metadata": {
  "kernelspec": {
   "display_name": "Python 3",
   "language": "python",
   "name": "python3"
  },
  "language_info": {
   "codemirror_mode": {
    "name": "ipython",
    "version": 3
   },
   "file_extension": ".py",
   "mimetype": "text/x-python",
   "name": "python",
   "nbconvert_exporter": "python",
   "pygments_lexer": "ipython3",
   "version": "3.6.3"
  },
  "toc": {
   "nav_menu": {},
   "number_sections": true,
   "sideBar": true,
   "skip_h1_title": false,
   "toc_cell": false,
   "toc_position": {},
   "toc_section_display": "block",
   "toc_window_display": false
  },
  "varInspector": {
   "cols": {
    "lenName": 16,
    "lenType": 16,
    "lenVar": 40
   },
   "kernels_config": {
    "python": {
     "delete_cmd_postfix": "",
     "delete_cmd_prefix": "del ",
     "library": "var_list.py",
     "varRefreshCmd": "print(var_dic_list())"
    },
    "r": {
     "delete_cmd_postfix": ") ",
     "delete_cmd_prefix": "rm(",
     "library": "var_list.r",
     "varRefreshCmd": "cat(var_dic_list()) "
    }
   },
   "types_to_exclude": [
    "module",
    "function",
    "builtin_function_or_method",
    "instance",
    "_Feature"
   ],
   "window_display": false
  }
 },
 "nbformat": 4,
 "nbformat_minor": 2
}
