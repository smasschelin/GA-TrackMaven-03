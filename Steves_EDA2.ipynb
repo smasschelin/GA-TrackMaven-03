{
 "cells": [
  {
   "cell_type": "markdown",
   "metadata": {},
   "source": [
    "# Change Working Directory"
   ]
  },
  {
   "cell_type": "code",
   "execution_count": 102,
   "metadata": {
    "ExecuteTime": {
     "end_time": "2017-12-01T23:27:37.581506Z",
     "start_time": "2017-12-01T23:27:37.237473Z"
    }
   },
   "outputs": [
    {
     "name": "stderr",
     "output_type": "stream",
     "text": [
      "/Users/skiparay/miniconda3/lib/python3.6/site-packages/statsmodels/compat/pandas.py:56: FutureWarning: The pandas.core.datetools module is deprecated and will be removed in a future version. Please use the pandas.tseries module instead.\n",
      "  from pandas.core import datetools\n"
     ]
    }
   ],
   "source": [
    "import pandas as pd\n",
    "import os\n",
    "import statsmodels.api as sm"
   ]
  },
  {
   "cell_type": "code",
   "execution_count": 2,
   "metadata": {
    "ExecuteTime": {
     "end_time": "2017-12-01T19:59:15.526591Z",
     "start_time": "2017-12-01T19:59:15.522980Z"
    }
   },
   "outputs": [],
   "source": [
    "abspath = os.path.abspath('OO_Importing_Data.py') # Get filepath\n",
    "dname = os.path.dirname(abspath) # Get directory\n",
    "os.chdir(dname) # Make directory working directory"
   ]
  },
  {
   "cell_type": "markdown",
   "metadata": {},
   "source": [
    "# EDA"
   ]
  },
  {
   "cell_type": "markdown",
   "metadata": {},
   "source": [
    "## Reading in the Data"
   ]
  },
  {
   "cell_type": "code",
   "execution_count": 3,
   "metadata": {
    "ExecuteTime": {
     "end_time": "2017-12-01T19:59:40.782046Z",
     "start_time": "2017-12-01T19:59:15.528317Z"
    }
   },
   "outputs": [],
   "source": [
    "data = pd.read_json('assets/newdump.json')"
   ]
  },
  {
   "cell_type": "markdown",
   "metadata": {},
   "source": [
    "## Splitting up the 'Channel Info' dictionaries into seperate columns"
   ]
  },
  {
   "cell_type": "code",
   "execution_count": 4,
   "metadata": {
    "ExecuteTime": {
     "end_time": "2017-12-01T19:59:41.442499Z",
     "start_time": "2017-12-01T19:59:40.784690Z"
    }
   },
   "outputs": [],
   "source": [
    "data['channel_type'] = [x['type'] for x in data['channel_info']]\n",
    "data['channel'] = [x['channel'] for x in data['channel_info']]"
   ]
  },
  {
   "cell_type": "code",
   "execution_count": 5,
   "metadata": {
    "ExecuteTime": {
     "end_time": "2017-12-01T19:59:42.414557Z",
     "start_time": "2017-12-01T19:59:41.446105Z"
    }
   },
   "outputs": [],
   "source": [
    "data.drop('channel_info', axis = 1, inplace=True)"
   ]
  },
  {
   "cell_type": "markdown",
   "metadata": {},
   "source": [
    "## Showing only Facebook and Instagram Data"
   ]
  },
  {
   "cell_type": "code",
   "execution_count": 6,
   "metadata": {
    "ExecuteTime": {
     "end_time": "2017-12-01T19:59:42.805174Z",
     "start_time": "2017-12-01T19:59:42.417345Z"
    }
   },
   "outputs": [],
   "source": [
    "FB_and_IG_data = data.loc[(data['channel'] == 'facebook') | (data['channel'] == 'instagram')]"
   ]
  },
  {
   "cell_type": "markdown",
   "metadata": {},
   "source": [
    "## Removing '' and [] from 'type' column for queries"
   ]
  },
  {
   "cell_type": "code",
   "execution_count": 7,
   "metadata": {
    "ExecuteTime": {
     "end_time": "2017-12-01T19:59:44.592118Z",
     "start_time": "2017-12-01T19:59:42.807866Z"
    },
    "scrolled": true
   },
   "outputs": [
    {
     "name": "stderr",
     "output_type": "stream",
     "text": [
      "/Users/skiparay/miniconda3/lib/python3.6/site-packages/ipykernel_launcher.py:1: SettingWithCopyWarning: \n",
      "A value is trying to be set on a copy of a slice from a DataFrame.\n",
      "Try using .loc[row_indexer,col_indexer] = value instead\n",
      "\n",
      "See the caveats in the documentation: http://pandas.pydata.org/pandas-docs/stable/indexing.html#indexing-view-versus-copy\n",
      "  \"\"\"Entry point for launching an IPython kernel.\n"
     ]
    }
   ],
   "source": [
    "FB_and_IG_data['channel_type'] = FB_and_IG_data['channel_type'].apply(lambda x: x[0])"
   ]
  },
  {
   "cell_type": "markdown",
   "metadata": {},
   "source": [
    "## Breaking down number of entries for each type of post. Looks like Facebook is a clear winner"
   ]
  },
  {
   "cell_type": "code",
   "execution_count": 8,
   "metadata": {
    "ExecuteTime": {
     "end_time": "2017-12-01T19:59:44.735742Z",
     "start_time": "2017-12-01T19:59:44.596406Z"
    }
   },
   "outputs": [
    {
     "data": {
      "text/plain": [
       "facebook post    249485\n",
       "instagram pic     17526\n",
       "instagram vid      2664\n",
       "Name: type, dtype: int64"
      ]
     },
     "execution_count": 8,
     "metadata": {},
     "output_type": "execute_result"
    }
   ],
   "source": [
    "FB_and_IG_data['type'].value_counts()"
   ]
  },
  {
   "cell_type": "markdown",
   "metadata": {},
   "source": [
    "## Replacing Values in 'brand' with the actual publication"
   ]
  },
  {
   "cell_type": "code",
   "execution_count": 9,
   "metadata": {
    "ExecuteTime": {
     "end_time": "2017-12-01T19:59:44.751275Z",
     "start_time": "2017-12-01T19:59:44.738033Z"
    }
   },
   "outputs": [
    {
     "data": {
      "text/plain": [
       "137322    46545\n",
       "137326    37444\n",
       "137329    32608\n",
       "137299    31680\n",
       "137316    28308\n",
       "137325    25983\n",
       "137321    24165\n",
       "137314    22100\n",
       "137300    20842\n",
       "Name: brand, dtype: int64"
      ]
     },
     "execution_count": 9,
     "metadata": {},
     "output_type": "execute_result"
    }
   ],
   "source": [
    "FB_and_IG_data['brand'].value_counts()"
   ]
  },
  {
   "cell_type": "markdown",
   "metadata": {},
   "source": [
    "Found these by plugging urls into google and seeing what showed up\n",
    "* Brand 137314 = Conde Naste Traveler\n",
    "* Brand 137329 = W Magazine\n",
    "* Brand 137321 = OnSelf Magazine\n",
    "* Brand 137325 = Vanity Fair\n",
    "* Brand 137300 = Clever\n",
    "* Brand 137322 = Teen Vogue\n",
    "* Brand 137299 = Allure\n",
    "* Brand 137326 = Vogue\n",
    "* Brand 137316 = Glamor"
   ]
  },
  {
   "cell_type": "code",
   "execution_count": 10,
   "metadata": {
    "ExecuteTime": {
     "end_time": "2017-12-01T19:59:46.482411Z",
     "start_time": "2017-12-01T19:59:44.753534Z"
    },
    "run_control": {
     "marked": false
    }
   },
   "outputs": [
    {
     "name": "stderr",
     "output_type": "stream",
     "text": [
      "/Users/skiparay/miniconda3/lib/python3.6/site-packages/ipykernel_launcher.py:10: SettingWithCopyWarning: \n",
      "A value is trying to be set on a copy of a slice from a DataFrame.\n",
      "Try using .loc[row_indexer,col_indexer] = value instead\n",
      "\n",
      "See the caveats in the documentation: http://pandas.pydata.org/pandas-docs/stable/indexing.html#indexing-view-versus-copy\n",
      "  # Remove the CWD from sys.path while we load stuff.\n"
     ]
    }
   ],
   "source": [
    "brands = {137314 : 'Conde_Naste_Traveler', \n",
    "          137329 : 'W_Magazine',\n",
    "          137321 : 'Onself',\n",
    "          137325 : 'Vanity_Fair', \n",
    "          137300 : 'Clever', \n",
    "          137322 : 'Teen_Vogue', \n",
    "          137299 : 'Allure', \n",
    "          137326 : 'Vogue',137316 : 'Glamor'\n",
    "         }\n",
    "FB_and_IG_data['brand'] = FB_and_IG_data['brand'].map(brands)                                                     "
   ]
  },
  {
   "cell_type": "markdown",
   "metadata": {},
   "source": [
    "## Taking a subset of just the Instagram data"
   ]
  },
  {
   "cell_type": "code",
   "execution_count": 11,
   "metadata": {
    "ExecuteTime": {
     "end_time": "2017-12-01T19:59:46.747210Z",
     "start_time": "2017-12-01T19:59:46.486323Z"
    },
    "run_control": {
     "marked": false
    }
   },
   "outputs": [],
   "source": [
    "instagram = FB_and_IG_data.loc[FB_and_IG_data['type'].isin(['instagram pic', 'instagram vid'])]"
   ]
  },
  {
   "cell_type": "code",
   "execution_count": 12,
   "metadata": {
    "ExecuteTime": {
     "end_time": "2017-12-01T19:59:46.766006Z",
     "start_time": "2017-12-01T19:59:46.750662Z"
    }
   },
   "outputs": [],
   "source": [
    "instagram = instagram.reset_index(drop=True)"
   ]
  },
  {
   "cell_type": "markdown",
   "metadata": {},
   "source": [
    "## Getting data from the content column"
   ]
  },
  {
   "cell_type": "code",
   "execution_count": 13,
   "metadata": {
    "ExecuteTime": {
     "end_time": "2017-12-01T19:59:46.774159Z",
     "start_time": "2017-12-01T19:59:46.769136Z"
    }
   },
   "outputs": [],
   "source": [
    "instacontent = instagram['content']"
   ]
  },
  {
   "cell_type": "code",
   "execution_count": 14,
   "metadata": {
    "ExecuteTime": {
     "end_time": "2017-12-01T19:59:47.465050Z",
     "start_time": "2017-12-01T19:59:46.777201Z"
    }
   },
   "outputs": [
    {
     "data": {
      "text/plain": [
       "17526"
      ]
     },
     "execution_count": 14,
     "metadata": {},
     "output_type": "execute_result"
    }
   ],
   "source": [
    "sum([instacontent[i].keys() == instacontent[0].keys() for i in range(len(instacontent))])\n",
    "#Seeing how many image entries we have."
   ]
  },
  {
   "cell_type": "code",
   "execution_count": 15,
   "metadata": {
    "ExecuteTime": {
     "end_time": "2017-12-01T19:59:48.161627Z",
     "start_time": "2017-12-01T19:59:47.467664Z"
    }
   },
   "outputs": [
    {
     "data": {
      "text/plain": [
       "2664"
      ]
     },
     "execution_count": 15,
     "metadata": {},
     "output_type": "execute_result"
    }
   ],
   "source": [
    "sum([instacontent[i].keys() != instacontent[0].keys() for i in range(len(instacontent))])\n",
    "#Seeing how many video entries we have."
   ]
  },
  {
   "cell_type": "markdown",
   "metadata": {},
   "source": [
    "## Splitting Instagram data into seperate image and video frames"
   ]
  },
  {
   "cell_type": "code",
   "execution_count": 16,
   "metadata": {
    "ExecuteTime": {
     "end_time": "2017-12-01T19:59:48.191354Z",
     "start_time": "2017-12-01T19:59:48.165636Z"
    }
   },
   "outputs": [],
   "source": [
    "instapics = instagram.loc[(instagram['type'] == 'instagram pic')]\n",
    "instapics = instapics.reset_index(drop=True)"
   ]
  },
  {
   "cell_type": "code",
   "execution_count": 17,
   "metadata": {
    "ExecuteTime": {
     "end_time": "2017-12-01T19:59:48.211581Z",
     "start_time": "2017-12-01T19:59:48.194325Z"
    }
   },
   "outputs": [],
   "source": [
    "instavids = instagram.loc[(instagram['type'] == 'instagram vid')]\n",
    "instavids = instavids.reset_index(drop=True)"
   ]
  },
  {
   "cell_type": "code",
   "execution_count": 18,
   "metadata": {
    "ExecuteTime": {
     "end_time": "2017-12-01T19:59:48.218766Z",
     "start_time": "2017-12-01T19:59:48.214612Z"
    }
   },
   "outputs": [],
   "source": [
    "instapicscontent = instapics['content']"
   ]
  },
  {
   "cell_type": "code",
   "execution_count": 19,
   "metadata": {
    "ExecuteTime": {
     "end_time": "2017-12-01T19:59:48.227444Z",
     "start_time": "2017-12-01T19:59:48.221684Z"
    }
   },
   "outputs": [],
   "source": [
    "picframe = pd.DataFrame.from_dict(instapicscontent)"
   ]
  },
  {
   "cell_type": "code",
   "execution_count": 20,
   "metadata": {
    "ExecuteTime": {
     "end_time": "2017-12-01T19:59:48.236712Z",
     "start_time": "2017-12-01T19:59:48.230389Z"
    }
   },
   "outputs": [],
   "source": [
    "instavidscontent = instavids['content']"
   ]
  },
  {
   "cell_type": "code",
   "execution_count": 21,
   "metadata": {
    "ExecuteTime": {
     "end_time": "2017-12-01T19:59:48.245141Z",
     "start_time": "2017-12-01T19:59:48.240256Z"
    }
   },
   "outputs": [],
   "source": [
    "vidframe = pd.DataFrame.from_dict(instavidscontent)"
   ]
  },
  {
   "cell_type": "code",
   "execution_count": 22,
   "metadata": {
    "ExecuteTime": {
     "end_time": "2017-12-01T19:59:48.401958Z",
     "start_time": "2017-12-01T19:59:48.247483Z"
    }
   },
   "outputs": [],
   "source": [
    "picframe['caption']  = [x['caption'] for x in instapics['content']]\n",
    "picframe['comment_count']  = [x['comment_count'] for x in instapics['content']]\n",
    "picframe['filter_name'] = [x['filter_name'] for x in instapics['content']]\n",
    "picframe['hashtags'] = [x['hashtags'] for x in instapics['content']]\n",
    "picframe['image_url'] = [x['image_url'] for x in instapics['content']]\n",
    "picframe['like_count'] = [x['like_count'] for x in instapics['content']]\n",
    "picframe['link'] = [x['link'] for x in instapics['content']]\n",
    "picframe['links'] = [x['links'] for x in instapics['content']]\n",
    "picframe['post_id'] = [x['post_id'] for x in instapics['content']]"
   ]
  },
  {
   "cell_type": "code",
   "execution_count": 23,
   "metadata": {
    "ExecuteTime": {
     "end_time": "2017-12-01T19:59:48.480332Z",
     "start_time": "2017-12-01T19:59:48.404859Z"
    }
   },
   "outputs": [
    {
     "data": {
      "text/html": [
       "<div>\n",
       "<style scoped>\n",
       "    .dataframe tbody tr th:only-of-type {\n",
       "        vertical-align: middle;\n",
       "    }\n",
       "\n",
       "    .dataframe tbody tr th {\n",
       "        vertical-align: top;\n",
       "    }\n",
       "\n",
       "    .dataframe thead th {\n",
       "        text-align: right;\n",
       "    }\n",
       "</style>\n",
       "<table border=\"1\" class=\"dataframe\">\n",
       "  <thead>\n",
       "    <tr style=\"text-align: right;\">\n",
       "      <th></th>\n",
       "      <th>caption</th>\n",
       "      <th>comment_count</th>\n",
       "      <th>filter_name</th>\n",
       "      <th>hashtags</th>\n",
       "      <th>image_url</th>\n",
       "      <th>like_count</th>\n",
       "      <th>link</th>\n",
       "      <th>links</th>\n",
       "      <th>post_id</th>\n",
       "    </tr>\n",
       "  </thead>\n",
       "  <tbody>\n",
       "    <tr>\n",
       "      <th>0</th>\n",
       "      <td>@JLo &amp; @ARod isn't just another love story; it...</td>\n",
       "      <td>164</td>\n",
       "      <td>Normal</td>\n",
       "      <td></td>\n",
       "      <td>https://scontent.cdninstagram.com/t51.2885-15/...</td>\n",
       "      <td>22678</td>\n",
       "      <td>https://www.instagram.com/p/BbikmregLBQ/</td>\n",
       "      <td>[]</td>\n",
       "      <td>1649041401268187216_11206038</td>\n",
       "    </tr>\n",
       "    <tr>\n",
       "      <th>1</th>\n",
       "      <td>We're still not over all the cute moments 😍  a...</td>\n",
       "      <td>3</td>\n",
       "      <td>Normal</td>\n",
       "      <td>GlamourWOTY</td>\n",
       "      <td>https://scontent.cdninstagram.com/t51.2885-15/...</td>\n",
       "      <td>512</td>\n",
       "      <td>https://www.instagram.com/p/BbibiLwDKPX/</td>\n",
       "      <td>[]</td>\n",
       "      <td>1649001509906326487_10070230</td>\n",
       "    </tr>\n",
       "    <tr>\n",
       "      <th>2</th>\n",
       "      <td>It's no secret how much we love makeup, and if...</td>\n",
       "      <td>11</td>\n",
       "      <td>Normal</td>\n",
       "      <td>EditorsFaves</td>\n",
       "      <td>https://scontent.cdninstagram.com/t51.2885-15/...</td>\n",
       "      <td>1117</td>\n",
       "      <td>https://www.instagram.com/p/BbiXLd9BWmc/</td>\n",
       "      <td>[]</td>\n",
       "      <td>1648982356717300124_24852591</td>\n",
       "    </tr>\n",
       "    <tr>\n",
       "      <th>3</th>\n",
       "      <td>Amber Heard has one simple trick for narrowing...</td>\n",
       "      <td>101</td>\n",
       "      <td>Normal</td>\n",
       "      <td></td>\n",
       "      <td>https://scontent.cdninstagram.com/t51.2885-15/...</td>\n",
       "      <td>16608</td>\n",
       "      <td>https://www.instagram.com/p/BbiQFGHgTMh/</td>\n",
       "      <td>[]</td>\n",
       "      <td>1648951132480942881_11206038</td>\n",
       "    </tr>\n",
       "    <tr>\n",
       "      <th>4</th>\n",
       "      <td>By painting the home office of a Nolita loft b...</td>\n",
       "      <td>37</td>\n",
       "      <td>Normal</td>\n",
       "      <td>linkinbio</td>\n",
       "      <td>https://scontent.cdninstagram.com/t51.2885-15/...</td>\n",
       "      <td>6508</td>\n",
       "      <td>https://www.instagram.com/p/BbiLW7MHu6Y/</td>\n",
       "      <td>[]</td>\n",
       "      <td>1648930367465254552_239180867</td>\n",
       "    </tr>\n",
       "  </tbody>\n",
       "</table>\n",
       "</div>"
      ],
      "text/plain": [
       "                                             caption  comment_count  \\\n",
       "0  @JLo & @ARod isn't just another love story; it...            164   \n",
       "1  We're still not over all the cute moments 😍  a...              3   \n",
       "2  It's no secret how much we love makeup, and if...             11   \n",
       "3  Amber Heard has one simple trick for narrowing...            101   \n",
       "4  By painting the home office of a Nolita loft b...             37   \n",
       "\n",
       "  filter_name      hashtags  \\\n",
       "0      Normal                 \n",
       "1      Normal   GlamourWOTY   \n",
       "2      Normal  EditorsFaves   \n",
       "3      Normal                 \n",
       "4      Normal     linkinbio   \n",
       "\n",
       "                                           image_url  like_count  \\\n",
       "0  https://scontent.cdninstagram.com/t51.2885-15/...       22678   \n",
       "1  https://scontent.cdninstagram.com/t51.2885-15/...         512   \n",
       "2  https://scontent.cdninstagram.com/t51.2885-15/...        1117   \n",
       "3  https://scontent.cdninstagram.com/t51.2885-15/...       16608   \n",
       "4  https://scontent.cdninstagram.com/t51.2885-15/...        6508   \n",
       "\n",
       "                                       link links  \\\n",
       "0  https://www.instagram.com/p/BbikmregLBQ/    []   \n",
       "1  https://www.instagram.com/p/BbibiLwDKPX/    []   \n",
       "2  https://www.instagram.com/p/BbiXLd9BWmc/    []   \n",
       "3  https://www.instagram.com/p/BbiQFGHgTMh/    []   \n",
       "4  https://www.instagram.com/p/BbiLW7MHu6Y/    []   \n",
       "\n",
       "                         post_id  \n",
       "0   1649041401268187216_11206038  \n",
       "1   1649001509906326487_10070230  \n",
       "2   1648982356717300124_24852591  \n",
       "3   1648951132480942881_11206038  \n",
       "4  1648930367465254552_239180867  "
      ]
     },
     "execution_count": 23,
     "metadata": {},
     "output_type": "execute_result"
    }
   ],
   "source": [
    "picframe.drop(['content'], axis = 1, inplace = True)\n",
    "picframe = picframe.reset_index(drop=True)\n",
    "picframe.head()"
   ]
  },
  {
   "cell_type": "code",
   "execution_count": 125,
   "metadata": {
    "ExecuteTime": {
     "end_time": "2017-12-02T00:02:14.008578Z",
     "start_time": "2017-12-02T00:02:13.994690Z"
    }
   },
   "outputs": [
    {
     "data": {
      "text/plain": [
       "<bound method IndexOpsMixin.value_counts of 0                 []\n",
       "1                 []\n",
       "2                 []\n",
       "3                 []\n",
       "4                 []\n",
       "5                 []\n",
       "6                 []\n",
       "7         [wmag.com]\n",
       "8                 []\n",
       "9                 []\n",
       "10                []\n",
       "11                []\n",
       "12                []\n",
       "13                []\n",
       "14                []\n",
       "15                []\n",
       "16                []\n",
       "17                []\n",
       "18                []\n",
       "19                []\n",
       "20                []\n",
       "21                []\n",
       "22                []\n",
       "23                []\n",
       "24                []\n",
       "25                []\n",
       "26                []\n",
       "27                []\n",
       "28                []\n",
       "29                []\n",
       "            ...     \n",
       "17496             []\n",
       "17497             []\n",
       "17498             []\n",
       "17499    [wmag.com.]\n",
       "17500             []\n",
       "17501             []\n",
       "17502    [a:Beacon,]\n",
       "17503             []\n",
       "17504             []\n",
       "17505             []\n",
       "17506             []\n",
       "17507             []\n",
       "17508             []\n",
       "17509             []\n",
       "17510             []\n",
       "17511             []\n",
       "17512             []\n",
       "17513             []\n",
       "17514             []\n",
       "17515             []\n",
       "17516             []\n",
       "17517             []\n",
       "17518             []\n",
       "17519             []\n",
       "17520             []\n",
       "17521             []\n",
       "17522             []\n",
       "17523             []\n",
       "17524             []\n",
       "17525             []\n",
       "Name: links, Length: 17526, dtype: object>"
      ]
     },
     "execution_count": 125,
     "metadata": {},
     "output_type": "execute_result"
    }
   ],
   "source": [
    "picframe.links.value_counts"
   ]
  },
  {
   "cell_type": "code",
   "execution_count": 127,
   "metadata": {
    "ExecuteTime": {
     "end_time": "2017-12-02T00:02:53.525670Z",
     "start_time": "2017-12-02T00:02:53.509543Z"
    }
   },
   "outputs": [
    {
     "ename": "TypeError",
     "evalue": "expected string or bytes-like object",
     "output_type": "error",
     "traceback": [
      "\u001b[0;31m---------------------------------------------------------------------------\u001b[0m",
      "\u001b[0;31mTypeError\u001b[0m                                 Traceback (most recent call last)",
      "\u001b[0;32m<ipython-input-127-6e8fe72f1d1d>\u001b[0m in \u001b[0;36m<module>\u001b[0;34m()\u001b[0m\n\u001b[0;32m----> 1\u001b[0;31m \u001b[0mre\u001b[0m\u001b[0;34m.\u001b[0m\u001b[0msub\u001b[0m\u001b[0;34m(\u001b[0m\u001b[0;34mr'[^\\x00-\\x7F]'\u001b[0m\u001b[0;34m,\u001b[0m \u001b[0;34m''\u001b[0m\u001b[0;34m,\u001b[0m \u001b[0mpicframe\u001b[0m\u001b[0;34m.\u001b[0m\u001b[0mlinks\u001b[0m\u001b[0;34m)\u001b[0m\u001b[0;34m\u001b[0m\u001b[0m\n\u001b[0m",
      "\u001b[0;32m~/miniconda3/lib/python3.6/re.py\u001b[0m in \u001b[0;36msub\u001b[0;34m(pattern, repl, string, count, flags)\u001b[0m\n\u001b[1;32m    189\u001b[0m     \u001b[0ma\u001b[0m \u001b[0mcallable\u001b[0m\u001b[0;34m,\u001b[0m \u001b[0mit\u001b[0m\u001b[0;31m'\u001b[0m\u001b[0ms\u001b[0m \u001b[0mpassed\u001b[0m \u001b[0mthe\u001b[0m \u001b[0mmatch\u001b[0m \u001b[0mobject\u001b[0m \u001b[0;32mand\u001b[0m \u001b[0mmust\u001b[0m \u001b[0;32mreturn\u001b[0m\u001b[0;34m\u001b[0m\u001b[0m\n\u001b[1;32m    190\u001b[0m     a replacement string to be used.\"\"\"\n\u001b[0;32m--> 191\u001b[0;31m     \u001b[0;32mreturn\u001b[0m \u001b[0m_compile\u001b[0m\u001b[0;34m(\u001b[0m\u001b[0mpattern\u001b[0m\u001b[0;34m,\u001b[0m \u001b[0mflags\u001b[0m\u001b[0;34m)\u001b[0m\u001b[0;34m.\u001b[0m\u001b[0msub\u001b[0m\u001b[0;34m(\u001b[0m\u001b[0mrepl\u001b[0m\u001b[0;34m,\u001b[0m \u001b[0mstring\u001b[0m\u001b[0;34m,\u001b[0m \u001b[0mcount\u001b[0m\u001b[0;34m)\u001b[0m\u001b[0;34m\u001b[0m\u001b[0m\n\u001b[0m\u001b[1;32m    192\u001b[0m \u001b[0;34m\u001b[0m\u001b[0m\n\u001b[1;32m    193\u001b[0m \u001b[0;32mdef\u001b[0m \u001b[0msubn\u001b[0m\u001b[0;34m(\u001b[0m\u001b[0mpattern\u001b[0m\u001b[0;34m,\u001b[0m \u001b[0mrepl\u001b[0m\u001b[0;34m,\u001b[0m \u001b[0mstring\u001b[0m\u001b[0;34m,\u001b[0m \u001b[0mcount\u001b[0m\u001b[0;34m=\u001b[0m\u001b[0;36m0\u001b[0m\u001b[0;34m,\u001b[0m \u001b[0mflags\u001b[0m\u001b[0;34m=\u001b[0m\u001b[0;36m0\u001b[0m\u001b[0;34m)\u001b[0m\u001b[0;34m:\u001b[0m\u001b[0;34m\u001b[0m\u001b[0m\n",
      "\u001b[0;31mTypeError\u001b[0m: expected string or bytes-like object"
     ]
    }
   ],
   "source": [
    "re.sub(r'[^\\x00-\\x7F]', '', picframe.links)"
   ]
  },
  {
   "cell_type": "code",
   "execution_count": 24,
   "metadata": {
    "ExecuteTime": {
     "end_time": "2017-12-01T19:59:48.526621Z",
     "start_time": "2017-12-01T19:59:48.483396Z"
    }
   },
   "outputs": [],
   "source": [
    "vidframe['caption'] = [x['caption'] for x in instavids['content']]\n",
    "vidframe['comment_count'] = [x['comment_count'] for x in instavids['content']]\n",
    "vidframe['filter_name'] = [x['filter_name'] for x in instavids['content']]\n",
    "vidframe['hashtags'] = [x['hashtags'] for x in instavids['content']]\n",
    "vidframe['image_url'] = [x['image_url'] for x in instavids['content']]\n",
    "vidframe['like_count'] = [x['like_count'] for x in instavids['content']]\n",
    "vidframe['link'] = [x['link'] for x in instavids['content']]\n",
    "vidframe['links'] = [x['links'] for x in instavids['content']]\n",
    "vidframe['post_id'] = [x['post_id'] for x in instavids['content']]\n",
    "vidframe['video_url'] = [x['video_url'] for x in instavids['content']]"
   ]
  },
  {
   "cell_type": "code",
   "execution_count": 25,
   "metadata": {
    "ExecuteTime": {
     "end_time": "2017-12-01T19:59:48.564197Z",
     "start_time": "2017-12-01T19:59:48.528954Z"
    }
   },
   "outputs": [
    {
     "data": {
      "text/html": [
       "<div>\n",
       "<style scoped>\n",
       "    .dataframe tbody tr th:only-of-type {\n",
       "        vertical-align: middle;\n",
       "    }\n",
       "\n",
       "    .dataframe tbody tr th {\n",
       "        vertical-align: top;\n",
       "    }\n",
       "\n",
       "    .dataframe thead th {\n",
       "        text-align: right;\n",
       "    }\n",
       "</style>\n",
       "<table border=\"1\" class=\"dataframe\">\n",
       "  <thead>\n",
       "    <tr style=\"text-align: right;\">\n",
       "      <th></th>\n",
       "      <th>caption</th>\n",
       "      <th>comment_count</th>\n",
       "      <th>filter_name</th>\n",
       "      <th>hashtags</th>\n",
       "      <th>image_url</th>\n",
       "      <th>like_count</th>\n",
       "      <th>link</th>\n",
       "      <th>links</th>\n",
       "      <th>post_id</th>\n",
       "      <th>video_url</th>\n",
       "    </tr>\n",
       "  </thead>\n",
       "  <tbody>\n",
       "    <tr>\n",
       "      <th>0</th>\n",
       "      <td>We asked people to explain in their own words ...</td>\n",
       "      <td>1</td>\n",
       "      <td>Normal</td>\n",
       "      <td>linkinbio health wellness birthcontrol</td>\n",
       "      <td>https://scontent.cdninstagram.com/t51.2885-15/...</td>\n",
       "      <td>103</td>\n",
       "      <td>https://www.instagram.com/p/BbiFr_fHgFs/</td>\n",
       "      <td>[]</td>\n",
       "      <td>1648905426908873068_13622784</td>\n",
       "      <td>https://scontent.cdninstagram.com/t50.2886-16/...</td>\n",
       "    </tr>\n",
       "    <tr>\n",
       "      <th>1</th>\n",
       "      <td>@traceeellisross breaks down in a powerful tal...</td>\n",
       "      <td>110</td>\n",
       "      <td>Normal</td>\n",
       "      <td>linkinbio glamourwoty</td>\n",
       "      <td>https://scontent.cdninstagram.com/t51.2885-15/...</td>\n",
       "      <td>3750</td>\n",
       "      <td>https://www.instagram.com/p/Bbh6nihDSkb/</td>\n",
       "      <td>[]</td>\n",
       "      <td>1648856742413281563_10070230</td>\n",
       "      <td>https://scontent.cdninstagram.com/t50.2886-16/...</td>\n",
       "    </tr>\n",
       "    <tr>\n",
       "      <th>2</th>\n",
       "      <td>@carmenelectra has a closet full of memories. ...</td>\n",
       "      <td>78</td>\n",
       "      <td>Normal</td>\n",
       "      <td></td>\n",
       "      <td>https://scontent.cdninstagram.com/t51.2885-15/...</td>\n",
       "      <td>13677</td>\n",
       "      <td>https://www.instagram.com/p/BbhQME6ADHH/</td>\n",
       "      <td>[]</td>\n",
       "      <td>1648670137240269255_198154074</td>\n",
       "      <td>https://scontent.cdninstagram.com/t50.2886-16/...</td>\n",
       "    </tr>\n",
       "    <tr>\n",
       "      <th>3</th>\n",
       "      <td>Just take all of my money... 💸💄</td>\n",
       "      <td>540</td>\n",
       "      <td>Normal</td>\n",
       "      <td></td>\n",
       "      <td>https://scontent.cdninstagram.com/t51.2885-15/...</td>\n",
       "      <td>28393</td>\n",
       "      <td>https://www.instagram.com/p/BbhFhVan5qm/</td>\n",
       "      <td>[]</td>\n",
       "      <td>1648623219564845734_4073479</td>\n",
       "      <td>https://scontent.cdninstagram.com/t50.2886-16/...</td>\n",
       "    </tr>\n",
       "    <tr>\n",
       "      <th>4</th>\n",
       "      <td>What's @fullfrontalsamb's superpower? \"Super t...</td>\n",
       "      <td>23</td>\n",
       "      <td>Normal</td>\n",
       "      <td>glamourwoty</td>\n",
       "      <td>https://scontent.cdninstagram.com/t51.2885-15/...</td>\n",
       "      <td>1133</td>\n",
       "      <td>https://www.instagram.com/p/Bbf_hXfDXnh/</td>\n",
       "      <td>[]</td>\n",
       "      <td>1648315358530861537_10070230</td>\n",
       "      <td>https://scontent.cdninstagram.com/t50.2886-16/...</td>\n",
       "    </tr>\n",
       "  </tbody>\n",
       "</table>\n",
       "</div>"
      ],
      "text/plain": [
       "                                             caption  comment_count  \\\n",
       "0  We asked people to explain in their own words ...              1   \n",
       "1  @traceeellisross breaks down in a powerful tal...            110   \n",
       "2  @carmenelectra has a closet full of memories. ...             78   \n",
       "3                    Just take all of my money... 💸💄            540   \n",
       "4  What's @fullfrontalsamb's superpower? \"Super t...             23   \n",
       "\n",
       "  filter_name                                hashtags  \\\n",
       "0      Normal  linkinbio health wellness birthcontrol   \n",
       "1      Normal                   linkinbio glamourwoty   \n",
       "2      Normal                                           \n",
       "3      Normal                                           \n",
       "4      Normal                             glamourwoty   \n",
       "\n",
       "                                           image_url  like_count  \\\n",
       "0  https://scontent.cdninstagram.com/t51.2885-15/...         103   \n",
       "1  https://scontent.cdninstagram.com/t51.2885-15/...        3750   \n",
       "2  https://scontent.cdninstagram.com/t51.2885-15/...       13677   \n",
       "3  https://scontent.cdninstagram.com/t51.2885-15/...       28393   \n",
       "4  https://scontent.cdninstagram.com/t51.2885-15/...        1133   \n",
       "\n",
       "                                       link links  \\\n",
       "0  https://www.instagram.com/p/BbiFr_fHgFs/    []   \n",
       "1  https://www.instagram.com/p/Bbh6nihDSkb/    []   \n",
       "2  https://www.instagram.com/p/BbhQME6ADHH/    []   \n",
       "3  https://www.instagram.com/p/BbhFhVan5qm/    []   \n",
       "4  https://www.instagram.com/p/Bbf_hXfDXnh/    []   \n",
       "\n",
       "                         post_id  \\\n",
       "0   1648905426908873068_13622784   \n",
       "1   1648856742413281563_10070230   \n",
       "2  1648670137240269255_198154074   \n",
       "3    1648623219564845734_4073479   \n",
       "4   1648315358530861537_10070230   \n",
       "\n",
       "                                           video_url  \n",
       "0  https://scontent.cdninstagram.com/t50.2886-16/...  \n",
       "1  https://scontent.cdninstagram.com/t50.2886-16/...  \n",
       "2  https://scontent.cdninstagram.com/t50.2886-16/...  \n",
       "3  https://scontent.cdninstagram.com/t50.2886-16/...  \n",
       "4  https://scontent.cdninstagram.com/t50.2886-16/...  "
      ]
     },
     "execution_count": 25,
     "metadata": {},
     "output_type": "execute_result"
    }
   ],
   "source": [
    "vidframe.drop(['content'], axis = 1, inplace = True)\n",
    "vidframe = vidframe.reset_index(drop=True)\n",
    "vidframe.head()"
   ]
  },
  {
   "cell_type": "code",
   "execution_count": 90,
   "metadata": {
    "ExecuteTime": {
     "end_time": "2017-12-01T22:49:47.277492Z",
     "start_time": "2017-12-01T22:49:47.245383Z"
    }
   },
   "outputs": [],
   "source": [
    "pichash = picframe['hashtags'].value_counts()\n",
    "pichash = pichash.iloc[1:]\n",
    "pichash = pichash.astype(str)"
   ]
  },
  {
   "cell_type": "code",
   "execution_count": 91,
   "metadata": {
    "ExecuteTime": {
     "end_time": "2017-12-01T22:49:48.197007Z",
     "start_time": "2017-12-01T22:49:48.186647Z"
    }
   },
   "outputs": [],
   "source": [
    "vidhash = vidframe['hashtags'].value_counts()\n",
    "vidhash = vidhash.iloc[1:]\n",
    "vidhash = vidhash.astype(str)"
   ]
  },
  {
   "cell_type": "code",
   "execution_count": 94,
   "metadata": {
    "ExecuteTime": {
     "end_time": "2017-12-01T23:02:31.599061Z",
     "start_time": "2017-12-01T23:02:31.593979Z"
    }
   },
   "outputs": [],
   "source": [
    "# from sklearn.feature_extraction.text import CountVectorizer\n",
    "\n",
    "# picvect = CountVectorizer(analyzer = \"word\",   \n",
    "#                              tokenizer = None,    \n",
    "#                              preprocessor = None, \n",
    "#                              stop_words = 'english',   \n",
    "#                              max_features = 10000,\n",
    "#                              min_df = 1)\n",
    "\n",
    "# vidvect = CountVectorizer(analyzer = \"word\",   \n",
    "#                              tokenizer = None,    \n",
    "#                              preprocessor = None, \n",
    "#                              stop_words = 'english',   \n",
    "#                              max_features = 10000,\n",
    "#                              min_df = 1)"
   ]
  },
  {
   "cell_type": "code",
   "execution_count": 95,
   "metadata": {
    "ExecuteTime": {
     "end_time": "2017-12-01T23:02:32.684618Z",
     "start_time": "2017-12-01T23:02:32.661928Z"
    }
   },
   "outputs": [],
   "source": [
    "# picthashcorp = picvect.fit_transform(pichash)\n",
    "# pichashcorparray = picthashcorp.toarray()\n",
    "\n",
    "# vidhashcorp = picvect.fit_transform(vidhash)\n",
    "# vidhashcorparray = vidhashcorp.toarray()"
   ]
  },
  {
   "cell_type": "code",
   "execution_count": null,
   "metadata": {
    "ExecuteTime": {
     "end_time": "2017-12-01T22:49:06.017219Z",
     "start_time": "2017-12-01T22:49:06.005389Z"
    }
   },
   "outputs": [],
   "source": [
    "# from sklearn.neighbors import KNeighborsClassifier\n",
    "\n",
    "# picclf = KNeighborsClassifier(n_neighbors=5)\n",
    "# picclf.fit(pichashcorparray, ) #Needs a y value"
   ]
  },
  {
   "cell_type": "markdown",
   "metadata": {},
   "source": [
    "# Modeling Functions (WORK IN PROGRESS!)"
   ]
  },
  {
   "cell_type": "code",
   "execution_count": 99,
   "metadata": {
    "ExecuteTime": {
     "end_time": "2017-12-01T23:17:04.148434Z",
     "start_time": "2017-12-01T23:17:04.132620Z"
    }
   },
   "outputs": [],
   "source": [
    "from sklearn.feature_extraction.text import CountVectorizer\n",
    "from sklearn.neighbors import KNeighborsClassifier\n",
    "\n",
    "def InstaVect(wordseries, Y):\n",
    "    try:\n",
    "        wordseries = wordseries.astype(str)\n",
    "    except ValueError:\n",
    "        print(\"ERROR: Entries must be string or list of strings.\")\n",
    "    \n",
    "    vectorizer = CountVectorizer(analyzer = \"word\",   \n",
    "                             tokenizer = None,    \n",
    "                             preprocessor = None, \n",
    "                             stop_words = 'english',   \n",
    "                             max_features = 10000,\n",
    "                             min_df = 1)\n",
    "    corpus = vectorizer.fit_transform(wordseries)\n",
    "    corpus = corpus.to_array\n",
    "    \n",
    "    classifier = KNeighborsClassifier(n_neighbors=5)\n",
    "    \n",
    "    return classifier.fit(corpus, y=Y)\n",
    "\n",
    "#Don't know if this works"
   ]
  },
  {
   "cell_type": "code",
   "execution_count": 117,
   "metadata": {
    "ExecuteTime": {
     "end_time": "2017-12-01T23:42:38.761565Z",
     "start_time": "2017-12-01T23:42:38.737593Z"
    }
   },
   "outputs": [],
   "source": [
    "from sklearn.model_selection import train_test_split\n",
    "from sklearn.model_selection import cross_val_score, cross_val_predict\n",
    "from sklearn import metrics\n",
    "from sklearn import datasets, linear_model\n",
    "\n",
    "def SLR(X, y):\n",
    "    X_train, X_test, y_train, y_test = train_test_split(X, y, test_size=0.3)\n",
    "\n",
    "    lm = linear_model.LinearRegression()\n",
    "    model = lm.fit(X_train, y_train)\n",
    "    predictions = lm.predict(X_test)\n",
    "        \n",
    "    scores = cross_val_score(model, X_train, y_train, cv=6)\n",
    "    predictions = cross_val_predict(model, df, y, cv=6)\n",
    "    accuracy = metrics.r2_score(y, predictions)\n",
    "    \n",
    "    plt.scatter(y, predictions)\n",
    "    plt.show()    \n",
    "    \n",
    "    print(\"Cross-Predicted Accuracy:\", accuracy)\n",
    "    \n",
    "#Ditto. Getting an array error. Hate that one."
   ]
  }
 ],
 "metadata": {
  "kernelspec": {
   "display_name": "Python 3",
   "language": "python",
   "name": "python3"
  },
  "language_info": {
   "codemirror_mode": {
    "name": "ipython",
    "version": 3
   },
   "file_extension": ".py",
   "mimetype": "text/x-python",
   "name": "python",
   "nbconvert_exporter": "python",
   "pygments_lexer": "ipython3",
   "version": "3.6.3"
  },
  "toc": {
   "nav_menu": {},
   "number_sections": true,
   "sideBar": true,
   "skip_h1_title": false,
   "toc_cell": false,
   "toc_position": {},
   "toc_section_display": "block",
   "toc_window_display": false
  },
  "varInspector": {
   "cols": {
    "lenName": 16,
    "lenType": 16,
    "lenVar": 40
   },
   "kernels_config": {
    "python": {
     "delete_cmd_postfix": "",
     "delete_cmd_prefix": "del ",
     "library": "var_list.py",
     "varRefreshCmd": "print(var_dic_list())"
    },
    "r": {
     "delete_cmd_postfix": ") ",
     "delete_cmd_prefix": "rm(",
     "library": "var_list.r",
     "varRefreshCmd": "cat(var_dic_list()) "
    }
   },
   "types_to_exclude": [
    "module",
    "function",
    "builtin_function_or_method",
    "instance",
    "_Feature"
   ],
   "window_display": false
  }
 },
 "nbformat": 4,
 "nbformat_minor": 2
}
