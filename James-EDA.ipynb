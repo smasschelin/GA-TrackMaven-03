{
 "cells": [
  {
   "cell_type": "markdown",
   "metadata": {},
   "source": [
    "# James's EDA and Data Exploration"
   ]
  },
  {
   "cell_type": "markdown",
   "metadata": {},
   "source": [
    "### Import Libraries and Facebook Data"
   ]
  },
  {
   "cell_type": "code",
   "execution_count": null,
   "metadata": {
    "collapsed": true
   },
   "outputs": [],
   "source": [
    "import numpy as np\n",
    "import pandas as pd\n",
    "import matplotlib.pyplot as plt\n",
    "import seaborn as sns"
   ]
  },
  {
   "cell_type": "code",
   "execution_count": null,
   "metadata": {
    "collapsed": true
   },
   "outputs": [],
   "source": [
    "facebook = pd.read_csv('assets/facebook.csv', index_col = 0)"
   ]
  },
  {
   "cell_type": "code",
   "execution_count": null,
   "metadata": {},
   "outputs": [],
   "source": [
    "facebook.head()"
   ]
  },
  {
   "cell_type": "code",
   "execution_count": null,
   "metadata": {},
   "outputs": [],
   "source": [
    "# display the entirety of cells, no ellipsis truncation\n",
    "pd.set_option('display.max_colwidth', -1)"
   ]
  },
  {
   "cell_type": "markdown",
   "metadata": {},
   "source": [
    "### Basic analysis and exploration"
   ]
  },
  {
   "cell_type": "code",
   "execution_count": null,
   "metadata": {},
   "outputs": [],
   "source": [
    "# describe numeric columns\n",
    "\n",
    "facebook.describe()"
   ]
  },
  {
   "cell_type": "code",
   "execution_count": null,
   "metadata": {},
   "outputs": [],
   "source": [
    "facebook.groupby('brand').reaction_count.median()"
   ]
  },
  {
   "cell_type": "code",
   "execution_count": null,
   "metadata": {},
   "outputs": [],
   "source": [
    "facebook.groupby('brand').angry_count.describe()"
   ]
  },
  {
   "cell_type": "code",
   "execution_count": null,
   "metadata": {},
   "outputs": [],
   "source": [
    "facebook.groupby('brand').like_count.describe()"
   ]
  },
  {
   "cell_type": "code",
   "execution_count": null,
   "metadata": {},
   "outputs": [],
   "source": [
    "facebook.groupby('brand').shares.describe()"
   ]
  },
  {
   "cell_type": "code",
   "execution_count": null,
   "metadata": {},
   "outputs": [],
   "source": [
    "# top-shared post overall is from Glamour Magazine with a video depicting the menstrual cycle\n",
    "\n",
    "facebook[(facebook['brand']==137316) & (facebook['shares']==max(facebook['shares']))].permalink"
   ]
  },
  {
   "cell_type": "code",
   "execution_count": null,
   "metadata": {
    "scrolled": true
   },
   "outputs": [],
   "source": [
    "# most shares overall\n",
    "\n",
    "facebook.sort_values(by=['shares'], ascending=False).head()"
   ]
  },
  {
   "cell_type": "code",
   "execution_count": null,
   "metadata": {},
   "outputs": [],
   "source": [
    "# most reactions\n",
    "\n",
    "facebook[['brand','impact','message','permalink','reaction_count']].sort_values(by=['reaction_count'], ascending=False).head(10)"
   ]
  },
  {
   "cell_type": "code",
   "execution_count": null,
   "metadata": {},
   "outputs": [],
   "source": [
    "facebook[['brand','impact','message','permalink','reaction_count','shares']].sort_values(by=['shares'], ascending=False).head(10)"
   ]
  },
  {
   "cell_type": "markdown",
   "metadata": {},
   "source": [
    "### Use CountVectorizer to build vocabulary"
   ]
  },
  {
   "cell_type": "code",
   "execution_count": null,
   "metadata": {
    "collapsed": true
   },
   "outputs": [],
   "source": [
    "from sklearn.feature_extraction.text import CountVectorizer, TfidfTransformer, TfidfVectorizer\n",
    "from sklearn.model_selection import cross_val_score, learning_curve, train_test_split\n",
    "from sklearn.metrics import classification_report\n",
    "from sklearn.naive_bayes import MultinomialNB, BernoulliNB, GaussianNB\n",
    "from sklearn.pipeline import Pipeline\n",
    "\n",
    "%matplotlib inline\n",
    "\n",
    "sns.set_style(\"darkgrid\")"
   ]
  },
  {
   "cell_type": "code",
   "execution_count": null,
   "metadata": {
    "collapsed": true
   },
   "outputs": [],
   "source": [
    "# initialize count vectorizer\n",
    "\n",
    "cvt = CountVectorizer()\n",
    "cvt_stop = CountVectorizer(stop_words='english')"
   ]
  },
  {
   "cell_type": "code",
   "execution_count": null,
   "metadata": {},
   "outputs": [],
   "source": [
    "# split the message data into train/test along with likes\n",
    "\n",
    "X_train, X_test, y_train, y_test = train_test_split(facebook['message'],facebook['like_count'], test_size=0.3, random_state=6)"
   ]
  },
  {
   "cell_type": "code",
   "execution_count": null,
   "metadata": {
    "collapsed": true
   },
   "outputs": [],
   "source": [
    "message_trn = cvt_stop.fit_transform(X_train)\n",
    "\n",
    "# store words and frequencies in arrays, then combine\n",
    "m_words = cvt_stop.get_feature_names()\n",
    "m_freqs = message_trn.toarray().sum(axis=0)\n",
    "\n",
    "# put the above into a single array, and make that array a DataFrame\n",
    "mess_freq = [[m_words[ii], m_freqs[ii]] for ii in range(len(m_words))]\n",
    "messageDF = pd.DataFrame(data=mess_freq)\n",
    "messageDF.columns = ['word','frequency']\n",
    "\n",
    "# show the 20 most commonly used words\n",
    "messageDF.sort_values('frequency',ascending=False)[:20]"
   ]
  },
  {
   "cell_type": "code",
   "execution_count": null,
   "metadata": {},
   "outputs": [],
   "source": [
    "# CVT with ngrams of 2\n",
    "cvt_stop_2wp = CountVectorizer(stop_words='english', ngram_range=(2,2))\n",
    "\n",
    "msg_train = cvt_stop_2wp.fit_transform(X_train)\n",
    "\n",
    "# store words and frequencies in arrays, then combine\n",
    "msg_wds = cvt_stop_2wp.get_feature_names()\n",
    "msg_frq = msg_train.toarray().sum(axis=0)\n",
    "\n",
    "# put the above into a single array, and make that array a DataFrame\n",
    "msg_freq = [[msg_wds[ii], msg_frq[ii]] for ii in range(len(msg_wds))]\n",
    "phrase2DF = pd.DataFrame(data=msg_freq)\n",
    "phrase2DF.columns = ['word','frequency']\n",
    "\n",
    "# show the 20 most commonly used words\n",
    "phrase2DF.sort_values('frequency',ascending=False)[:20]"
   ]
  }
 ],
 "metadata": {
  "kernelspec": {
   "display_name": "Python 3",
   "language": "python",
   "name": "python3"
  },
  "language_info": {
   "codemirror_mode": {
    "name": "ipython",
    "version": 3
   },
   "file_extension": ".py",
   "mimetype": "text/x-python",
   "name": "python",
   "nbconvert_exporter": "python",
   "pygments_lexer": "ipython3",
   "version": "3.6.3"
  }
 },
 "nbformat": 4,
 "nbformat_minor": 2
}
