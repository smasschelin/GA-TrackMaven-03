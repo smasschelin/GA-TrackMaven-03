{
 "cells": [
  {
   "cell_type": "code",
   "execution_count": 1,
   "metadata": {
    "ExecuteTime": {
     "end_time": "2017-11-29T22:27:14.676897Z",
     "start_time": "2017-11-29T22:27:12.727534Z"
    }
   },
   "outputs": [],
   "source": [
    "import pandas as pd"
   ]
  },
  {
   "cell_type": "code",
   "execution_count": 2,
   "metadata": {
    "ExecuteTime": {
     "end_time": "2017-11-29T22:27:14.717059Z",
     "start_time": "2017-11-29T22:27:14.703523Z"
    }
   },
   "outputs": [],
   "source": [
    "downloaded_data = pd.read_csv('assets/TrackMaven_download.csv')"
   ]
  },
  {
   "cell_type": "code",
   "execution_count": 5,
   "metadata": {
    "ExecuteTime": {
     "end_time": "2017-11-29T22:36:25.863375Z",
     "start_time": "2017-11-29T22:36:25.853349Z"
    }
   },
   "outputs": [],
   "source": [
    "instagram = downloaded_data[downloaded_data['channel'] == 'instagram']\n",
    "facebook  = downloaded_data[downloaded_data['channel'] == 'facebook']"
   ]
  },
  {
   "cell_type": "code",
   "execution_count": 8,
   "metadata": {
    "ExecuteTime": {
     "end_time": "2017-11-29T22:37:17.912069Z",
     "start_time": "2017-11-29T22:37:17.901007Z"
    }
   },
   "outputs": [],
   "source": [
    "instagram = instagram.dropna(axis=1, how='all')\n",
    "facebook  = facebook.dropna(axis=1, how='all')"
   ]
  },
  {
   "cell_type": "code",
   "execution_count": 9,
   "metadata": {
    "ExecuteTime": {
     "end_time": "2017-11-29T22:37:23.921356Z",
     "start_time": "2017-11-29T22:37:23.914337Z"
    }
   },
   "outputs": [
    {
     "data": {
      "text/plain": [
       "Index(['channel', 'type', 'timestamp', 'brand', 'impact', 'engagement',\n",
       "       'like_count', 'caption', 'comment_count', 'filter_name', 'hashtags',\n",
       "       'image_url', 'link', 'tm_url', 'video_url'],\n",
       "      dtype='object')"
      ]
     },
     "execution_count": 9,
     "metadata": {},
     "output_type": "execute_result"
    }
   ],
   "source": [
    "instagram.columns"
   ]
  }
 ],
 "metadata": {
  "kernelspec": {
   "display_name": "Python 3",
   "language": "python",
   "name": "python3"
  },
  "language_info": {
   "codemirror_mode": {
    "name": "ipython",
    "version": 3
   },
   "file_extension": ".py",
   "mimetype": "text/x-python",
   "name": "python",
   "nbconvert_exporter": "python",
   "pygments_lexer": "ipython3",
   "version": "3.6.1"
  },
  "toc": {
   "nav_menu": {},
   "number_sections": true,
   "sideBar": true,
   "skip_h1_title": false,
   "toc_cell": false,
   "toc_position": {},
   "toc_section_display": "block",
   "toc_window_display": false
  },
  "varInspector": {
   "cols": {
    "lenName": 16,
    "lenType": 16,
    "lenVar": 40
   },
   "kernels_config": {
    "python": {
     "delete_cmd_postfix": "",
     "delete_cmd_prefix": "del ",
     "library": "var_list.py",
     "varRefreshCmd": "print(var_dic_list())"
    },
    "r": {
     "delete_cmd_postfix": ") ",
     "delete_cmd_prefix": "rm(",
     "library": "var_list.r",
     "varRefreshCmd": "cat(var_dic_list()) "
    }
   },
   "types_to_exclude": [
    "module",
    "function",
    "builtin_function_or_method",
    "instance",
    "_Feature"
   ],
   "window_display": false
  }
 },
 "nbformat": 4,
 "nbformat_minor": 2
}
