{
 "cells": [
  {
   "cell_type": "markdown",
   "metadata": {},
   "source": [
    "# Change Working Directory"
   ]
  },
  {
   "cell_type": "code",
   "execution_count": 1,
   "metadata": {
    "ExecuteTime": {
     "end_time": "2017-12-11T17:34:06.065109Z",
     "start_time": "2017-12-11T17:34:05.057358Z"
    }
   },
   "outputs": [
    {
     "name": "stderr",
     "output_type": "stream",
     "text": [
      "/Users/skiparay/miniconda3/lib/python3.6/site-packages/statsmodels/compat/pandas.py:56: FutureWarning: The pandas.core.datetools module is deprecated and will be removed in a future version. Please use the pandas.tseries module instead.\n",
      "  from pandas.core import datetools\n"
     ]
    }
   ],
   "source": [
    "import pandas as pd\n",
    "import numpy as np\n",
    "import matplotlib.pyplot as plt\n",
    "import seaborn as sns\n",
    "import statsmodels.api as sm\n",
    "import os\n",
    "import csv\n",
    "import seaborn as sns\n",
    "import graphviz\n",
    "%matplotlib inline"
   ]
  },
  {
   "cell_type": "code",
   "execution_count": 2,
   "metadata": {
    "ExecuteTime": {
     "end_time": "2017-12-11T17:34:06.070868Z",
     "start_time": "2017-12-11T17:34:06.066991Z"
    }
   },
   "outputs": [],
   "source": [
    "abspath = os.path.abspath('OO_Importing_Data.py') # Get filepath\n",
    "dname = os.path.dirname(abspath) # Get directory\n",
    "os.chdir(dname) # Make directory working directory"
   ]
  },
  {
   "cell_type": "code",
   "execution_count": 3,
   "metadata": {
    "ExecuteTime": {
     "end_time": "2017-12-11T17:34:06.076171Z",
     "start_time": "2017-12-11T17:34:06.072733Z"
    }
   },
   "outputs": [],
   "source": [
    "plt.rcParams['figure.figsize'] = (12.0, 10.0)\n",
    "plt.style.use(['fivethirtyeight'])"
   ]
  },
  {
   "cell_type": "markdown",
   "metadata": {},
   "source": [
    "# EDA"
   ]
  },
  {
   "cell_type": "markdown",
   "metadata": {},
   "source": [
    "## Reading in the Data"
   ]
  },
  {
   "cell_type": "code",
   "execution_count": 4,
   "metadata": {
    "ExecuteTime": {
     "end_time": "2017-12-11T17:34:29.719682Z",
     "start_time": "2017-12-11T17:34:06.077991Z"
    }
   },
   "outputs": [],
   "source": [
    "data = pd.read_json('assets/newdump.json')"
   ]
  },
  {
   "cell_type": "markdown",
   "metadata": {},
   "source": [
    "## Splitting up the 'Channel Info' dictionaries into seperate columns"
   ]
  },
  {
   "cell_type": "code",
   "execution_count": 5,
   "metadata": {
    "ExecuteTime": {
     "end_time": "2017-12-11T17:34:30.420883Z",
     "start_time": "2017-12-11T17:34:29.723067Z"
    }
   },
   "outputs": [],
   "source": [
    "data['channel_type'] = [x['type'] for x in data['channel_info']]\n",
    "data['channel'] = [x['channel'] for x in data['channel_info']]"
   ]
  },
  {
   "cell_type": "code",
   "execution_count": 6,
   "metadata": {
    "ExecuteTime": {
     "end_time": "2017-12-11T17:34:31.370192Z",
     "start_time": "2017-12-11T17:34:30.423928Z"
    }
   },
   "outputs": [],
   "source": [
    "data.drop('channel_info', axis = 1, inplace=True)"
   ]
  },
  {
   "cell_type": "markdown",
   "metadata": {},
   "source": [
    "## Showing only Facebook and Instagram Data"
   ]
  },
  {
   "cell_type": "code",
   "execution_count": 7,
   "metadata": {
    "ExecuteTime": {
     "end_time": "2017-12-11T17:34:31.753354Z",
     "start_time": "2017-12-11T17:34:31.373157Z"
    }
   },
   "outputs": [],
   "source": [
    "FB_and_IG_data = data.loc[(data['channel'] == 'facebook') | (data['channel'] == 'instagram')]"
   ]
  },
  {
   "cell_type": "markdown",
   "metadata": {},
   "source": [
    "## Removing '' and [] from 'type' column for queries"
   ]
  },
  {
   "cell_type": "code",
   "execution_count": 8,
   "metadata": {
    "ExecuteTime": {
     "end_time": "2017-12-11T17:34:33.494024Z",
     "start_time": "2017-12-11T17:34:31.756887Z"
    },
    "scrolled": true
   },
   "outputs": [
    {
     "name": "stderr",
     "output_type": "stream",
     "text": [
      "/Users/skiparay/miniconda3/lib/python3.6/site-packages/ipykernel_launcher.py:1: SettingWithCopyWarning: \n",
      "A value is trying to be set on a copy of a slice from a DataFrame.\n",
      "Try using .loc[row_indexer,col_indexer] = value instead\n",
      "\n",
      "See the caveats in the documentation: http://pandas.pydata.org/pandas-docs/stable/indexing.html#indexing-view-versus-copy\n",
      "  \"\"\"Entry point for launching an IPython kernel.\n"
     ]
    }
   ],
   "source": [
    "FB_and_IG_data['channel_type'] = FB_and_IG_data['channel_type'].apply(lambda x: x[0])"
   ]
  },
  {
   "cell_type": "markdown",
   "metadata": {},
   "source": [
    "## Breaking down number of entries for each type of post. Looks like Facebook is a clear winner"
   ]
  },
  {
   "cell_type": "code",
   "execution_count": 9,
   "metadata": {
    "ExecuteTime": {
     "end_time": "2017-12-11T17:34:33.623628Z",
     "start_time": "2017-12-11T17:34:33.497846Z"
    }
   },
   "outputs": [
    {
     "data": {
      "text/plain": [
       "facebook post    249485\n",
       "instagram pic     17526\n",
       "instagram vid      2664\n",
       "Name: type, dtype: int64"
      ]
     },
     "execution_count": 9,
     "metadata": {},
     "output_type": "execute_result"
    }
   ],
   "source": [
    "FB_and_IG_data['type'].value_counts()"
   ]
  },
  {
   "cell_type": "markdown",
   "metadata": {},
   "source": [
    "## Replacing Values in 'brand' with the actual publication"
   ]
  },
  {
   "cell_type": "code",
   "execution_count": 10,
   "metadata": {
    "ExecuteTime": {
     "end_time": "2017-12-11T17:34:33.638989Z",
     "start_time": "2017-12-11T17:34:33.627329Z"
    }
   },
   "outputs": [
    {
     "data": {
      "text/plain": [
       "137322    46545\n",
       "137326    37444\n",
       "137329    32608\n",
       "137299    31680\n",
       "137316    28308\n",
       "137325    25983\n",
       "137321    24165\n",
       "137314    22100\n",
       "137300    20842\n",
       "Name: brand, dtype: int64"
      ]
     },
     "execution_count": 10,
     "metadata": {},
     "output_type": "execute_result"
    }
   ],
   "source": [
    "FB_and_IG_data['brand'].value_counts()"
   ]
  },
  {
   "cell_type": "markdown",
   "metadata": {},
   "source": [
    "Found these by plugging urls into google and seeing what showed up\n",
    "* Brand 137314 = Conde Naste Traveler\n",
    "* Brand 137329 = W Magazine\n",
    "* Brand 137321 = OnSelf Magazine\n",
    "* Brand 137325 = Vanity Fair\n",
    "* Brand 137300 = Clever\n",
    "* Brand 137322 = Teen Vogue\n",
    "* Brand 137299 = Allure\n",
    "* Brand 137326 = Vogue\n",
    "* Brand 137316 = Glamor"
   ]
  },
  {
   "cell_type": "code",
   "execution_count": 11,
   "metadata": {
    "ExecuteTime": {
     "end_time": "2017-12-11T17:34:35.311455Z",
     "start_time": "2017-12-11T17:34:33.642012Z"
    },
    "run_control": {
     "marked": false
    }
   },
   "outputs": [
    {
     "name": "stderr",
     "output_type": "stream",
     "text": [
      "/Users/skiparay/miniconda3/lib/python3.6/site-packages/ipykernel_launcher.py:10: SettingWithCopyWarning: \n",
      "A value is trying to be set on a copy of a slice from a DataFrame.\n",
      "Try using .loc[row_indexer,col_indexer] = value instead\n",
      "\n",
      "See the caveats in the documentation: http://pandas.pydata.org/pandas-docs/stable/indexing.html#indexing-view-versus-copy\n",
      "  # Remove the CWD from sys.path while we load stuff.\n"
     ]
    }
   ],
   "source": [
    "brands = {137314 : 'CondeNasteTraveler', \n",
    "          137329 : 'WMagazine',\n",
    "          137321 : 'Onself',\n",
    "          137325 : 'VanityFair', \n",
    "          137300 : 'Clever', \n",
    "          137322 : 'TeenVogue', \n",
    "          137299 : 'Allure', \n",
    "          137326 : 'Vogue',137316 : 'Glamor'\n",
    "         }\n",
    "FB_and_IG_data['brand'] = FB_and_IG_data['brand'].map(brands)                                                     "
   ]
  },
  {
   "cell_type": "markdown",
   "metadata": {},
   "source": [
    "## Taking a subset of just the Instagram data"
   ]
  },
  {
   "cell_type": "code",
   "execution_count": 12,
   "metadata": {
    "ExecuteTime": {
     "end_time": "2017-12-11T17:34:35.559356Z",
     "start_time": "2017-12-11T17:34:35.315573Z"
    },
    "run_control": {
     "marked": false
    }
   },
   "outputs": [],
   "source": [
    "instagram = FB_and_IG_data.loc[FB_and_IG_data['type'].isin(['instagram pic', 'instagram vid'])]"
   ]
  },
  {
   "cell_type": "code",
   "execution_count": 13,
   "metadata": {
    "ExecuteTime": {
     "end_time": "2017-12-11T17:34:35.575373Z",
     "start_time": "2017-12-11T17:34:35.562122Z"
    }
   },
   "outputs": [],
   "source": [
    "instagram = instagram.reset_index(drop=True)"
   ]
  },
  {
   "cell_type": "markdown",
   "metadata": {},
   "source": [
    "## Getting data from the content column"
   ]
  },
  {
   "cell_type": "code",
   "execution_count": 14,
   "metadata": {
    "ExecuteTime": {
     "end_time": "2017-12-11T17:34:35.582409Z",
     "start_time": "2017-12-11T17:34:35.578168Z"
    }
   },
   "outputs": [],
   "source": [
    "instacontent = instagram['content']"
   ]
  },
  {
   "cell_type": "code",
   "execution_count": 15,
   "metadata": {
    "ExecuteTime": {
     "end_time": "2017-12-11T17:34:36.261980Z",
     "start_time": "2017-12-11T17:34:35.584878Z"
    }
   },
   "outputs": [
    {
     "data": {
      "text/plain": [
       "17526"
      ]
     },
     "execution_count": 15,
     "metadata": {},
     "output_type": "execute_result"
    }
   ],
   "source": [
    "sum([instacontent[i].keys() == instacontent[0].keys() for i in range(len(instacontent))])\n",
    "#Seeing how many image entries we have."
   ]
  },
  {
   "cell_type": "code",
   "execution_count": 16,
   "metadata": {
    "ExecuteTime": {
     "end_time": "2017-12-11T17:34:36.885869Z",
     "start_time": "2017-12-11T17:34:36.264412Z"
    }
   },
   "outputs": [
    {
     "data": {
      "text/plain": [
       "2664"
      ]
     },
     "execution_count": 16,
     "metadata": {},
     "output_type": "execute_result"
    }
   ],
   "source": [
    "sum([instacontent[i].keys() != instacontent[0].keys() for i in range(len(instacontent))])\n",
    "#Seeing how many video entries we have."
   ]
  },
  {
   "cell_type": "markdown",
   "metadata": {},
   "source": [
    "## Splitting Instagram data into seperate image and video frames"
   ]
  },
  {
   "cell_type": "code",
   "execution_count": 17,
   "metadata": {
    "ExecuteTime": {
     "end_time": "2017-12-11T17:34:36.908313Z",
     "start_time": "2017-12-11T17:34:36.887960Z"
    }
   },
   "outputs": [],
   "source": [
    "instapics = instagram.loc[(instagram['type'] == 'instagram pic')]\n",
    "instapics = instapics.reset_index(drop=True)"
   ]
  },
  {
   "cell_type": "code",
   "execution_count": 18,
   "metadata": {
    "ExecuteTime": {
     "end_time": "2017-12-11T17:34:36.922809Z",
     "start_time": "2017-12-11T17:34:36.910547Z"
    }
   },
   "outputs": [],
   "source": [
    "instavids = instagram.loc[(instagram['type'] == 'instagram vid')]\n",
    "instavids = instavids.reset_index(drop=True)"
   ]
  },
  {
   "cell_type": "code",
   "execution_count": 19,
   "metadata": {
    "ExecuteTime": {
     "end_time": "2017-12-11T17:34:36.928778Z",
     "start_time": "2017-12-11T17:34:36.925031Z"
    }
   },
   "outputs": [],
   "source": [
    "instapicscontent = instapics['content']"
   ]
  },
  {
   "cell_type": "code",
   "execution_count": 20,
   "metadata": {
    "ExecuteTime": {
     "end_time": "2017-12-11T17:34:36.937266Z",
     "start_time": "2017-12-11T17:34:36.931824Z"
    }
   },
   "outputs": [],
   "source": [
    "picframe = pd.DataFrame.from_dict(instapicscontent)"
   ]
  },
  {
   "cell_type": "code",
   "execution_count": 21,
   "metadata": {
    "ExecuteTime": {
     "end_time": "2017-12-11T17:34:36.943694Z",
     "start_time": "2017-12-11T17:34:36.939812Z"
    }
   },
   "outputs": [],
   "source": [
    "instavidscontent = instavids['content']"
   ]
  },
  {
   "cell_type": "code",
   "execution_count": 22,
   "metadata": {
    "ExecuteTime": {
     "end_time": "2017-12-11T17:34:36.952548Z",
     "start_time": "2017-12-11T17:34:36.946448Z"
    }
   },
   "outputs": [],
   "source": [
    "vidframe = pd.DataFrame.from_dict(instavidscontent)"
   ]
  },
  {
   "cell_type": "code",
   "execution_count": 23,
   "metadata": {
    "ExecuteTime": {
     "end_time": "2017-12-11T17:34:37.099298Z",
     "start_time": "2017-12-11T17:34:36.955911Z"
    }
   },
   "outputs": [],
   "source": [
    "picframe['caption']  = [x['caption'] for x in instapics['content']]\n",
    "picframe['comment_count']  = [x['comment_count'] for x in instapics['content']]\n",
    "picframe['filter_name'] = [x['filter_name'] for x in instapics['content']]\n",
    "picframe['hashtags'] = [x['hashtags'] for x in instapics['content']]\n",
    "picframe['image_url'] = [x['image_url'] for x in instapics['content']]\n",
    "picframe['like_count'] = [x['like_count'] for x in instapics['content']]\n",
    "picframe['link'] = [x['link'] for x in instapics['content']]\n",
    "picframe['links'] = [x['links'] for x in instapics['content']]\n",
    "picframe['post_id'] = [x['post_id'] for x in instapics['content']]"
   ]
  },
  {
   "cell_type": "code",
   "execution_count": 24,
   "metadata": {
    "ExecuteTime": {
     "end_time": "2017-12-11T17:34:37.167338Z",
     "start_time": "2017-12-11T17:34:37.102069Z"
    }
   },
   "outputs": [
    {
     "data": {
      "text/html": [
       "<div>\n",
       "<style scoped>\n",
       "    .dataframe tbody tr th:only-of-type {\n",
       "        vertical-align: middle;\n",
       "    }\n",
       "\n",
       "    .dataframe tbody tr th {\n",
       "        vertical-align: top;\n",
       "    }\n",
       "\n",
       "    .dataframe thead th {\n",
       "        text-align: right;\n",
       "    }\n",
       "</style>\n",
       "<table border=\"1\" class=\"dataframe\">\n",
       "  <thead>\n",
       "    <tr style=\"text-align: right;\">\n",
       "      <th></th>\n",
       "      <th>caption</th>\n",
       "      <th>comment_count</th>\n",
       "      <th>filter_name</th>\n",
       "      <th>hashtags</th>\n",
       "      <th>image_url</th>\n",
       "      <th>like_count</th>\n",
       "      <th>link</th>\n",
       "      <th>links</th>\n",
       "      <th>post_id</th>\n",
       "    </tr>\n",
       "  </thead>\n",
       "  <tbody>\n",
       "    <tr>\n",
       "      <th>0</th>\n",
       "      <td>@JLo &amp; @ARod isn't just another love story; it...</td>\n",
       "      <td>164</td>\n",
       "      <td>Normal</td>\n",
       "      <td></td>\n",
       "      <td>https://scontent.cdninstagram.com/t51.2885-15/...</td>\n",
       "      <td>22678</td>\n",
       "      <td>https://www.instagram.com/p/BbikmregLBQ/</td>\n",
       "      <td>[]</td>\n",
       "      <td>1649041401268187216_11206038</td>\n",
       "    </tr>\n",
       "    <tr>\n",
       "      <th>1</th>\n",
       "      <td>We're still not over all the cute moments 😍  a...</td>\n",
       "      <td>3</td>\n",
       "      <td>Normal</td>\n",
       "      <td>GlamourWOTY</td>\n",
       "      <td>https://scontent.cdninstagram.com/t51.2885-15/...</td>\n",
       "      <td>512</td>\n",
       "      <td>https://www.instagram.com/p/BbibiLwDKPX/</td>\n",
       "      <td>[]</td>\n",
       "      <td>1649001509906326487_10070230</td>\n",
       "    </tr>\n",
       "    <tr>\n",
       "      <th>2</th>\n",
       "      <td>It's no secret how much we love makeup, and if...</td>\n",
       "      <td>11</td>\n",
       "      <td>Normal</td>\n",
       "      <td>EditorsFaves</td>\n",
       "      <td>https://scontent.cdninstagram.com/t51.2885-15/...</td>\n",
       "      <td>1117</td>\n",
       "      <td>https://www.instagram.com/p/BbiXLd9BWmc/</td>\n",
       "      <td>[]</td>\n",
       "      <td>1648982356717300124_24852591</td>\n",
       "    </tr>\n",
       "    <tr>\n",
       "      <th>3</th>\n",
       "      <td>Amber Heard has one simple trick for narrowing...</td>\n",
       "      <td>101</td>\n",
       "      <td>Normal</td>\n",
       "      <td></td>\n",
       "      <td>https://scontent.cdninstagram.com/t51.2885-15/...</td>\n",
       "      <td>16608</td>\n",
       "      <td>https://www.instagram.com/p/BbiQFGHgTMh/</td>\n",
       "      <td>[]</td>\n",
       "      <td>1648951132480942881_11206038</td>\n",
       "    </tr>\n",
       "    <tr>\n",
       "      <th>4</th>\n",
       "      <td>By painting the home office of a Nolita loft b...</td>\n",
       "      <td>37</td>\n",
       "      <td>Normal</td>\n",
       "      <td>linkinbio</td>\n",
       "      <td>https://scontent.cdninstagram.com/t51.2885-15/...</td>\n",
       "      <td>6508</td>\n",
       "      <td>https://www.instagram.com/p/BbiLW7MHu6Y/</td>\n",
       "      <td>[]</td>\n",
       "      <td>1648930367465254552_239180867</td>\n",
       "    </tr>\n",
       "  </tbody>\n",
       "</table>\n",
       "</div>"
      ],
      "text/plain": [
       "                                             caption  comment_count  \\\n",
       "0  @JLo & @ARod isn't just another love story; it...            164   \n",
       "1  We're still not over all the cute moments 😍  a...              3   \n",
       "2  It's no secret how much we love makeup, and if...             11   \n",
       "3  Amber Heard has one simple trick for narrowing...            101   \n",
       "4  By painting the home office of a Nolita loft b...             37   \n",
       "\n",
       "  filter_name      hashtags  \\\n",
       "0      Normal                 \n",
       "1      Normal   GlamourWOTY   \n",
       "2      Normal  EditorsFaves   \n",
       "3      Normal                 \n",
       "4      Normal     linkinbio   \n",
       "\n",
       "                                           image_url  like_count  \\\n",
       "0  https://scontent.cdninstagram.com/t51.2885-15/...       22678   \n",
       "1  https://scontent.cdninstagram.com/t51.2885-15/...         512   \n",
       "2  https://scontent.cdninstagram.com/t51.2885-15/...        1117   \n",
       "3  https://scontent.cdninstagram.com/t51.2885-15/...       16608   \n",
       "4  https://scontent.cdninstagram.com/t51.2885-15/...        6508   \n",
       "\n",
       "                                       link links  \\\n",
       "0  https://www.instagram.com/p/BbikmregLBQ/    []   \n",
       "1  https://www.instagram.com/p/BbibiLwDKPX/    []   \n",
       "2  https://www.instagram.com/p/BbiXLd9BWmc/    []   \n",
       "3  https://www.instagram.com/p/BbiQFGHgTMh/    []   \n",
       "4  https://www.instagram.com/p/BbiLW7MHu6Y/    []   \n",
       "\n",
       "                         post_id  \n",
       "0   1649041401268187216_11206038  \n",
       "1   1649001509906326487_10070230  \n",
       "2   1648982356717300124_24852591  \n",
       "3   1648951132480942881_11206038  \n",
       "4  1648930367465254552_239180867  "
      ]
     },
     "execution_count": 24,
     "metadata": {},
     "output_type": "execute_result"
    }
   ],
   "source": [
    "picframe.drop(['content'], axis = 1, inplace = True)\n",
    "picframe = picframe.reset_index(drop=True)\n",
    "picframe.head()"
   ]
  },
  {
   "cell_type": "code",
   "execution_count": 25,
   "metadata": {
    "ExecuteTime": {
     "end_time": "2017-12-11T17:34:37.204395Z",
     "start_time": "2017-12-11T17:34:37.169802Z"
    }
   },
   "outputs": [],
   "source": [
    "vidframe['caption'] = [x['caption'] for x in instavids['content']]\n",
    "vidframe['comment_count'] = [x['comment_count'] for x in instavids['content']]\n",
    "vidframe['filter_name'] = [x['filter_name'] for x in instavids['content']]\n",
    "vidframe['hashtags'] = [x['hashtags'] for x in instavids['content']]\n",
    "vidframe['image_url'] = [x['image_url'] for x in instavids['content']]\n",
    "vidframe['like_count'] = [x['like_count'] for x in instavids['content']]\n",
    "vidframe['link'] = [x['link'] for x in instavids['content']]\n",
    "vidframe['links'] = [x['links'] for x in instavids['content']]\n",
    "vidframe['post_id'] = [x['post_id'] for x in instavids['content']]\n",
    "vidframe['video_url'] = [x['video_url'] for x in instavids['content']]"
   ]
  },
  {
   "cell_type": "code",
   "execution_count": 26,
   "metadata": {
    "ExecuteTime": {
     "end_time": "2017-12-11T17:34:37.233092Z",
     "start_time": "2017-12-11T17:34:37.206651Z"
    },
    "scrolled": true
   },
   "outputs": [
    {
     "data": {
      "text/html": [
       "<div>\n",
       "<style scoped>\n",
       "    .dataframe tbody tr th:only-of-type {\n",
       "        vertical-align: middle;\n",
       "    }\n",
       "\n",
       "    .dataframe tbody tr th {\n",
       "        vertical-align: top;\n",
       "    }\n",
       "\n",
       "    .dataframe thead th {\n",
       "        text-align: right;\n",
       "    }\n",
       "</style>\n",
       "<table border=\"1\" class=\"dataframe\">\n",
       "  <thead>\n",
       "    <tr style=\"text-align: right;\">\n",
       "      <th></th>\n",
       "      <th>caption</th>\n",
       "      <th>comment_count</th>\n",
       "      <th>filter_name</th>\n",
       "      <th>hashtags</th>\n",
       "      <th>image_url</th>\n",
       "      <th>like_count</th>\n",
       "      <th>link</th>\n",
       "      <th>links</th>\n",
       "      <th>post_id</th>\n",
       "      <th>video_url</th>\n",
       "    </tr>\n",
       "  </thead>\n",
       "  <tbody>\n",
       "    <tr>\n",
       "      <th>0</th>\n",
       "      <td>We asked people to explain in their own words ...</td>\n",
       "      <td>1</td>\n",
       "      <td>Normal</td>\n",
       "      <td>linkinbio health wellness birthcontrol</td>\n",
       "      <td>https://scontent.cdninstagram.com/t51.2885-15/...</td>\n",
       "      <td>103</td>\n",
       "      <td>https://www.instagram.com/p/BbiFr_fHgFs/</td>\n",
       "      <td>[]</td>\n",
       "      <td>1648905426908873068_13622784</td>\n",
       "      <td>https://scontent.cdninstagram.com/t50.2886-16/...</td>\n",
       "    </tr>\n",
       "    <tr>\n",
       "      <th>1</th>\n",
       "      <td>@traceeellisross breaks down in a powerful tal...</td>\n",
       "      <td>110</td>\n",
       "      <td>Normal</td>\n",
       "      <td>linkinbio glamourwoty</td>\n",
       "      <td>https://scontent.cdninstagram.com/t51.2885-15/...</td>\n",
       "      <td>3750</td>\n",
       "      <td>https://www.instagram.com/p/Bbh6nihDSkb/</td>\n",
       "      <td>[]</td>\n",
       "      <td>1648856742413281563_10070230</td>\n",
       "      <td>https://scontent.cdninstagram.com/t50.2886-16/...</td>\n",
       "    </tr>\n",
       "    <tr>\n",
       "      <th>2</th>\n",
       "      <td>@carmenelectra has a closet full of memories. ...</td>\n",
       "      <td>78</td>\n",
       "      <td>Normal</td>\n",
       "      <td></td>\n",
       "      <td>https://scontent.cdninstagram.com/t51.2885-15/...</td>\n",
       "      <td>13677</td>\n",
       "      <td>https://www.instagram.com/p/BbhQME6ADHH/</td>\n",
       "      <td>[]</td>\n",
       "      <td>1648670137240269255_198154074</td>\n",
       "      <td>https://scontent.cdninstagram.com/t50.2886-16/...</td>\n",
       "    </tr>\n",
       "    <tr>\n",
       "      <th>3</th>\n",
       "      <td>Just take all of my money... 💸💄</td>\n",
       "      <td>540</td>\n",
       "      <td>Normal</td>\n",
       "      <td></td>\n",
       "      <td>https://scontent.cdninstagram.com/t51.2885-15/...</td>\n",
       "      <td>28393</td>\n",
       "      <td>https://www.instagram.com/p/BbhFhVan5qm/</td>\n",
       "      <td>[]</td>\n",
       "      <td>1648623219564845734_4073479</td>\n",
       "      <td>https://scontent.cdninstagram.com/t50.2886-16/...</td>\n",
       "    </tr>\n",
       "    <tr>\n",
       "      <th>4</th>\n",
       "      <td>What's @fullfrontalsamb's superpower? \"Super t...</td>\n",
       "      <td>23</td>\n",
       "      <td>Normal</td>\n",
       "      <td>glamourwoty</td>\n",
       "      <td>https://scontent.cdninstagram.com/t51.2885-15/...</td>\n",
       "      <td>1133</td>\n",
       "      <td>https://www.instagram.com/p/Bbf_hXfDXnh/</td>\n",
       "      <td>[]</td>\n",
       "      <td>1648315358530861537_10070230</td>\n",
       "      <td>https://scontent.cdninstagram.com/t50.2886-16/...</td>\n",
       "    </tr>\n",
       "  </tbody>\n",
       "</table>\n",
       "</div>"
      ],
      "text/plain": [
       "                                             caption  comment_count  \\\n",
       "0  We asked people to explain in their own words ...              1   \n",
       "1  @traceeellisross breaks down in a powerful tal...            110   \n",
       "2  @carmenelectra has a closet full of memories. ...             78   \n",
       "3                    Just take all of my money... 💸💄            540   \n",
       "4  What's @fullfrontalsamb's superpower? \"Super t...             23   \n",
       "\n",
       "  filter_name                                hashtags  \\\n",
       "0      Normal  linkinbio health wellness birthcontrol   \n",
       "1      Normal                   linkinbio glamourwoty   \n",
       "2      Normal                                           \n",
       "3      Normal                                           \n",
       "4      Normal                             glamourwoty   \n",
       "\n",
       "                                           image_url  like_count  \\\n",
       "0  https://scontent.cdninstagram.com/t51.2885-15/...         103   \n",
       "1  https://scontent.cdninstagram.com/t51.2885-15/...        3750   \n",
       "2  https://scontent.cdninstagram.com/t51.2885-15/...       13677   \n",
       "3  https://scontent.cdninstagram.com/t51.2885-15/...       28393   \n",
       "4  https://scontent.cdninstagram.com/t51.2885-15/...        1133   \n",
       "\n",
       "                                       link links  \\\n",
       "0  https://www.instagram.com/p/BbiFr_fHgFs/    []   \n",
       "1  https://www.instagram.com/p/Bbh6nihDSkb/    []   \n",
       "2  https://www.instagram.com/p/BbhQME6ADHH/    []   \n",
       "3  https://www.instagram.com/p/BbhFhVan5qm/    []   \n",
       "4  https://www.instagram.com/p/Bbf_hXfDXnh/    []   \n",
       "\n",
       "                         post_id  \\\n",
       "0   1648905426908873068_13622784   \n",
       "1   1648856742413281563_10070230   \n",
       "2  1648670137240269255_198154074   \n",
       "3    1648623219564845734_4073479   \n",
       "4   1648315358530861537_10070230   \n",
       "\n",
       "                                           video_url  \n",
       "0  https://scontent.cdninstagram.com/t50.2886-16/...  \n",
       "1  https://scontent.cdninstagram.com/t50.2886-16/...  \n",
       "2  https://scontent.cdninstagram.com/t50.2886-16/...  \n",
       "3  https://scontent.cdninstagram.com/t50.2886-16/...  \n",
       "4  https://scontent.cdninstagram.com/t50.2886-16/...  "
      ]
     },
     "execution_count": 26,
     "metadata": {},
     "output_type": "execute_result"
    }
   ],
   "source": [
    "vidframe.drop(['content'], axis = 1, inplace = True)\n",
    "vidframe.reset_index(drop=True, inplace = True)\n",
    "vidframe.head()"
   ]
  },
  {
   "cell_type": "markdown",
   "metadata": {},
   "source": [
    "## Merge Content and Original Dataframes together"
   ]
  },
  {
   "cell_type": "code",
   "execution_count": 27,
   "metadata": {
    "ExecuteTime": {
     "end_time": "2017-12-11T17:34:37.309857Z",
     "start_time": "2017-12-11T17:34:37.235217Z"
    }
   },
   "outputs": [],
   "source": [
    "IGData = FB_and_IG_data[FB_and_IG_data['channel'] == 'instagram']\n",
    "IGPics = IGData[IGData['channel_type'] == 'photo']\n",
    "IGData.reset_index(drop=True, inplace=True)\n",
    "IGPics.reset_index(drop=True, inplace=True)"
   ]
  },
  {
   "cell_type": "code",
   "execution_count": 28,
   "metadata": {
    "ExecuteTime": {
     "end_time": "2017-12-11T17:34:47.904302Z",
     "start_time": "2017-12-11T17:34:37.312376Z"
    }
   },
   "outputs": [
    {
     "name": "stderr",
     "output_type": "stream",
     "text": [
      "/Users/skiparay/miniconda3/lib/python3.6/site-packages/ipykernel_launcher.py:1: SettingWithCopyWarning: \n",
      "A value is trying to be set on a copy of a slice from a DataFrame.\n",
      "Try using .loc[row_indexer,col_indexer] = value instead\n",
      "\n",
      "See the caveats in the documentation: http://pandas.pydata.org/pandas-docs/stable/indexing.html#indexing-view-versus-copy\n",
      "  \"\"\"Entry point for launching an IPython kernel.\n",
      "/Users/skiparay/miniconda3/lib/python3.6/site-packages/ipykernel_launcher.py:2: SettingWithCopyWarning: \n",
      "A value is trying to be set on a copy of a slice from a DataFrame.\n",
      "Try using .loc[row_indexer,col_indexer] = value instead\n",
      "\n",
      "See the caveats in the documentation: http://pandas.pydata.org/pandas-docs/stable/indexing.html#indexing-view-versus-copy\n",
      "  \n",
      "/Users/skiparay/miniconda3/lib/python3.6/site-packages/ipykernel_launcher.py:3: SettingWithCopyWarning: \n",
      "A value is trying to be set on a copy of a slice from a DataFrame.\n",
      "Try using .loc[row_indexer,col_indexer] = value instead\n",
      "\n",
      "See the caveats in the documentation: http://pandas.pydata.org/pandas-docs/stable/indexing.html#indexing-view-versus-copy\n",
      "  This is separate from the ipykernel package so we can avoid doing imports until\n",
      "/Users/skiparay/miniconda3/lib/python3.6/site-packages/ipykernel_launcher.py:4: SettingWithCopyWarning: \n",
      "A value is trying to be set on a copy of a slice from a DataFrame.\n",
      "Try using .loc[row_indexer,col_indexer] = value instead\n",
      "\n",
      "See the caveats in the documentation: http://pandas.pydata.org/pandas-docs/stable/indexing.html#indexing-view-versus-copy\n",
      "  after removing the cwd from sys.path.\n",
      "/Users/skiparay/miniconda3/lib/python3.6/site-packages/ipykernel_launcher.py:5: SettingWithCopyWarning: \n",
      "A value is trying to be set on a copy of a slice from a DataFrame.\n",
      "Try using .loc[row_indexer,col_indexer] = value instead\n",
      "\n",
      "See the caveats in the documentation: http://pandas.pydata.org/pandas-docs/stable/indexing.html#indexing-view-versus-copy\n",
      "  \"\"\"\n",
      "/Users/skiparay/miniconda3/lib/python3.6/site-packages/ipykernel_launcher.py:6: SettingWithCopyWarning: \n",
      "A value is trying to be set on a copy of a slice from a DataFrame.\n",
      "Try using .loc[row_indexer,col_indexer] = value instead\n",
      "\n",
      "See the caveats in the documentation: http://pandas.pydata.org/pandas-docs/stable/indexing.html#indexing-view-versus-copy\n",
      "  \n",
      "/Users/skiparay/miniconda3/lib/python3.6/site-packages/ipykernel_launcher.py:7: SettingWithCopyWarning: \n",
      "A value is trying to be set on a copy of a slice from a DataFrame.\n",
      "Try using .loc[row_indexer,col_indexer] = value instead\n",
      "\n",
      "See the caveats in the documentation: http://pandas.pydata.org/pandas-docs/stable/indexing.html#indexing-view-versus-copy\n",
      "  import sys\n"
     ]
    }
   ],
   "source": [
    "IGPics['Caption'] = picframe['caption']\n",
    "IGPics['Comment_Count'] = picframe['comment_count']\n",
    "IGPics['Hashtags'] = picframe['hashtags']\n",
    "IGPics['Image_URL'] = picframe['image_url']\n",
    "IGPics['Like_Count'] = picframe['like_count']\n",
    "IGPics['Post_Link'] = picframe['link']\n",
    "IGPics['PostID'] = picframe['post_id']"
   ]
  },
  {
   "cell_type": "code",
   "execution_count": 29,
   "metadata": {
    "ExecuteTime": {
     "end_time": "2017-12-11T17:34:47.988995Z",
     "start_time": "2017-12-11T17:34:47.907875Z"
    }
   },
   "outputs": [],
   "source": [
    "IGData = FB_and_IG_data[FB_and_IG_data['channel'] == 'instagram']\n",
    "IGVids = IGData[IGData['channel_type'] == 'video']\n",
    "IGData.reset_index(drop=True, inplace=True)"
   ]
  },
  {
   "cell_type": "code",
   "execution_count": 30,
   "metadata": {
    "ExecuteTime": {
     "end_time": "2017-12-11T17:34:48.038177Z",
     "start_time": "2017-12-11T17:34:47.991865Z"
    }
   },
   "outputs": [],
   "source": [
    "IGPics = IGPics[['brand', 'timestamp', 'Like_Count', 'impact', 'engagement', 'Comment_Count', 'Caption', 'Hashtags', 'Image_URL', 'Post_Link', 'PostID', 'share_token']]"
   ]
  },
  {
   "cell_type": "code",
   "execution_count": 31,
   "metadata": {
    "ExecuteTime": {
     "end_time": "2017-12-11T17:34:58.904690Z",
     "start_time": "2017-12-11T17:34:48.041942Z"
    }
   },
   "outputs": [
    {
     "name": "stderr",
     "output_type": "stream",
     "text": [
      "/Users/skiparay/miniconda3/lib/python3.6/site-packages/ipykernel_launcher.py:1: SettingWithCopyWarning: \n",
      "A value is trying to be set on a copy of a slice from a DataFrame.\n",
      "Try using .loc[row_indexer,col_indexer] = value instead\n",
      "\n",
      "See the caveats in the documentation: http://pandas.pydata.org/pandas-docs/stable/indexing.html#indexing-view-versus-copy\n",
      "  \"\"\"Entry point for launching an IPython kernel.\n",
      "/Users/skiparay/miniconda3/lib/python3.6/site-packages/ipykernel_launcher.py:2: SettingWithCopyWarning: \n",
      "A value is trying to be set on a copy of a slice from a DataFrame.\n",
      "Try using .loc[row_indexer,col_indexer] = value instead\n",
      "\n",
      "See the caveats in the documentation: http://pandas.pydata.org/pandas-docs/stable/indexing.html#indexing-view-versus-copy\n",
      "  \n",
      "/Users/skiparay/miniconda3/lib/python3.6/site-packages/ipykernel_launcher.py:3: SettingWithCopyWarning: \n",
      "A value is trying to be set on a copy of a slice from a DataFrame.\n",
      "Try using .loc[row_indexer,col_indexer] = value instead\n",
      "\n",
      "See the caveats in the documentation: http://pandas.pydata.org/pandas-docs/stable/indexing.html#indexing-view-versus-copy\n",
      "  This is separate from the ipykernel package so we can avoid doing imports until\n",
      "/Users/skiparay/miniconda3/lib/python3.6/site-packages/ipykernel_launcher.py:4: SettingWithCopyWarning: \n",
      "A value is trying to be set on a copy of a slice from a DataFrame.\n",
      "Try using .loc[row_indexer,col_indexer] = value instead\n",
      "\n",
      "See the caveats in the documentation: http://pandas.pydata.org/pandas-docs/stable/indexing.html#indexing-view-versus-copy\n",
      "  after removing the cwd from sys.path.\n",
      "/Users/skiparay/miniconda3/lib/python3.6/site-packages/ipykernel_launcher.py:5: SettingWithCopyWarning: \n",
      "A value is trying to be set on a copy of a slice from a DataFrame.\n",
      "Try using .loc[row_indexer,col_indexer] = value instead\n",
      "\n",
      "See the caveats in the documentation: http://pandas.pydata.org/pandas-docs/stable/indexing.html#indexing-view-versus-copy\n",
      "  \"\"\"\n",
      "/Users/skiparay/miniconda3/lib/python3.6/site-packages/ipykernel_launcher.py:6: SettingWithCopyWarning: \n",
      "A value is trying to be set on a copy of a slice from a DataFrame.\n",
      "Try using .loc[row_indexer,col_indexer] = value instead\n",
      "\n",
      "See the caveats in the documentation: http://pandas.pydata.org/pandas-docs/stable/indexing.html#indexing-view-versus-copy\n",
      "  \n",
      "/Users/skiparay/miniconda3/lib/python3.6/site-packages/ipykernel_launcher.py:7: SettingWithCopyWarning: \n",
      "A value is trying to be set on a copy of a slice from a DataFrame.\n",
      "Try using .loc[row_indexer,col_indexer] = value instead\n",
      "\n",
      "See the caveats in the documentation: http://pandas.pydata.org/pandas-docs/stable/indexing.html#indexing-view-versus-copy\n",
      "  import sys\n"
     ]
    }
   ],
   "source": [
    "IGVids['Caption'] = vidframe['caption']\n",
    "IGVids['Comment_Count'] = vidframe['comment_count']\n",
    "IGVids['Hashtags'] = vidframe['hashtags']\n",
    "IGVids['Like_Count'] = vidframe['like_count']\n",
    "IGVids['Post_Link'] = vidframe['link']\n",
    "IGVids['PostID'] = vidframe['post_id']\n",
    "IGVids['Video_URL'] = vidframe['video_url']\n",
    "IGVids.reset_index(drop=True, inplace=True)"
   ]
  },
  {
   "cell_type": "code",
   "execution_count": 32,
   "metadata": {
    "ExecuteTime": {
     "end_time": "2017-12-11T17:34:58.918568Z",
     "start_time": "2017-12-11T17:34:58.908371Z"
    }
   },
   "outputs": [],
   "source": [
    "IGVids = IGVids[['brand', 'timestamp', 'Like_Count', 'impact', 'engagement', 'Comment_Count', 'Caption', 'Hashtags', 'Video_URL', 'Post_Link', 'PostID', 'share_token']]"
   ]
  },
  {
   "cell_type": "code",
   "execution_count": 33,
   "metadata": {
    "ExecuteTime": {
     "end_time": "2017-12-11T17:34:58.943414Z",
     "start_time": "2017-12-11T17:34:58.921515Z"
    }
   },
   "outputs": [
    {
     "data": {
      "text/html": [
       "<div>\n",
       "<style scoped>\n",
       "    .dataframe tbody tr th:only-of-type {\n",
       "        vertical-align: middle;\n",
       "    }\n",
       "\n",
       "    .dataframe tbody tr th {\n",
       "        vertical-align: top;\n",
       "    }\n",
       "\n",
       "    .dataframe thead th {\n",
       "        text-align: right;\n",
       "    }\n",
       "</style>\n",
       "<table border=\"1\" class=\"dataframe\">\n",
       "  <thead>\n",
       "    <tr style=\"text-align: right;\">\n",
       "      <th></th>\n",
       "      <th>brand</th>\n",
       "      <th>timestamp</th>\n",
       "      <th>Like_Count</th>\n",
       "      <th>impact</th>\n",
       "      <th>engagement</th>\n",
       "      <th>Comment_Count</th>\n",
       "      <th>Caption</th>\n",
       "      <th>Hashtags</th>\n",
       "      <th>Image_URL</th>\n",
       "      <th>Post_Link</th>\n",
       "      <th>PostID</th>\n",
       "      <th>share_token</th>\n",
       "    </tr>\n",
       "  </thead>\n",
       "  <tbody>\n",
       "    <tr>\n",
       "      <th>0</th>\n",
       "      <td>VanityFair</td>\n",
       "      <td>2017-11-16 02:57:55</td>\n",
       "      <td>22678</td>\n",
       "      <td>0.916917</td>\n",
       "      <td>22842</td>\n",
       "      <td>164</td>\n",
       "      <td>@JLo &amp; @ARod isn't just another love story; it...</td>\n",
       "      <td></td>\n",
       "      <td>https://scontent.cdninstagram.com/t51.2885-15/...</td>\n",
       "      <td>https://www.instagram.com/p/BbikmregLBQ/</td>\n",
       "      <td>1649041401268187216_11206038</td>\n",
       "      <td>Rf-5cZ4Jd85T3ELj-vBlTwNQnqB4gu61mQ1EpB60sWzore...</td>\n",
       "    </tr>\n",
       "    <tr>\n",
       "      <th>1</th>\n",
       "      <td>Glamor</td>\n",
       "      <td>2017-11-16 01:38:40</td>\n",
       "      <td>512</td>\n",
       "      <td>0.104155</td>\n",
       "      <td>515</td>\n",
       "      <td>3</td>\n",
       "      <td>We're still not over all the cute moments 😍  a...</td>\n",
       "      <td>GlamourWOTY</td>\n",
       "      <td>https://scontent.cdninstagram.com/t51.2885-15/...</td>\n",
       "      <td>https://www.instagram.com/p/BbibiLwDKPX/</td>\n",
       "      <td>1649001509906326487_10070230</td>\n",
       "      <td>_jVh9Q5jkyQvc0vrcEvC3ANQnqB4gu61mQ1EpB60sWzore...</td>\n",
       "    </tr>\n",
       "    <tr>\n",
       "      <th>2</th>\n",
       "      <td>Allure</td>\n",
       "      <td>2017-11-16 01:00:36</td>\n",
       "      <td>1117</td>\n",
       "      <td>0.373609</td>\n",
       "      <td>1128</td>\n",
       "      <td>11</td>\n",
       "      <td>It's no secret how much we love makeup, and if...</td>\n",
       "      <td>EditorsFaves</td>\n",
       "      <td>https://scontent.cdninstagram.com/t51.2885-15/...</td>\n",
       "      <td>https://www.instagram.com/p/BbiXLd9BWmc/</td>\n",
       "      <td>1648982356717300124_24852591</td>\n",
       "      <td>0QUMc4LpJEFQMVmFKCRD2wNQnqB4gu61mQ1EpB60sWzore...</td>\n",
       "    </tr>\n",
       "    <tr>\n",
       "      <th>3</th>\n",
       "      <td>VanityFair</td>\n",
       "      <td>2017-11-15 23:58:34</td>\n",
       "      <td>16608</td>\n",
       "      <td>0.665746</td>\n",
       "      <td>16709</td>\n",
       "      <td>101</td>\n",
       "      <td>Amber Heard has one simple trick for narrowing...</td>\n",
       "      <td></td>\n",
       "      <td>https://scontent.cdninstagram.com/t51.2885-15/...</td>\n",
       "      <td>https://www.instagram.com/p/BbiQFGHgTMh/</td>\n",
       "      <td>1648951132480942881_11206038</td>\n",
       "      <td>O8uYi1okeMI9skZXMJXnkwNQnqB4gu61mQ1EpB60sWzore...</td>\n",
       "    </tr>\n",
       "    <tr>\n",
       "      <th>4</th>\n",
       "      <td>Clever</td>\n",
       "      <td>2017-11-15 23:17:19</td>\n",
       "      <td>6508</td>\n",
       "      <td>0.302599</td>\n",
       "      <td>6545</td>\n",
       "      <td>37</td>\n",
       "      <td>By painting the home office of a Nolita loft b...</td>\n",
       "      <td>linkinbio</td>\n",
       "      <td>https://scontent.cdninstagram.com/t51.2885-15/...</td>\n",
       "      <td>https://www.instagram.com/p/BbiLW7MHu6Y/</td>\n",
       "      <td>1648930367465254552_239180867</td>\n",
       "      <td>m-LLj1UQCfKTd_aXjCJ-rwNQnqB4gu61mQ1EpB60sWzore...</td>\n",
       "    </tr>\n",
       "  </tbody>\n",
       "</table>\n",
       "</div>"
      ],
      "text/plain": [
       "        brand           timestamp  Like_Count    impact  engagement  \\\n",
       "0  VanityFair 2017-11-16 02:57:55       22678  0.916917       22842   \n",
       "1      Glamor 2017-11-16 01:38:40         512  0.104155         515   \n",
       "2      Allure 2017-11-16 01:00:36        1117  0.373609        1128   \n",
       "3  VanityFair 2017-11-15 23:58:34       16608  0.665746       16709   \n",
       "4      Clever 2017-11-15 23:17:19        6508  0.302599        6545   \n",
       "\n",
       "   Comment_Count                                            Caption  \\\n",
       "0            164  @JLo & @ARod isn't just another love story; it...   \n",
       "1              3  We're still not over all the cute moments 😍  a...   \n",
       "2             11  It's no secret how much we love makeup, and if...   \n",
       "3            101  Amber Heard has one simple trick for narrowing...   \n",
       "4             37  By painting the home office of a Nolita loft b...   \n",
       "\n",
       "       Hashtags                                          Image_URL  \\\n",
       "0                https://scontent.cdninstagram.com/t51.2885-15/...   \n",
       "1   GlamourWOTY  https://scontent.cdninstagram.com/t51.2885-15/...   \n",
       "2  EditorsFaves  https://scontent.cdninstagram.com/t51.2885-15/...   \n",
       "3                https://scontent.cdninstagram.com/t51.2885-15/...   \n",
       "4     linkinbio  https://scontent.cdninstagram.com/t51.2885-15/...   \n",
       "\n",
       "                                  Post_Link                         PostID  \\\n",
       "0  https://www.instagram.com/p/BbikmregLBQ/   1649041401268187216_11206038   \n",
       "1  https://www.instagram.com/p/BbibiLwDKPX/   1649001509906326487_10070230   \n",
       "2  https://www.instagram.com/p/BbiXLd9BWmc/   1648982356717300124_24852591   \n",
       "3  https://www.instagram.com/p/BbiQFGHgTMh/   1648951132480942881_11206038   \n",
       "4  https://www.instagram.com/p/BbiLW7MHu6Y/  1648930367465254552_239180867   \n",
       "\n",
       "                                         share_token  \n",
       "0  Rf-5cZ4Jd85T3ELj-vBlTwNQnqB4gu61mQ1EpB60sWzore...  \n",
       "1  _jVh9Q5jkyQvc0vrcEvC3ANQnqB4gu61mQ1EpB60sWzore...  \n",
       "2  0QUMc4LpJEFQMVmFKCRD2wNQnqB4gu61mQ1EpB60sWzore...  \n",
       "3  O8uYi1okeMI9skZXMJXnkwNQnqB4gu61mQ1EpB60sWzore...  \n",
       "4  m-LLj1UQCfKTd_aXjCJ-rwNQnqB4gu61mQ1EpB60sWzore...  "
      ]
     },
     "execution_count": 33,
     "metadata": {},
     "output_type": "execute_result"
    }
   ],
   "source": [
    "IGPics.head()"
   ]
  },
  {
   "cell_type": "markdown",
   "metadata": {},
   "source": [
    "# Visualizations"
   ]
  },
  {
   "cell_type": "code",
   "execution_count": 34,
   "metadata": {
    "ExecuteTime": {
     "end_time": "2017-12-11T17:34:59.338260Z",
     "start_time": "2017-12-11T17:34:58.945964Z"
    }
   },
   "outputs": [
    {
     "data": {
      "image/png": "[encoded data removed]",
      "text/plain": [
       "<matplotlib.figure.Figure at 0x106aa5b70>"
      ]
     },
     "metadata": {},
     "output_type": "display_data"
    }
   ],
   "source": [
    "_ = sns.countplot(x=IGPics['brand'], data=IGPics)\n",
    "_ = plt.xticks(rotation = 55)\n",
    "_ = plt.ylabel('Count')\n",
    "_ = plt.xlabel('Brand')"
   ]
  },
  {
   "cell_type": "code",
   "execution_count": 35,
   "metadata": {
    "ExecuteTime": {
     "end_time": "2017-12-11T17:35:00.113774Z",
     "start_time": "2017-12-11T17:34:59.340249Z"
    }
   },
   "outputs": [
    {
     "data": {
      "image/png": "[encoded data removed]",
      "text/plain": [
       "<matplotlib.figure.Figure at 0x25a5b3b38>"
      ]
     },
     "metadata": {},
     "output_type": "display_data"
    }
   ],
   "source": [
    "sns.barplot(x = IGPics['brand'], y = IGPics['Like_Count'])\n",
    "_ = plt.xlabel('Brand')\n",
    "_ = plt.ylabel('Mean Like Count')\n",
    "_ = plt.xticks(rotation = 55)\n",
    "_ = plt.show()"
   ]
  },
  {
   "cell_type": "code",
   "execution_count": 36,
   "metadata": {
    "ExecuteTime": {
     "end_time": "2017-12-11T17:35:00.907511Z",
     "start_time": "2017-12-11T17:35:00.115717Z"
    }
   },
   "outputs": [
    {
     "data": {
      "image/png": "[encoded data removed]",
      "text/plain": [
       "<matplotlib.figure.Figure at 0x25a6664e0>"
      ]
     },
     "metadata": {},
     "output_type": "display_data"
    }
   ],
   "source": [
    "sns.barplot(x = IGPics['brand'], y = IGPics['engagement'])\n",
    "_ = plt.xlabel('Brand')\n",
    "_ = plt.xticks(rotation = 55)\n",
    "_ = plt.ylabel('Engagement')\n",
    "_ = plt.show()"
   ]
  },
  {
   "cell_type": "code",
   "execution_count": 37,
   "metadata": {
    "ExecuteTime": {
     "end_time": "2017-12-11T17:35:01.235767Z",
     "start_time": "2017-12-11T17:35:00.909447Z"
    }
   },
   "outputs": [
    {
     "data": {
      "image/png": "[encoded data removed]",
      "text/plain": [
       "<matplotlib.figure.Figure at 0x25a5997b8>"
      ]
     },
     "metadata": {},
     "output_type": "display_data"
    }
   ],
   "source": [
    "_ = sns.countplot(x=IGVids['brand'], data=IGVids)\n",
    "_ = plt.xticks(rotation = 55)\n",
    "_ = plt.ylabel('Count')\n",
    "_ = plt.xlabel('Brand')"
   ]
  },
  {
   "cell_type": "code",
   "execution_count": 38,
   "metadata": {
    "ExecuteTime": {
     "end_time": "2017-12-11T17:35:01.642543Z",
     "start_time": "2017-12-11T17:35:01.238315Z"
    }
   },
   "outputs": [
    {
     "data": {
      "image/png": "[encoded data removed]",
      "text/plain": [
       "<matplotlib.figure.Figure at 0x25a7cbba8>"
      ]
     },
     "metadata": {},
     "output_type": "display_data"
    }
   ],
   "source": [
    "sns.barplot(x = IGVids['brand'], y = IGVids['Like_Count'])\n",
    "_ = plt.xlabel('Brand')\n",
    "_ = plt.ylabel('Mean Like Count')\n",
    "_ = plt.xticks(rotation = 55)\n",
    "_ = plt.show()"
   ]
  },
  {
   "cell_type": "code",
   "execution_count": 39,
   "metadata": {
    "ExecuteTime": {
     "end_time": "2017-12-11T17:35:02.204228Z",
     "start_time": "2017-12-11T17:35:01.646088Z"
    }
   },
   "outputs": [
    {
     "data": {
      "image/png": "[encoded data removed]",
      "text/plain": [
       "<matplotlib.figure.Figure at 0x25a5f4550>"
      ]
     },
     "metadata": {},
     "output_type": "display_data"
    }
   ],
   "source": [
    "sns.barplot(x = IGVids['brand'], y = IGVids['engagement'])\n",
    "_ = plt.xlabel('Brand')\n",
    "_ = plt.xticks(rotation = 55)\n",
    "_ = plt.ylabel('Engagement')\n",
    "_ = plt.show()"
   ]
  },
  {
   "cell_type": "markdown",
   "metadata": {},
   "source": [
    "# Data Export"
   ]
  },
  {
   "cell_type": "markdown",
   "metadata": {},
   "source": [
    "## Grabbing image/video urls for later analysis"
   ]
  },
  {
   "cell_type": "code",
   "execution_count": 40,
   "metadata": {
    "ExecuteTime": {
     "end_time": "2017-12-11T17:35:02.452143Z",
     "start_time": "2017-12-11T17:35:02.206223Z"
    }
   },
   "outputs": [],
   "source": [
    "imageurls = []\n",
    "\n",
    "for i in range(len(picframe['image_url'])):\n",
    "    imageurls.append(picframe['image_url'][i])"
   ]
  },
  {
   "cell_type": "code",
   "execution_count": 41,
   "metadata": {
    "ExecuteTime": {
     "end_time": "2017-12-11T17:35:02.496353Z",
     "start_time": "2017-12-11T17:35:02.454469Z"
    }
   },
   "outputs": [],
   "source": [
    "vidurls = []\n",
    "\n",
    "for i in range(len(vidframe['video_url'])):\n",
    "    vidurls.append(vidframe['video_url'][i])"
   ]
  },
  {
   "cell_type": "code",
   "execution_count": 42,
   "metadata": {
    "ExecuteTime": {
     "end_time": "2017-12-11T17:35:02.588822Z",
     "start_time": "2017-12-11T17:35:02.498433Z"
    },
    "run_control": {
     "marked": false
    }
   },
   "outputs": [],
   "source": [
    "with open(\"./assets/InstaPicsImageURLS.csv\", \"a\") as ip:\n",
    "    wi = csv.writer(ip, dialect='excel')\n",
    "    wi.writerows([x.split(',') for x in imageurls])\n",
    "    ip.close()    "
   ]
  },
  {
   "cell_type": "code",
   "execution_count": 43,
   "metadata": {
    "ExecuteTime": {
     "end_time": "2017-12-11T17:35:02.609129Z",
     "start_time": "2017-12-11T17:35:02.591681Z"
    }
   },
   "outputs": [],
   "source": [
    "with open(\"./assets/InstaVidsVideoURLS.csv\", \"a\") as iv:\n",
    "    wv = csv.writer(iv, dialect='excel')\n",
    "    wv.writerows([x.split(',') for x in vidurls])\n",
    "    iv.close"
   ]
  },
  {
   "cell_type": "code",
   "execution_count": 44,
   "metadata": {
    "ExecuteTime": {
     "end_time": "2017-12-11T17:35:02.649054Z",
     "start_time": "2017-12-11T17:35:02.611643Z"
    }
   },
   "outputs": [
    {
     "data": {
      "text/plain": [
       "caption          1\n",
       "comment_count    0\n",
       "filter_name      0\n",
       "hashtags         0\n",
       "image_url        0\n",
       "like_count       0\n",
       "link             0\n",
       "links            0\n",
       "post_id          0\n",
       "dtype: int64"
      ]
     },
     "execution_count": 44,
     "metadata": {},
     "output_type": "execute_result"
    }
   ],
   "source": [
    "picframe.isnull().sum()"
   ]
  },
  {
   "cell_type": "code",
   "execution_count": 45,
   "metadata": {
    "ExecuteTime": {
     "end_time": "2017-12-11T17:35:02.657592Z",
     "start_time": "2017-12-11T17:35:02.651423Z"
    }
   },
   "outputs": [],
   "source": [
    "# from sklearn.feature_extraction.text import CountVectorizer\n",
    "\n",
    "# picvect = CountVectorizer(analyzer = \"word\",   \n",
    "#                              tokenizer = None,    \n",
    "#                              preprocessor = None, \n",
    "#                              stop_words = 'english',   \n",
    "#                              max_features = 10000,\n",
    "#                              min_df = 1)\n",
    "\n",
    "# vidvect = CountVectorizer(analyzer = \"word\",   \n",
    "#                              tokenizer = None,    \n",
    "#                              preprocessor = None, \n",
    "#                              stop_words = 'english',   \n",
    "#                              max_features = 10000,\n",
    "#                              min_df = 1)"
   ]
  },
  {
   "cell_type": "code",
   "execution_count": 46,
   "metadata": {
    "ExecuteTime": {
     "end_time": "2017-12-11T17:35:02.663859Z",
     "start_time": "2017-12-11T17:35:02.660061Z"
    }
   },
   "outputs": [],
   "source": [
    "# picthashcorp = picvect.fit_transform(pichash)\n",
    "# pichashcorparray = picthashcorp.toarray()\n",
    "\n",
    "# vidhashcorp = picvect.fit_transform(vidhash)\n",
    "# vidhashcorparray = vidhashcorp.toarray()"
   ]
  },
  {
   "cell_type": "code",
   "execution_count": 47,
   "metadata": {
    "ExecuteTime": {
     "end_time": "2017-12-11T17:35:02.670027Z",
     "start_time": "2017-12-11T17:35:02.666429Z"
    }
   },
   "outputs": [],
   "source": [
    "# from sklearn.neighbors import KNeighborsClassifier\n",
    "\n",
    "# picclf = KNeighborsClassifier(n_neighbors=5)\n",
    "# picclf.fit(pichashcorparray, ) #Needs a y value"
   ]
  },
  {
   "cell_type": "markdown",
   "metadata": {},
   "source": [
    "# Modeling Functions (WORK IN PROGRESS!)"
   ]
  },
  {
   "cell_type": "markdown",
   "metadata": {},
   "source": [
    "## Setting up Hashes for CountVectorizer"
   ]
  },
  {
   "cell_type": "code",
   "execution_count": 48,
   "metadata": {
    "ExecuteTime": {
     "end_time": "2017-12-11T17:35:02.708335Z",
     "start_time": "2017-12-11T17:35:02.672378Z"
    },
    "run_control": {
     "marked": false
    }
   },
   "outputs": [],
   "source": [
    "pichash = picframe['hashtags'].value_counts()\n",
    "pichash = pichash.iloc[1:]\n",
    "pichash = pichash.astype(str)"
   ]
  },
  {
   "cell_type": "code",
   "execution_count": 49,
   "metadata": {
    "ExecuteTime": {
     "end_time": "2017-12-11T17:35:02.721284Z",
     "start_time": "2017-12-11T17:35:02.710613Z"
    }
   },
   "outputs": [],
   "source": [
    "vidhash = vidframe['hashtags'].value_counts()\n",
    "vidhash = vidhash.iloc[1:]\n",
    "vidhash = vidhash.astype(str)"
   ]
  },
  {
   "cell_type": "markdown",
   "metadata": {},
   "source": [
    "## Count Vectorizer"
   ]
  },
  {
   "cell_type": "code",
   "execution_count": 50,
   "metadata": {
    "ExecuteTime": {
     "end_time": "2017-12-11T17:35:02.827399Z",
     "start_time": "2017-12-11T17:35:02.723805Z"
    }
   },
   "outputs": [],
   "source": [
    "from sklearn.feature_extraction.text import CountVectorizer\n",
    "from sklearn.neighbors import KNeighborsClassifier\n",
    "\n",
    "def InstaVect(wordseries, Y):\n",
    "    try:\n",
    "        wordseries = wordseries.astype(str)\n",
    "    except ValueError:\n",
    "        print(\"ERROR: Entries must be string or list of strings.\")\n",
    "    \n",
    "    vectorizer = CountVectorizer(analyzer = \"word\",   \n",
    "                             tokenizer = None,    \n",
    "                             preprocessor = None, \n",
    "                             stop_words = 'english',   \n",
    "                             max_features = 10000,\n",
    "                             min_df = 1)\n",
    "    corpus = vectorizer.fit_transform(wordseries)\n",
    "    corpus = corpus.to_array\n",
    "    \n",
    "    classifier = KNeighborsClassifier(n_neighbors=5)\n",
    "    \n",
    "    return classifier.fit(corpus, y=Y)\n",
    "\n",
    "#Don't know if this works"
   ]
  },
  {
   "cell_type": "markdown",
   "metadata": {},
   "source": [
    "## Bog Standard SLR"
   ]
  },
  {
   "cell_type": "code",
   "execution_count": 51,
   "metadata": {
    "ExecuteTime": {
     "end_time": "2017-12-11T17:35:02.850334Z",
     "start_time": "2017-12-11T17:35:02.829267Z"
    }
   },
   "outputs": [
    {
     "ename": "SyntaxError",
     "evalue": "invalid syntax (<ipython-input-51-289c6e321047>, line 14)",
     "output_type": "error",
     "traceback": [
      "\u001b[0;36m  File \u001b[0;32m\"<ipython-input-51-289c6e321047>\"\u001b[0;36m, line \u001b[0;32m14\u001b[0m\n\u001b[0;31m    predictions = cross_val_predict(model, , , cv = 6)\u001b[0m\n\u001b[0m                                           ^\u001b[0m\n\u001b[0;31mSyntaxError\u001b[0m\u001b[0;31m:\u001b[0m invalid syntax\n"
     ]
    }
   ],
   "source": [
    "from sklearn.model_selection import train_test_split\n",
    "from sklearn.model_selection import cross_val_score, cross_val_predict\n",
    "from sklearn import metrics\n",
    "from sklearn import datasets, linear_model\n",
    "\n",
    "def SLR(X, y):\n",
    "    X_train, X_test, y_train, y_test = train_test_split(X, y, test_size=0.3)\n",
    "\n",
    "    lm = linear_model.LinearRegression()\n",
    "    model = lm.fit(X_train, y_train)\n",
    "    predictions = lm.predict(X_test)\n",
    "        \n",
    "    scores = cross_val_score(model, X_train, y_train, cv = 6)\n",
    "    predictions = cross_val_predict(model, , , cv = 6)\n",
    "    accuracy = metrics.r2_score(y_test, predictions)\n",
    "    \n",
    "    plt.scatter(y, predictions)\n",
    "    plt.show()    \n",
    "    \n",
    "    print(\"Cross-Predicted Accuracy: \", accuracy)\n",
    "    \n",
    "#Ditto. Getting an array error. Hate that one."
   ]
  },
  {
   "cell_type": "markdown",
   "metadata": {},
   "source": [
    "## Logistic Regression"
   ]
  },
  {
   "cell_type": "code",
   "execution_count": null,
   "metadata": {
    "ExecuteTime": {
     "end_time": "2017-12-11T17:35:02.851161Z",
     "start_time": "2017-12-11T17:34:05.041Z"
    }
   },
   "outputs": [],
   "source": [
    "from sklearn.linear_model import LogisticRegression\n",
    "from sklearn.model_selection import cross_val_score, cross_val_predict\n",
    "from sklearn import metrics\n",
    "\n",
    "def LogReg(X, y):\n",
    "    X_train, X_test, y_train, y_test = train_test_split(X, y, test_size=0.3)\n",
    "    \n",
    "    logreg = linear_model.LogisticRegression()\n",
    "    model = logreg.fit(X_train,y_train)\n",
    "    predictions = logreg.predict(X_test)\n",
    "    \n",
    "    scores = cross_val_score(model, X_train, y_train, cv = 6)\n",
    "    predictions = cross_val_predict(model, , , cv = 6)\n",
    "    accuracy = metrics.scores()\n",
    "    \n",
    "    plt.scatter(y, predictions)\n",
    "    plt.show\n",
    "    \n",
    "    print(\"Cross-Predicted Accuracy: \", accuracy)"
   ]
  },
  {
   "cell_type": "markdown",
   "metadata": {},
   "source": [
    "## Decision Tree"
   ]
  },
  {
   "cell_type": "markdown",
   "metadata": {},
   "source": [
    "### Instagram Image Data"
   ]
  },
  {
   "cell_type": "code",
   "execution_count": null,
   "metadata": {
    "ExecuteTime": {
     "end_time": "2017-12-11T17:35:02.852570Z",
     "start_time": "2017-12-11T17:34:05.047Z"
    }
   },
   "outputs": [],
   "source": [
    "IGPics.head(1)"
   ]
  },
  {
   "cell_type": "code",
   "execution_count": null,
   "metadata": {
    "ExecuteTime": {
     "end_time": "2017-12-11T17:35:02.853985Z",
     "start_time": "2017-12-11T17:34:05.052Z"
    }
   },
   "outputs": [],
   "source": [
    "Xc = IGPics[['Like_Count', 'Comment_Count']]\n",
    "yc = IGPics['impact']\n"
   ]
  },
  {
   "cell_type": "code",
   "execution_count": null,
   "metadata": {
    "ExecuteTime": {
     "end_time": "2017-12-11T17:35:02.854824Z",
     "start_time": "2017-12-11T17:34:05.058Z"
    }
   },
   "outputs": [],
   "source": [
    "from sklearn.cross_validation import cross_val_score\n",
    "from sklearn import tree\n",
    "\n",
    "clf = tree.DecisionTreeClassifier(max_depth=5)\n",
    "clf.fit(Xc, yc)\n",
    "\n",
    "clfscores = cross_val_score(clf, Xc, yc, cv = 3)\n",
    "print(clfscores, np.mean(clfscores))"
   ]
  },
  {
   "cell_type": "code",
   "execution_count": null,
   "metadata": {},
   "outputs": [],
   "source": []
  }
 ],
 "metadata": {
  "kernelspec": {
   "display_name": "Python 3",
   "language": "python",
   "name": "python3"
  },
  "language_info": {
   "codemirror_mode": {
    "name": "ipython",
    "version": 3
   },
   "file_extension": ".py",
   "mimetype": "text/x-python",
   "name": "python",
   "nbconvert_exporter": "python",
   "pygments_lexer": "ipython3",
   "version": "3.6.3"
  },
  "toc": {
   "nav_menu": {},
   "number_sections": true,
   "sideBar": true,
   "skip_h1_title": false,
   "toc_cell": false,
   "toc_position": {},
   "toc_section_display": "block",
   "toc_window_display": false
  },
  "varInspector": {
   "cols": {
    "lenName": 16,
    "lenType": 16,
    "lenVar": 40
   },
   "kernels_config": {
    "python": {
     "delete_cmd_postfix": "",
     "delete_cmd_prefix": "del ",
     "library": "var_list.py",
     "varRefreshCmd": "print(var_dic_list())"
    },
    "r": {
     "delete_cmd_postfix": ") ",
     "delete_cmd_prefix": "rm(",
     "library": "var_list.r",
     "varRefreshCmd": "cat(var_dic_list()) "
    }
   },
   "types_to_exclude": [
    "module",
    "function",
    "builtin_function_or_method",
    "instance",
    "_Feature"
   ],
   "window_display": false
  }
 },
 "nbformat": 4,
 "nbformat_minor": 2
}
