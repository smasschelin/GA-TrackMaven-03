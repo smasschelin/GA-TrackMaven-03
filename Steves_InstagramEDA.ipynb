{
 "cells": [
  {
   "cell_type": "markdown",
   "metadata": {
    "heading_collapsed": true
   },
   "source": [
    "# Change Working Directory"
   ]
  },
  {
   "cell_type": "code",
   "execution_count": 1,
   "metadata": {
    "ExecuteTime": {
     "end_time": "2017-12-12T16:28:15.817599Z",
     "start_time": "2017-12-12T16:28:14.048616Z"
    },
    "hidden": true
   },
   "outputs": [
    {
     "name": "stderr",
     "output_type": "stream",
     "text": [
      "/Users/skiparay/miniconda3/lib/python3.6/site-packages/statsmodels/compat/pandas.py:56: FutureWarning: The pandas.core.datetools module is deprecated and will be removed in a future version. Please use the pandas.tseries module instead.\n",
      "  from pandas.core import datetools\n"
     ]
    }
   ],
   "source": [
    "import pandas as pd\n",
    "import numpy as np\n",
    "import matplotlib.pyplot as plt\n",
    "import seaborn as sns\n",
    "import statsmodels.api as sm\n",
    "import os\n",
    "import csv\n",
    "import seaborn as sns\n",
    "import graphviz\n",
    "import nltk\n",
    "%matplotlib inline"
   ]
  },
  {
   "cell_type": "code",
   "execution_count": 2,
   "metadata": {
    "ExecuteTime": {
     "end_time": "2017-12-12T16:28:15.829404Z",
     "start_time": "2017-12-12T16:28:15.819640Z"
    },
    "hidden": true
   },
   "outputs": [],
   "source": [
    "abspath = os.path.abspath('OO_Importing_Data.py') # Get filepath\n",
    "dname = os.path.dirname(abspath) # Get directory\n",
    "os.chdir(dname) # Make directory working directory"
   ]
  },
  {
   "cell_type": "code",
   "execution_count": 3,
   "metadata": {
    "ExecuteTime": {
     "end_time": "2017-12-12T16:28:15.835193Z",
     "start_time": "2017-12-12T16:28:15.831698Z"
    },
    "hidden": true
   },
   "outputs": [],
   "source": [
    "plt.rcParams['figure.figsize'] = (12.0, 10.0)\n",
    "plt.style.use(['fivethirtyeight'])"
   ]
  },
  {
   "cell_type": "markdown",
   "metadata": {},
   "source": [
    "# EDA"
   ]
  },
  {
   "cell_type": "markdown",
   "metadata": {},
   "source": [
    "## Reading in the Data"
   ]
  },
  {
   "cell_type": "code",
   "execution_count": 4,
   "metadata": {
    "ExecuteTime": {
     "end_time": "2017-12-12T16:28:43.513342Z",
     "start_time": "2017-12-12T16:28:15.837113Z"
    }
   },
   "outputs": [],
   "source": [
    "data = pd.read_json('assets/newdump.json')"
   ]
  },
  {
   "cell_type": "markdown",
   "metadata": {},
   "source": [
    "## Splitting up the 'Channel Info' dictionaries into seperate columns"
   ]
  },
  {
   "cell_type": "code",
   "execution_count": 5,
   "metadata": {
    "ExecuteTime": {
     "end_time": "2017-12-12T16:28:44.207803Z",
     "start_time": "2017-12-12T16:28:43.516236Z"
    }
   },
   "outputs": [],
   "source": [
    "data['channel_type'] = [x['type'] for x in data['channel_info']]\n",
    "data['channel'] = [x['channel'] for x in data['channel_info']]"
   ]
  },
  {
   "cell_type": "code",
   "execution_count": 6,
   "metadata": {
    "ExecuteTime": {
     "end_time": "2017-12-12T16:28:45.134548Z",
     "start_time": "2017-12-12T16:28:44.211347Z"
    }
   },
   "outputs": [],
   "source": [
    "data.drop('channel_info', axis = 1, inplace=True)"
   ]
  },
  {
   "cell_type": "markdown",
   "metadata": {},
   "source": [
    "## Showing only Facebook and Instagram Data"
   ]
  },
  {
   "cell_type": "code",
   "execution_count": 7,
   "metadata": {
    "ExecuteTime": {
     "end_time": "2017-12-12T16:28:45.496075Z",
     "start_time": "2017-12-12T16:28:45.137440Z"
    }
   },
   "outputs": [],
   "source": [
    "FB_and_IG_data = data.loc[(data['channel'] == 'facebook') | (data['channel'] == 'instagram')]"
   ]
  },
  {
   "cell_type": "markdown",
   "metadata": {},
   "source": [
    "## Removing '' and [] from 'type' column for queries"
   ]
  },
  {
   "cell_type": "code",
   "execution_count": 8,
   "metadata": {
    "ExecuteTime": {
     "end_time": "2017-12-12T16:28:47.267548Z",
     "start_time": "2017-12-12T16:28:45.499382Z"
    },
    "scrolled": true
   },
   "outputs": [
    {
     "name": "stderr",
     "output_type": "stream",
     "text": [
      "/Users/skiparay/miniconda3/lib/python3.6/site-packages/ipykernel_launcher.py:1: SettingWithCopyWarning: \n",
      "A value is trying to be set on a copy of a slice from a DataFrame.\n",
      "Try using .loc[row_indexer,col_indexer] = value instead\n",
      "\n",
      "See the caveats in the documentation: http://pandas.pydata.org/pandas-docs/stable/indexing.html#indexing-view-versus-copy\n",
      "  \"\"\"Entry point for launching an IPython kernel.\n"
     ]
    }
   ],
   "source": [
    "FB_and_IG_data['channel_type'] = FB_and_IG_data['channel_type'].apply(lambda x: x[0])"
   ]
  },
  {
   "cell_type": "markdown",
   "metadata": {},
   "source": [
    "## Breaking down number of entries for each type of post. Looks like Facebook is a clear winner"
   ]
  },
  {
   "cell_type": "code",
   "execution_count": 9,
   "metadata": {
    "ExecuteTime": {
     "end_time": "2017-12-12T16:28:47.391367Z",
     "start_time": "2017-12-12T16:28:47.271338Z"
    }
   },
   "outputs": [
    {
     "data": {
      "text/plain": [
       "facebook post    249485\n",
       "instagram pic     17526\n",
       "instagram vid      2664\n",
       "Name: type, dtype: int64"
      ]
     },
     "execution_count": 9,
     "metadata": {},
     "output_type": "execute_result"
    }
   ],
   "source": [
    "FB_and_IG_data['type'].value_counts()"
   ]
  },
  {
   "cell_type": "markdown",
   "metadata": {},
   "source": [
    "## Replacing Values in 'brand' with the actual publication"
   ]
  },
  {
   "cell_type": "code",
   "execution_count": 10,
   "metadata": {
    "ExecuteTime": {
     "end_time": "2017-12-12T16:28:47.404375Z",
     "start_time": "2017-12-12T16:28:47.393824Z"
    }
   },
   "outputs": [
    {
     "data": {
      "text/plain": [
       "137322    46545\n",
       "137326    37444\n",
       "137329    32608\n",
       "137299    31680\n",
       "137316    28308\n",
       "137325    25983\n",
       "137321    24165\n",
       "137314    22100\n",
       "137300    20842\n",
       "Name: brand, dtype: int64"
      ]
     },
     "execution_count": 10,
     "metadata": {},
     "output_type": "execute_result"
    }
   ],
   "source": [
    "FB_and_IG_data['brand'].value_counts()"
   ]
  },
  {
   "cell_type": "markdown",
   "metadata": {},
   "source": [
    "Found these by plugging urls into google and seeing what showed up\n",
    "* Brand 137314 = Conde Naste Traveler\n",
    "* Brand 137329 = W Magazine\n",
    "* Brand 137321 = Self Magazine\n",
    "* Brand 137325 = Vanity Fair\n",
    "* Brand 137300 = Architectural Digest\n",
    "* Brand 137322 = Teen Vogue\n",
    "* Brand 137299 = Allure\n",
    "* Brand 137326 = Vogue\n",
    "* Brand 137316 = Glamor"
   ]
  },
  {
   "cell_type": "code",
   "execution_count": 11,
   "metadata": {
    "ExecuteTime": {
     "end_time": "2017-12-12T16:28:49.081411Z",
     "start_time": "2017-12-12T16:28:47.406603Z"
    },
    "run_control": {
     "marked": false
    }
   },
   "outputs": [
    {
     "name": "stderr",
     "output_type": "stream",
     "text": [
      "/Users/skiparay/miniconda3/lib/python3.6/site-packages/ipykernel_launcher.py:11: SettingWithCopyWarning: \n",
      "A value is trying to be set on a copy of a slice from a DataFrame.\n",
      "Try using .loc[row_indexer,col_indexer] = value instead\n",
      "\n",
      "See the caveats in the documentation: http://pandas.pydata.org/pandas-docs/stable/indexing.html#indexing-view-versus-copy\n",
      "  # This is added back by InteractiveShellApp.init_path()\n"
     ]
    }
   ],
   "source": [
    "brands = {137314 : 'Conde_Naste_Traveler', \n",
    "          137329 : 'W_Magazine',\n",
    "          137321 : 'Self',\n",
    "          137325 : 'Vanity_Fair', \n",
    "          137300 : 'Architectural_Digest', \n",
    "          137322 : 'Teen_Vogue', \n",
    "          137299 : 'Allure', \n",
    "          137326 : 'Vogue',\n",
    "          137316 : 'Glamor'\n",
    "         }\n",
    "FB_and_IG_data['brand'] = FB_and_IG_data['brand'].map(brands)                                                     "
   ]
  },
  {
   "cell_type": "markdown",
   "metadata": {},
   "source": [
    "## Taking a subset of just the Instagram data"
   ]
  },
  {
   "cell_type": "code",
   "execution_count": 12,
   "metadata": {
    "ExecuteTime": {
     "end_time": "2017-12-12T16:28:49.178001Z",
     "start_time": "2017-12-12T16:28:49.085238Z"
    }
   },
   "outputs": [
    {
     "data": {
      "text/html": [
       "<div>\n",
       "<style scoped>\n",
       "    .dataframe tbody tr th:only-of-type {\n",
       "        vertical-align: middle;\n",
       "    }\n",
       "\n",
       "    .dataframe tbody tr th {\n",
       "        vertical-align: top;\n",
       "    }\n",
       "\n",
       "    .dataframe thead th {\n",
       "        text-align: right;\n",
       "    }\n",
       "</style>\n",
       "<table border=\"1\" class=\"dataframe\">\n",
       "  <thead>\n",
       "    <tr style=\"text-align: right;\">\n",
       "      <th></th>\n",
       "      <th>brand</th>\n",
       "      <th>content</th>\n",
       "      <th>engagement</th>\n",
       "      <th>has_spend</th>\n",
       "      <th>id</th>\n",
       "      <th>impact</th>\n",
       "      <th>share_token</th>\n",
       "      <th>timestamp</th>\n",
       "      <th>type</th>\n",
       "      <th>urls</th>\n",
       "      <th>channel_type</th>\n",
       "      <th>channel</th>\n",
       "    </tr>\n",
       "  </thead>\n",
       "  <tbody>\n",
       "    <tr>\n",
       "      <th>0</th>\n",
       "      <td>Glamor</td>\n",
       "      <td>{'reactions': {'wow_count': 0, 'sad_count': 0,...</td>\n",
       "      <td>9</td>\n",
       "      <td>0.0</td>\n",
       "      <td>MTM3MzE2LTU0NTA4NDg5X2ZhY2Vib29rIHBvc3RfMTc0ODM</td>\n",
       "      <td>0.005619</td>\n",
       "      <td>FRI3zHcgR410PLLtjinjwU-xhf8kQw0VfV3KIISpuwTore...</td>\n",
       "      <td>2017-11-16 04:59:09</td>\n",
       "      <td>facebook post</td>\n",
       "      <td>[{'url': 'http://glmr.co/jg9jPXX', 'path': '/j...</td>\n",
       "      <td>link</td>\n",
       "      <td>facebook</td>\n",
       "    </tr>\n",
       "    <tr>\n",
       "      <th>6</th>\n",
       "      <td>Teen_Vogue</td>\n",
       "      <td>{'reactions': {'wow_count': 1, 'sad_count': 4,...</td>\n",
       "      <td>628</td>\n",
       "      <td>0.0</td>\n",
       "      <td>MTM3MzIyLTU0NTA4NDYwX2ZhY2Vib29rIHBvc3RfMTc0ODM</td>\n",
       "      <td>0.395325</td>\n",
       "      <td>IzB7KwBdHjLpx_v3cdFXNU-xhf8kQw0VfV3KIISpuwTore...</td>\n",
       "      <td>2017-11-16 04:45:59</td>\n",
       "      <td>facebook post</td>\n",
       "      <td>[{'url': 'https://www.facebook.com/teenvogue/p...</td>\n",
       "      <td>photo</td>\n",
       "      <td>facebook</td>\n",
       "    </tr>\n",
       "    <tr>\n",
       "      <th>8</th>\n",
       "      <td>Vanity_Fair</td>\n",
       "      <td>{'reactions': {'wow_count': 0, 'sad_count': 0,...</td>\n",
       "      <td>33</td>\n",
       "      <td>0.0</td>\n",
       "      <td>MTM3MzI1LTU0NTA4NDI5X2ZhY2Vib29rIHBvc3RfMTc0ODM</td>\n",
       "      <td>0.028596</td>\n",
       "      <td>9VB8_ABmpcmn8m9u1knu_U-xhf8kQw0VfV3KIISpuwTore...</td>\n",
       "      <td>2017-11-16 04:39:12</td>\n",
       "      <td>facebook post</td>\n",
       "      <td>[{'url': 'http://vntyfr.com/l67xkTh', 'path': ...</td>\n",
       "      <td>link</td>\n",
       "      <td>facebook</td>\n",
       "    </tr>\n",
       "    <tr>\n",
       "      <th>12</th>\n",
       "      <td>Teen_Vogue</td>\n",
       "      <td>{'reactions': {'wow_count': 0, 'sad_count': 0,...</td>\n",
       "      <td>62</td>\n",
       "      <td>0.0</td>\n",
       "      <td>MTM3MzIyLTU0NTA4NDM3X2ZhY2Vib29rIHBvc3RfMTc0ODM</td>\n",
       "      <td>0.040210</td>\n",
       "      <td>rkTmh8C9usX7gB9mrRns7k-xhf8kQw0VfV3KIISpuwTore...</td>\n",
       "      <td>2017-11-16 04:35:04</td>\n",
       "      <td>facebook post</td>\n",
       "      <td>[{'url': 'http://tnvge.co/8To5KBW', 'path': '/...</td>\n",
       "      <td>link</td>\n",
       "      <td>facebook</td>\n",
       "    </tr>\n",
       "    <tr>\n",
       "      <th>13</th>\n",
       "      <td>W_Magazine</td>\n",
       "      <td>{'reactions': {'wow_count': 0, 'sad_count': 0,...</td>\n",
       "      <td>46</td>\n",
       "      <td>0.0</td>\n",
       "      <td>MTM3MzI5LTU0NTA4NDkxX2ZhY2Vib29rIHBvc3RfMTc0ODM</td>\n",
       "      <td>0.107406</td>\n",
       "      <td>SdBYglyQBQA4wbPwIFC1HE-xhf8kQw0VfV3KIISpuwTore...</td>\n",
       "      <td>2017-11-16 04:32:48</td>\n",
       "      <td>facebook post</td>\n",
       "      <td>[{'url': 'http://wmag.cm/iF1pOXN', 'path': '/i...</td>\n",
       "      <td>link</td>\n",
       "      <td>facebook</td>\n",
       "    </tr>\n",
       "    <tr>\n",
       "      <th>15</th>\n",
       "      <td>Glamor</td>\n",
       "      <td>{'reactions': {'wow_count': 1, 'sad_count': 0,...</td>\n",
       "      <td>58</td>\n",
       "      <td>0.0</td>\n",
       "      <td>MTM3MzE2LTU0NTA4NDI1X2ZhY2Vib29rIHBvc3RfMTc0ODM</td>\n",
       "      <td>0.030003</td>\n",
       "      <td>xfe84TkNhvO4o7icVTMknU-xhf8kQw0VfV3KIISpuwTore...</td>\n",
       "      <td>2017-11-16 04:31:06</td>\n",
       "      <td>facebook post</td>\n",
       "      <td>[{'url': 'http://glmr.co/woZJzmr', 'path': '/w...</td>\n",
       "      <td>link</td>\n",
       "      <td>facebook</td>\n",
       "    </tr>\n",
       "    <tr>\n",
       "      <th>16</th>\n",
       "      <td>Vogue</td>\n",
       "      <td>{'reactions': {'wow_count': 0, 'sad_count': 0,...</td>\n",
       "      <td>54</td>\n",
       "      <td>0.0</td>\n",
       "      <td>MTM3MzI2LTU0NTA4NDkwX2ZhY2Vib29rIHBvc3RfMTc0ODM</td>\n",
       "      <td>0.055183</td>\n",
       "      <td>GWNGeXKfukJSo1OK_DKFPE-xhf8kQw0VfV3KIISpuwTore...</td>\n",
       "      <td>2017-11-16 04:30:42</td>\n",
       "      <td>facebook post</td>\n",
       "      <td>[{'url': 'https://www.facebook.com/Vogue/video...</td>\n",
       "      <td>video</td>\n",
       "      <td>facebook</td>\n",
       "    </tr>\n",
       "    <tr>\n",
       "      <th>17</th>\n",
       "      <td>Self</td>\n",
       "      <td>{'reactions': {'wow_count': 0, 'sad_count': 0,...</td>\n",
       "      <td>22</td>\n",
       "      <td>0.0</td>\n",
       "      <td>MTM3MzIxLTU0NTA4NDY5X2ZhY2Vib29rIHBvc3RfMTc0ODM</td>\n",
       "      <td>0.037493</td>\n",
       "      <td>Celtk0dD9AHTnL9b0L6NGU-xhf8kQw0VfV3KIISpuwTore...</td>\n",
       "      <td>2017-11-16 04:30:19</td>\n",
       "      <td>facebook post</td>\n",
       "      <td>[{'url': 'http://onself.co/VOiQQOA', 'path': '...</td>\n",
       "      <td>link</td>\n",
       "      <td>facebook</td>\n",
       "    </tr>\n",
       "    <tr>\n",
       "      <th>18</th>\n",
       "      <td>Conde_Naste_Traveler</td>\n",
       "      <td>{'reactions': {'wow_count': 0, 'sad_count': 0,...</td>\n",
       "      <td>21</td>\n",
       "      <td>0.0</td>\n",
       "      <td>MTM3MzE0LTU0NTA3MDkxX2ZhY2Vib29rIHBvc3RfMTc0ODM</td>\n",
       "      <td>0.019067</td>\n",
       "      <td>O5noQ6w-CzJ9vn65NRe6nE-xhf8kQw0VfV3KIISpuwTore...</td>\n",
       "      <td>2017-11-16 04:30:11</td>\n",
       "      <td>facebook post</td>\n",
       "      <td>[{'url': 'http://cntrvlr.co/YZRN1wU', 'path': ...</td>\n",
       "      <td>link</td>\n",
       "      <td>facebook</td>\n",
       "    </tr>\n",
       "    <tr>\n",
       "      <th>20</th>\n",
       "      <td>Architectural_Digest</td>\n",
       "      <td>{'reactions': {'wow_count': 135, 'sad_count': ...</td>\n",
       "      <td>2014</td>\n",
       "      <td>0.0</td>\n",
       "      <td>MTM3MzAwLTU0NTA3MDkzX2ZhY2Vib29rIHBvc3RfMTc0ODM</td>\n",
       "      <td>2.346556</td>\n",
       "      <td>Hh5FgGt7myUPqApPXDE9H0-xhf8kQw0VfV3KIISpuwTore...</td>\n",
       "      <td>2017-11-16 04:30:00</td>\n",
       "      <td>facebook post</td>\n",
       "      <td>[{'url': 'https://www.facebook.com/britandco/v...</td>\n",
       "      <td>video</td>\n",
       "      <td>facebook</td>\n",
       "    </tr>\n",
       "    <tr>\n",
       "      <th>27</th>\n",
       "      <td>Self</td>\n",
       "      <td>{'reactions': {'wow_count': 0, 'sad_count': 0,...</td>\n",
       "      <td>153</td>\n",
       "      <td>0.0</td>\n",
       "      <td>MTM3MzIxLTU0NTA3MDc0X2ZhY2Vib29rIHBvc3RfMTc0ODM</td>\n",
       "      <td>0.241024</td>\n",
       "      <td>PBcIdGeG6p_K6bWVMEMPAU-xhf8kQw0VfV3KIISpuwTore...</td>\n",
       "      <td>2017-11-16 04:15:09</td>\n",
       "      <td>facebook post</td>\n",
       "      <td>[{'url': 'https://www.facebook.com/SelfMagazin...</td>\n",
       "      <td>photo</td>\n",
       "      <td>facebook</td>\n",
       "    </tr>\n",
       "    <tr>\n",
       "      <th>30</th>\n",
       "      <td>Allure</td>\n",
       "      <td>{'reactions': {'wow_count': 1, 'sad_count': 4,...</td>\n",
       "      <td>292</td>\n",
       "      <td>0.0</td>\n",
       "      <td>MTM3Mjk5LTU0NTA3MDU1X2ZhY2Vib29rIHBvc3RfMTc0ODM</td>\n",
       "      <td>0.352066</td>\n",
       "      <td>wsJFGtygi4yb2Ig35kAWok-xhf8kQw0VfV3KIISpuwTore...</td>\n",
       "      <td>2017-11-16 04:06:00</td>\n",
       "      <td>facebook post</td>\n",
       "      <td>[{'url': 'https://www.facebook.com/AllureBeaut...</td>\n",
       "      <td>video</td>\n",
       "      <td>facebook</td>\n",
       "    </tr>\n",
       "    <tr>\n",
       "      <th>36</th>\n",
       "      <td>Self</td>\n",
       "      <td>{'reactions': {'wow_count': 0, 'sad_count': 0,...</td>\n",
       "      <td>31</td>\n",
       "      <td>0.0</td>\n",
       "      <td>MTM3MzIxLTU0NTA3MDc4X2ZhY2Vib29rIHBvc3RfMTc0ODM</td>\n",
       "      <td>0.051775</td>\n",
       "      <td>-UmsyRyISQwv0mYV6H9pJ0-xhf8kQw0VfV3KIISpuwTore...</td>\n",
       "      <td>2017-11-16 04:00:45</td>\n",
       "      <td>facebook post</td>\n",
       "      <td>[{'url': 'http://onself.co/PiWStd8', 'path': '...</td>\n",
       "      <td>link</td>\n",
       "      <td>facebook</td>\n",
       "    </tr>\n",
       "    <tr>\n",
       "      <th>37</th>\n",
       "      <td>Vogue</td>\n",
       "      <td>{'reactions': {'wow_count': 0, 'sad_count': 0,...</td>\n",
       "      <td>111</td>\n",
       "      <td>0.0</td>\n",
       "      <td>MTM3MzI2LTU0NTA3MDU3X2ZhY2Vib29rIHBvc3RfMTc0ODM</td>\n",
       "      <td>0.113403</td>\n",
       "      <td>7ohc8Vu5svJNRyY09atHPE-xhf8kQw0VfV3KIISpuwTore...</td>\n",
       "      <td>2017-11-16 04:00:32</td>\n",
       "      <td>facebook post</td>\n",
       "      <td>[{'url': 'http://vogue.cm/DmL3fj9', 'path': '/...</td>\n",
       "      <td>link</td>\n",
       "      <td>facebook</td>\n",
       "    </tr>\n",
       "    <tr>\n",
       "      <th>38</th>\n",
       "      <td>W_Magazine</td>\n",
       "      <td>{'reactions': {'wow_count': 0, 'sad_count': 0,...</td>\n",
       "      <td>10</td>\n",
       "      <td>0.0</td>\n",
       "      <td>MTM3MzI5LTU0NTA3MDYxX2ZhY2Vib29rIHBvc3RfMTc0ODM</td>\n",
       "      <td>0.030641</td>\n",
       "      <td>38Kelt8l_LytVgwjR_jgf0-xhf8kQw0VfV3KIISpuwTore...</td>\n",
       "      <td>2017-11-16 04:00:28</td>\n",
       "      <td>facebook post</td>\n",
       "      <td>[{'url': 'http://wmag.cm/wtLvAPm', 'path': '/w...</td>\n",
       "      <td>photo</td>\n",
       "      <td>facebook</td>\n",
       "    </tr>\n",
       "    <tr>\n",
       "      <th>39</th>\n",
       "      <td>Glamor</td>\n",
       "      <td>{'reactions': {'wow_count': 0, 'sad_count': 0,...</td>\n",
       "      <td>47</td>\n",
       "      <td>0.0</td>\n",
       "      <td>MTM3MzE2LTU0NTA3MDY4X2ZhY2Vib29rIHBvc3RfMTc0ODM</td>\n",
       "      <td>0.028083</td>\n",
       "      <td>3212FqLOF-9Wlq71WpfWyE-xhf8kQw0VfV3KIISpuwTore...</td>\n",
       "      <td>2017-11-16 04:00:25</td>\n",
       "      <td>facebook post</td>\n",
       "      <td>[{'url': 'http://glmr.co/gXt0ref', 'path': '/g...</td>\n",
       "      <td>link</td>\n",
       "      <td>facebook</td>\n",
       "    </tr>\n",
       "    <tr>\n",
       "      <th>40</th>\n",
       "      <td>Architectural_Digest</td>\n",
       "      <td>{'reactions': {'wow_count': 12, 'sad_count': 0...</td>\n",
       "      <td>234</td>\n",
       "      <td>0.0</td>\n",
       "      <td>MTM3MzAwLTU0NTA3MDcyX2ZhY2Vib29rIHBvc3RfMTc0ODM</td>\n",
       "      <td>0.273059</td>\n",
       "      <td>KDCxTnZj8A-JruS_ecjTyE-xhf8kQw0VfV3KIISpuwTore...</td>\n",
       "      <td>2017-11-16 04:00:24</td>\n",
       "      <td>facebook post</td>\n",
       "      <td>[{'url': 'http://archdg.co/Nc33NQY', 'path': '...</td>\n",
       "      <td>link</td>\n",
       "      <td>facebook</td>\n",
       "    </tr>\n",
       "    <tr>\n",
       "      <th>41</th>\n",
       "      <td>Conde_Naste_Traveler</td>\n",
       "      <td>{'reactions': {'wow_count': 0, 'sad_count': 0,...</td>\n",
       "      <td>13</td>\n",
       "      <td>0.0</td>\n",
       "      <td>MTM3MzE0LTU0NTA3MDUxX2ZhY2Vib29rIHBvc3RfMTc0ODM</td>\n",
       "      <td>0.012393</td>\n",
       "      <td>ok1gWi74lWBO8K-acACtOE-xhf8kQw0VfV3KIISpuwTore...</td>\n",
       "      <td>2017-11-16 04:00:22</td>\n",
       "      <td>facebook post</td>\n",
       "      <td>[{'url': 'https://www.curbed.com/2017/11/8/166...</td>\n",
       "      <td>link</td>\n",
       "      <td>facebook</td>\n",
       "    </tr>\n",
       "    <tr>\n",
       "      <th>45</th>\n",
       "      <td>Teen_Vogue</td>\n",
       "      <td>{'reactions': {'wow_count': 0, 'sad_count': 0,...</td>\n",
       "      <td>16</td>\n",
       "      <td>0.0</td>\n",
       "      <td>MTM3MzIyLTU0NTA3MDc1X2ZhY2Vib29rIHBvc3RfMTc0ODM</td>\n",
       "      <td>0.008185</td>\n",
       "      <td>x3HisF-t10B9UovG4rWCJk-xhf8kQw0VfV3KIISpuwTore...</td>\n",
       "      <td>2017-11-16 03:55:05</td>\n",
       "      <td>facebook post</td>\n",
       "      <td>[{'url': 'http://tnvge.co/6o8Ho7r', 'path': '/...</td>\n",
       "      <td>link</td>\n",
       "      <td>facebook</td>\n",
       "    </tr>\n",
       "    <tr>\n",
       "      <th>53</th>\n",
       "      <td>Self</td>\n",
       "      <td>{'reactions': {'wow_count': 0, 'sad_count': 2,...</td>\n",
       "      <td>1811</td>\n",
       "      <td>0.0</td>\n",
       "      <td>MTM3MzIxLTU0NTA3MDY1X2ZhY2Vib29rIHBvc3RfMTc0ODM</td>\n",
       "      <td>2.851175</td>\n",
       "      <td>bxJmIuOxJqnqnm1Lfm8P5U-xhf8kQw0VfV3KIISpuwTore...</td>\n",
       "      <td>2017-11-16 03:45:01</td>\n",
       "      <td>facebook post</td>\n",
       "      <td>[{'url': 'https://www.facebook.com/SelfMagazin...</td>\n",
       "      <td>video</td>\n",
       "      <td>facebook</td>\n",
       "    </tr>\n",
       "    <tr>\n",
       "      <th>55</th>\n",
       "      <td>Architectural_Digest</td>\n",
       "      <td>{'reactions': {'wow_count': 98, 'sad_count': 0...</td>\n",
       "      <td>796</td>\n",
       "      <td>0.0</td>\n",
       "      <td>MTM3MzAwLTU0NTA3MDcxX2ZhY2Vib29rIHBvc3RfMTc0ODM</td>\n",
       "      <td>0.929357</td>\n",
       "      <td>wP9QOzACUWwmRkDBLEGD0E-xhf8kQw0VfV3KIISpuwTore...</td>\n",
       "      <td>2017-11-16 03:42:09</td>\n",
       "      <td>facebook post</td>\n",
       "      <td>[{'url': 'http://archdg.co/Z870PeM', 'path': '...</td>\n",
       "      <td>link</td>\n",
       "      <td>facebook</td>\n",
       "    </tr>\n",
       "    <tr>\n",
       "      <th>58</th>\n",
       "      <td>Allure</td>\n",
       "      <td>{'reactions': {'wow_count': 1, 'sad_count': 0,...</td>\n",
       "      <td>33</td>\n",
       "      <td>0.0</td>\n",
       "      <td>MTM3Mjk5LTU0NTA3MDY3X2ZhY2Vib29rIHBvc3RfMTc0ODM</td>\n",
       "      <td>0.042633</td>\n",
       "      <td>QPdYWIIKZI7W9UO3BY8PuE-xhf8kQw0VfV3KIISpuwTore...</td>\n",
       "      <td>2017-11-16 03:34:02</td>\n",
       "      <td>facebook post</td>\n",
       "      <td>[{'url': 'http://in.allure.com/k2hoXbE', 'path...</td>\n",
       "      <td>link</td>\n",
       "      <td>facebook</td>\n",
       "    </tr>\n",
       "    <tr>\n",
       "      <th>59</th>\n",
       "      <td>Glamor</td>\n",
       "      <td>{'reactions': {'wow_count': 0, 'sad_count': 0,...</td>\n",
       "      <td>17</td>\n",
       "      <td>0.0</td>\n",
       "      <td>MTM3MzE2LTU0NTA3MDc2X2ZhY2Vib29rIHBvc3RfMTc0ODM</td>\n",
       "      <td>0.008775</td>\n",
       "      <td>5mgPb8IkjP2PY7VgjCJve0-xhf8kQw0VfV3KIISpuwTore...</td>\n",
       "      <td>2017-11-16 03:31:00</td>\n",
       "      <td>facebook post</td>\n",
       "      <td>[{'url': 'http://glmr.co/UCspHCm', 'path': '/U...</td>\n",
       "      <td>link</td>\n",
       "      <td>facebook</td>\n",
       "    </tr>\n",
       "    <tr>\n",
       "      <th>60</th>\n",
       "      <td>W_Magazine</td>\n",
       "      <td>{'reactions': {'wow_count': 0, 'sad_count': 0,...</td>\n",
       "      <td>24</td>\n",
       "      <td>0.0</td>\n",
       "      <td>MTM3MzI5LTU0NTA3MDY5X2ZhY2Vib29rIHBvc3RfMTc0ODM</td>\n",
       "      <td>0.056291</td>\n",
       "      <td>VUC2WdLEOPTN8qzC9BV-F0-xhf8kQw0VfV3KIISpuwTore...</td>\n",
       "      <td>2017-11-16 03:30:24</td>\n",
       "      <td>facebook post</td>\n",
       "      <td>[{'url': 'http://wmag.cm/AV59aB6', 'path': '/A...</td>\n",
       "      <td>link</td>\n",
       "      <td>facebook</td>\n",
       "    </tr>\n",
       "    <tr>\n",
       "      <th>61</th>\n",
       "      <td>Vanity_Fair</td>\n",
       "      <td>{'reactions': {'wow_count': 80, 'sad_count': 5...</td>\n",
       "      <td>404</td>\n",
       "      <td>0.0</td>\n",
       "      <td>MTM3MzI1LTU0NTA3MDYyX2ZhY2Vib29rIHBvc3RfMTc0ODM</td>\n",
       "      <td>0.410215</td>\n",
       "      <td>qLR5MttQAcjbrRQ4VX0Tvk-xhf8kQw0VfV3KIISpuwTore...</td>\n",
       "      <td>2017-11-16 03:30:23</td>\n",
       "      <td>facebook post</td>\n",
       "      <td>[{'url': 'http://vntyfr.com/5zc7TBv', 'path': ...</td>\n",
       "      <td>link</td>\n",
       "      <td>facebook</td>\n",
       "    </tr>\n",
       "  </tbody>\n",
       "</table>\n",
       "</div>"
      ],
      "text/plain": [
       "                   brand                                            content  \\\n",
       "0                 Glamor  {'reactions': {'wow_count': 0, 'sad_count': 0,...   \n",
       "6             Teen_Vogue  {'reactions': {'wow_count': 1, 'sad_count': 4,...   \n",
       "8            Vanity_Fair  {'reactions': {'wow_count': 0, 'sad_count': 0,...   \n",
       "12            Teen_Vogue  {'reactions': {'wow_count': 0, 'sad_count': 0,...   \n",
       "13            W_Magazine  {'reactions': {'wow_count': 0, 'sad_count': 0,...   \n",
       "15                Glamor  {'reactions': {'wow_count': 1, 'sad_count': 0,...   \n",
       "16                 Vogue  {'reactions': {'wow_count': 0, 'sad_count': 0,...   \n",
       "17                  Self  {'reactions': {'wow_count': 0, 'sad_count': 0,...   \n",
       "18  Conde_Naste_Traveler  {'reactions': {'wow_count': 0, 'sad_count': 0,...   \n",
       "20  Architectural_Digest  {'reactions': {'wow_count': 135, 'sad_count': ...   \n",
       "27                  Self  {'reactions': {'wow_count': 0, 'sad_count': 0,...   \n",
       "30                Allure  {'reactions': {'wow_count': 1, 'sad_count': 4,...   \n",
       "36                  Self  {'reactions': {'wow_count': 0, 'sad_count': 0,...   \n",
       "37                 Vogue  {'reactions': {'wow_count': 0, 'sad_count': 0,...   \n",
       "38            W_Magazine  {'reactions': {'wow_count': 0, 'sad_count': 0,...   \n",
       "39                Glamor  {'reactions': {'wow_count': 0, 'sad_count': 0,...   \n",
       "40  Architectural_Digest  {'reactions': {'wow_count': 12, 'sad_count': 0...   \n",
       "41  Conde_Naste_Traveler  {'reactions': {'wow_count': 0, 'sad_count': 0,...   \n",
       "45            Teen_Vogue  {'reactions': {'wow_count': 0, 'sad_count': 0,...   \n",
       "53                  Self  {'reactions': {'wow_count': 0, 'sad_count': 2,...   \n",
       "55  Architectural_Digest  {'reactions': {'wow_count': 98, 'sad_count': 0...   \n",
       "58                Allure  {'reactions': {'wow_count': 1, 'sad_count': 0,...   \n",
       "59                Glamor  {'reactions': {'wow_count': 0, 'sad_count': 0,...   \n",
       "60            W_Magazine  {'reactions': {'wow_count': 0, 'sad_count': 0,...   \n",
       "61           Vanity_Fair  {'reactions': {'wow_count': 80, 'sad_count': 5...   \n",
       "\n",
       "    engagement  has_spend                                               id  \\\n",
       "0            9        0.0  MTM3MzE2LTU0NTA4NDg5X2ZhY2Vib29rIHBvc3RfMTc0ODM   \n",
       "6          628        0.0  MTM3MzIyLTU0NTA4NDYwX2ZhY2Vib29rIHBvc3RfMTc0ODM   \n",
       "8           33        0.0  MTM3MzI1LTU0NTA4NDI5X2ZhY2Vib29rIHBvc3RfMTc0ODM   \n",
       "12          62        0.0  MTM3MzIyLTU0NTA4NDM3X2ZhY2Vib29rIHBvc3RfMTc0ODM   \n",
       "13          46        0.0  MTM3MzI5LTU0NTA4NDkxX2ZhY2Vib29rIHBvc3RfMTc0ODM   \n",
       "15          58        0.0  MTM3MzE2LTU0NTA4NDI1X2ZhY2Vib29rIHBvc3RfMTc0ODM   \n",
       "16          54        0.0  MTM3MzI2LTU0NTA4NDkwX2ZhY2Vib29rIHBvc3RfMTc0ODM   \n",
       "17          22        0.0  MTM3MzIxLTU0NTA4NDY5X2ZhY2Vib29rIHBvc3RfMTc0ODM   \n",
       "18          21        0.0  MTM3MzE0LTU0NTA3MDkxX2ZhY2Vib29rIHBvc3RfMTc0ODM   \n",
       "20        2014        0.0  MTM3MzAwLTU0NTA3MDkzX2ZhY2Vib29rIHBvc3RfMTc0ODM   \n",
       "27         153        0.0  MTM3MzIxLTU0NTA3MDc0X2ZhY2Vib29rIHBvc3RfMTc0ODM   \n",
       "30         292        0.0  MTM3Mjk5LTU0NTA3MDU1X2ZhY2Vib29rIHBvc3RfMTc0ODM   \n",
       "36          31        0.0  MTM3MzIxLTU0NTA3MDc4X2ZhY2Vib29rIHBvc3RfMTc0ODM   \n",
       "37         111        0.0  MTM3MzI2LTU0NTA3MDU3X2ZhY2Vib29rIHBvc3RfMTc0ODM   \n",
       "38          10        0.0  MTM3MzI5LTU0NTA3MDYxX2ZhY2Vib29rIHBvc3RfMTc0ODM   \n",
       "39          47        0.0  MTM3MzE2LTU0NTA3MDY4X2ZhY2Vib29rIHBvc3RfMTc0ODM   \n",
       "40         234        0.0  MTM3MzAwLTU0NTA3MDcyX2ZhY2Vib29rIHBvc3RfMTc0ODM   \n",
       "41          13        0.0  MTM3MzE0LTU0NTA3MDUxX2ZhY2Vib29rIHBvc3RfMTc0ODM   \n",
       "45          16        0.0  MTM3MzIyLTU0NTA3MDc1X2ZhY2Vib29rIHBvc3RfMTc0ODM   \n",
       "53        1811        0.0  MTM3MzIxLTU0NTA3MDY1X2ZhY2Vib29rIHBvc3RfMTc0ODM   \n",
       "55         796        0.0  MTM3MzAwLTU0NTA3MDcxX2ZhY2Vib29rIHBvc3RfMTc0ODM   \n",
       "58          33        0.0  MTM3Mjk5LTU0NTA3MDY3X2ZhY2Vib29rIHBvc3RfMTc0ODM   \n",
       "59          17        0.0  MTM3MzE2LTU0NTA3MDc2X2ZhY2Vib29rIHBvc3RfMTc0ODM   \n",
       "60          24        0.0  MTM3MzI5LTU0NTA3MDY5X2ZhY2Vib29rIHBvc3RfMTc0ODM   \n",
       "61         404        0.0  MTM3MzI1LTU0NTA3MDYyX2ZhY2Vib29rIHBvc3RfMTc0ODM   \n",
       "\n",
       "      impact                                        share_token  \\\n",
       "0   0.005619  FRI3zHcgR410PLLtjinjwU-xhf8kQw0VfV3KIISpuwTore...   \n",
       "6   0.395325  IzB7KwBdHjLpx_v3cdFXNU-xhf8kQw0VfV3KIISpuwTore...   \n",
       "8   0.028596  9VB8_ABmpcmn8m9u1knu_U-xhf8kQw0VfV3KIISpuwTore...   \n",
       "12  0.040210  rkTmh8C9usX7gB9mrRns7k-xhf8kQw0VfV3KIISpuwTore...   \n",
       "13  0.107406  SdBYglyQBQA4wbPwIFC1HE-xhf8kQw0VfV3KIISpuwTore...   \n",
       "15  0.030003  xfe84TkNhvO4o7icVTMknU-xhf8kQw0VfV3KIISpuwTore...   \n",
       "16  0.055183  GWNGeXKfukJSo1OK_DKFPE-xhf8kQw0VfV3KIISpuwTore...   \n",
       "17  0.037493  Celtk0dD9AHTnL9b0L6NGU-xhf8kQw0VfV3KIISpuwTore...   \n",
       "18  0.019067  O5noQ6w-CzJ9vn65NRe6nE-xhf8kQw0VfV3KIISpuwTore...   \n",
       "20  2.346556  Hh5FgGt7myUPqApPXDE9H0-xhf8kQw0VfV3KIISpuwTore...   \n",
       "27  0.241024  PBcIdGeG6p_K6bWVMEMPAU-xhf8kQw0VfV3KIISpuwTore...   \n",
       "30  0.352066  wsJFGtygi4yb2Ig35kAWok-xhf8kQw0VfV3KIISpuwTore...   \n",
       "36  0.051775  -UmsyRyISQwv0mYV6H9pJ0-xhf8kQw0VfV3KIISpuwTore...   \n",
       "37  0.113403  7ohc8Vu5svJNRyY09atHPE-xhf8kQw0VfV3KIISpuwTore...   \n",
       "38  0.030641  38Kelt8l_LytVgwjR_jgf0-xhf8kQw0VfV3KIISpuwTore...   \n",
       "39  0.028083  3212FqLOF-9Wlq71WpfWyE-xhf8kQw0VfV3KIISpuwTore...   \n",
       "40  0.273059  KDCxTnZj8A-JruS_ecjTyE-xhf8kQw0VfV3KIISpuwTore...   \n",
       "41  0.012393  ok1gWi74lWBO8K-acACtOE-xhf8kQw0VfV3KIISpuwTore...   \n",
       "45  0.008185  x3HisF-t10B9UovG4rWCJk-xhf8kQw0VfV3KIISpuwTore...   \n",
       "53  2.851175  bxJmIuOxJqnqnm1Lfm8P5U-xhf8kQw0VfV3KIISpuwTore...   \n",
       "55  0.929357  wP9QOzACUWwmRkDBLEGD0E-xhf8kQw0VfV3KIISpuwTore...   \n",
       "58  0.042633  QPdYWIIKZI7W9UO3BY8PuE-xhf8kQw0VfV3KIISpuwTore...   \n",
       "59  0.008775  5mgPb8IkjP2PY7VgjCJve0-xhf8kQw0VfV3KIISpuwTore...   \n",
       "60  0.056291  VUC2WdLEOPTN8qzC9BV-F0-xhf8kQw0VfV3KIISpuwTore...   \n",
       "61  0.410215  qLR5MttQAcjbrRQ4VX0Tvk-xhf8kQw0VfV3KIISpuwTore...   \n",
       "\n",
       "             timestamp           type  \\\n",
       "0  2017-11-16 04:59:09  facebook post   \n",
       "6  2017-11-16 04:45:59  facebook post   \n",
       "8  2017-11-16 04:39:12  facebook post   \n",
       "12 2017-11-16 04:35:04  facebook post   \n",
       "13 2017-11-16 04:32:48  facebook post   \n",
       "15 2017-11-16 04:31:06  facebook post   \n",
       "16 2017-11-16 04:30:42  facebook post   \n",
       "17 2017-11-16 04:30:19  facebook post   \n",
       "18 2017-11-16 04:30:11  facebook post   \n",
       "20 2017-11-16 04:30:00  facebook post   \n",
       "27 2017-11-16 04:15:09  facebook post   \n",
       "30 2017-11-16 04:06:00  facebook post   \n",
       "36 2017-11-16 04:00:45  facebook post   \n",
       "37 2017-11-16 04:00:32  facebook post   \n",
       "38 2017-11-16 04:00:28  facebook post   \n",
       "39 2017-11-16 04:00:25  facebook post   \n",
       "40 2017-11-16 04:00:24  facebook post   \n",
       "41 2017-11-16 04:00:22  facebook post   \n",
       "45 2017-11-16 03:55:05  facebook post   \n",
       "53 2017-11-16 03:45:01  facebook post   \n",
       "55 2017-11-16 03:42:09  facebook post   \n",
       "58 2017-11-16 03:34:02  facebook post   \n",
       "59 2017-11-16 03:31:00  facebook post   \n",
       "60 2017-11-16 03:30:24  facebook post   \n",
       "61 2017-11-16 03:30:23  facebook post   \n",
       "\n",
       "                                                 urls channel_type   channel  \n",
       "0   [{'url': 'http://glmr.co/jg9jPXX', 'path': '/j...         link  facebook  \n",
       "6   [{'url': 'https://www.facebook.com/teenvogue/p...        photo  facebook  \n",
       "8   [{'url': 'http://vntyfr.com/l67xkTh', 'path': ...         link  facebook  \n",
       "12  [{'url': 'http://tnvge.co/8To5KBW', 'path': '/...         link  facebook  \n",
       "13  [{'url': 'http://wmag.cm/iF1pOXN', 'path': '/i...         link  facebook  \n",
       "15  [{'url': 'http://glmr.co/woZJzmr', 'path': '/w...         link  facebook  \n",
       "16  [{'url': 'https://www.facebook.com/Vogue/video...        video  facebook  \n",
       "17  [{'url': 'http://onself.co/VOiQQOA', 'path': '...         link  facebook  \n",
       "18  [{'url': 'http://cntrvlr.co/YZRN1wU', 'path': ...         link  facebook  \n",
       "20  [{'url': 'https://www.facebook.com/britandco/v...        video  facebook  \n",
       "27  [{'url': 'https://www.facebook.com/SelfMagazin...        photo  facebook  \n",
       "30  [{'url': 'https://www.facebook.com/AllureBeaut...        video  facebook  \n",
       "36  [{'url': 'http://onself.co/PiWStd8', 'path': '...         link  facebook  \n",
       "37  [{'url': 'http://vogue.cm/DmL3fj9', 'path': '/...         link  facebook  \n",
       "38  [{'url': 'http://wmag.cm/wtLvAPm', 'path': '/w...        photo  facebook  \n",
       "39  [{'url': 'http://glmr.co/gXt0ref', 'path': '/g...         link  facebook  \n",
       "40  [{'url': 'http://archdg.co/Nc33NQY', 'path': '...         link  facebook  \n",
       "41  [{'url': 'https://www.curbed.com/2017/11/8/166...         link  facebook  \n",
       "45  [{'url': 'http://tnvge.co/6o8Ho7r', 'path': '/...         link  facebook  \n",
       "53  [{'url': 'https://www.facebook.com/SelfMagazin...        video  facebook  \n",
       "55  [{'url': 'http://archdg.co/Z870PeM', 'path': '...         link  facebook  \n",
       "58  [{'url': 'http://in.allure.com/k2hoXbE', 'path...         link  facebook  \n",
       "59  [{'url': 'http://glmr.co/UCspHCm', 'path': '/U...         link  facebook  \n",
       "60  [{'url': 'http://wmag.cm/AV59aB6', 'path': '/A...         link  facebook  \n",
       "61  [{'url': 'http://vntyfr.com/5zc7TBv', 'path': ...         link  facebook  "
      ]
     },
     "execution_count": 12,
     "metadata": {},
     "output_type": "execute_result"
    }
   ],
   "source": [
    "FB_and_IG_data.head(25)"
   ]
  },
  {
   "cell_type": "code",
   "execution_count": 13,
   "metadata": {
    "ExecuteTime": {
     "end_time": "2017-12-12T16:28:49.373157Z",
     "start_time": "2017-12-12T16:28:49.179909Z"
    },
    "run_control": {
     "marked": false
    }
   },
   "outputs": [],
   "source": [
    "instagram = FB_and_IG_data.loc[FB_and_IG_data['type'].isin(['instagram pic', 'instagram vid'])]"
   ]
  },
  {
   "cell_type": "code",
   "execution_count": 14,
   "metadata": {
    "ExecuteTime": {
     "end_time": "2017-12-12T16:28:49.487031Z",
     "start_time": "2017-12-12T16:28:49.376993Z"
    }
   },
   "outputs": [],
   "source": [
    "facebook = FB_and_IG_data.loc[FB_and_IG_data['type'].isin(['facebook post'])]"
   ]
  },
  {
   "cell_type": "code",
   "execution_count": 15,
   "metadata": {
    "ExecuteTime": {
     "end_time": "2017-12-12T16:28:49.582098Z",
     "start_time": "2017-12-12T16:28:49.490307Z"
    }
   },
   "outputs": [],
   "source": [
    "instagram = instagram.reset_index(drop=True)\n",
    "facebook = facebook.reset_index(drop=True)"
   ]
  },
  {
   "cell_type": "markdown",
   "metadata": {},
   "source": [
    "## Getting data from the content column"
   ]
  },
  {
   "cell_type": "code",
   "execution_count": 16,
   "metadata": {
    "ExecuteTime": {
     "end_time": "2017-12-12T16:28:49.590295Z",
     "start_time": "2017-12-12T16:28:49.585787Z"
    }
   },
   "outputs": [],
   "source": [
    "instacontent = instagram['content']"
   ]
  },
  {
   "cell_type": "code",
   "execution_count": 17,
   "metadata": {
    "ExecuteTime": {
     "end_time": "2017-12-12T16:28:50.154911Z",
     "start_time": "2017-12-12T16:28:49.593649Z"
    }
   },
   "outputs": [
    {
     "data": {
      "text/plain": [
       "17526"
      ]
     },
     "execution_count": 17,
     "metadata": {},
     "output_type": "execute_result"
    }
   ],
   "source": [
    "sum([instacontent[i].keys() == instacontent[0].keys() for i in range(len(instacontent))])\n",
    "#Seeing how many image entries we have."
   ]
  },
  {
   "cell_type": "code",
   "execution_count": 18,
   "metadata": {
    "ExecuteTime": {
     "end_time": "2017-12-12T16:28:50.727211Z",
     "start_time": "2017-12-12T16:28:50.157163Z"
    }
   },
   "outputs": [
    {
     "data": {
      "text/plain": [
       "2664"
      ]
     },
     "execution_count": 18,
     "metadata": {},
     "output_type": "execute_result"
    }
   ],
   "source": [
    "sum([instacontent[i].keys() != instacontent[0].keys() for i in range(len(instacontent))])\n",
    "#Seeing how many video entries we have."
   ]
  },
  {
   "cell_type": "markdown",
   "metadata": {},
   "source": [
    "## Creating Consolidated Instagram Dataframe (IGData)"
   ]
  },
  {
   "cell_type": "code",
   "execution_count": 19,
   "metadata": {
    "ExecuteTime": {
     "end_time": "2017-12-12T16:28:50.794414Z",
     "start_time": "2017-12-12T16:28:50.729337Z"
    }
   },
   "outputs": [],
   "source": [
    "IGData = FB_and_IG_data[FB_and_IG_data['channel'] == 'instagram']"
   ]
  },
  {
   "cell_type": "code",
   "execution_count": 20,
   "metadata": {
    "ExecuteTime": {
     "end_time": "2017-12-12T16:29:05.925033Z",
     "start_time": "2017-12-12T16:28:50.796909Z"
    }
   },
   "outputs": [
    {
     "name": "stderr",
     "output_type": "stream",
     "text": [
      "/Users/skiparay/miniconda3/lib/python3.6/site-packages/ipykernel_launcher.py:1: SettingWithCopyWarning: \n",
      "A value is trying to be set on a copy of a slice from a DataFrame.\n",
      "Try using .loc[row_indexer,col_indexer] = value instead\n",
      "\n",
      "See the caveats in the documentation: http://pandas.pydata.org/pandas-docs/stable/indexing.html#indexing-view-versus-copy\n",
      "  \"\"\"Entry point for launching an IPython kernel.\n",
      "/Users/skiparay/miniconda3/lib/python3.6/site-packages/ipykernel_launcher.py:2: SettingWithCopyWarning: \n",
      "A value is trying to be set on a copy of a slice from a DataFrame.\n",
      "Try using .loc[row_indexer,col_indexer] = value instead\n",
      "\n",
      "See the caveats in the documentation: http://pandas.pydata.org/pandas-docs/stable/indexing.html#indexing-view-versus-copy\n",
      "  \n",
      "/Users/skiparay/miniconda3/lib/python3.6/site-packages/ipykernel_launcher.py:3: SettingWithCopyWarning: \n",
      "A value is trying to be set on a copy of a slice from a DataFrame.\n",
      "Try using .loc[row_indexer,col_indexer] = value instead\n",
      "\n",
      "See the caveats in the documentation: http://pandas.pydata.org/pandas-docs/stable/indexing.html#indexing-view-versus-copy\n",
      "  This is separate from the ipykernel package so we can avoid doing imports until\n",
      "/Users/skiparay/miniconda3/lib/python3.6/site-packages/ipykernel_launcher.py:4: SettingWithCopyWarning: \n",
      "A value is trying to be set on a copy of a slice from a DataFrame.\n",
      "Try using .loc[row_indexer,col_indexer] = value instead\n",
      "\n",
      "See the caveats in the documentation: http://pandas.pydata.org/pandas-docs/stable/indexing.html#indexing-view-versus-copy\n",
      "  after removing the cwd from sys.path.\n",
      "/Users/skiparay/miniconda3/lib/python3.6/site-packages/ipykernel_launcher.py:5: SettingWithCopyWarning: \n",
      "A value is trying to be set on a copy of a slice from a DataFrame.\n",
      "Try using .loc[row_indexer,col_indexer] = value instead\n",
      "\n",
      "See the caveats in the documentation: http://pandas.pydata.org/pandas-docs/stable/indexing.html#indexing-view-versus-copy\n",
      "  \"\"\"\n",
      "/Users/skiparay/miniconda3/lib/python3.6/site-packages/ipykernel_launcher.py:6: SettingWithCopyWarning: \n",
      "A value is trying to be set on a copy of a slice from a DataFrame.\n",
      "Try using .loc[row_indexer,col_indexer] = value instead\n",
      "\n",
      "See the caveats in the documentation: http://pandas.pydata.org/pandas-docs/stable/indexing.html#indexing-view-versus-copy\n",
      "  \n",
      "/Users/skiparay/miniconda3/lib/python3.6/site-packages/ipykernel_launcher.py:7: SettingWithCopyWarning: \n",
      "A value is trying to be set on a copy of a slice from a DataFrame.\n",
      "Try using .loc[row_indexer,col_indexer] = value instead\n",
      "\n",
      "See the caveats in the documentation: http://pandas.pydata.org/pandas-docs/stable/indexing.html#indexing-view-versus-copy\n",
      "  import sys\n",
      "/Users/skiparay/miniconda3/lib/python3.6/site-packages/ipykernel_launcher.py:8: SettingWithCopyWarning: \n",
      "A value is trying to be set on a copy of a slice from a DataFrame.\n",
      "Try using .loc[row_indexer,col_indexer] = value instead\n",
      "\n",
      "See the caveats in the documentation: http://pandas.pydata.org/pandas-docs/stable/indexing.html#indexing-view-versus-copy\n",
      "  \n",
      "/Users/skiparay/miniconda3/lib/python3.6/site-packages/ipykernel_launcher.py:9: SettingWithCopyWarning: \n",
      "A value is trying to be set on a copy of a slice from a DataFrame.\n",
      "Try using .loc[row_indexer,col_indexer] = value instead\n",
      "\n",
      "See the caveats in the documentation: http://pandas.pydata.org/pandas-docs/stable/indexing.html#indexing-view-versus-copy\n",
      "  if __name__ == '__main__':\n"
     ]
    }
   ],
   "source": [
    "IGData['caption'] = [x['caption'] for x in instagram['content']]\n",
    "IGData['comment_count'] = [x['comment_count'] for x in instagram['content']]\n",
    "IGData['filter_name'] = [x['filter_name'] for x in instagram['content']]\n",
    "IGData['hashtags'] = [x['hashtags'] for x in instagram['content']]\n",
    "IGData['image_url'] = [x['image_url'] for x in instagram['content']]\n",
    "IGData['like_count'] = [x['like_count'] for x in instagram['content']]\n",
    "IGData['link'] = [x['link'] for x in instagram['content']]\n",
    "IGData['links'] = [x['links'] for x in instagram['content']]\n",
    "IGData['post_id'] = [x['post_id'] for x in instagram['content']]"
   ]
  },
  {
   "cell_type": "code",
   "execution_count": 21,
   "metadata": {
    "ExecuteTime": {
     "end_time": "2017-12-12T16:29:07.626920Z",
     "start_time": "2017-12-12T16:29:05.929092Z"
    }
   },
   "outputs": [
    {
     "name": "stderr",
     "output_type": "stream",
     "text": [
      "/Users/skiparay/miniconda3/lib/python3.6/site-packages/ipykernel_launcher.py:1: SettingWithCopyWarning: \n",
      "A value is trying to be set on a copy of a slice from a DataFrame\n",
      "\n",
      "See the caveats in the documentation: http://pandas.pydata.org/pandas-docs/stable/indexing.html#indexing-view-versus-copy\n",
      "  \"\"\"Entry point for launching an IPython kernel.\n"
     ]
    }
   ],
   "source": [
    "IGData.drop('content', axis=1, inplace=True)"
   ]
  },
  {
   "cell_type": "code",
   "execution_count": 22,
   "metadata": {
    "ExecuteTime": {
     "end_time": "2017-12-12T16:29:07.651720Z",
     "start_time": "2017-12-12T16:29:07.631542Z"
    }
   },
   "outputs": [],
   "source": [
    "IGData = IGData[['brand', 'timestamp', 'channel_type', 'like_count', 'impact', 'engagement', 'comment_count', 'caption', 'hashtags', 'image_url', 'link', 'post_id', 'share_token']]"
   ]
  },
  {
   "cell_type": "code",
   "execution_count": 23,
   "metadata": {
    "ExecuteTime": {
     "end_time": "2017-12-12T16:29:07.677145Z",
     "start_time": "2017-12-12T16:29:07.656170Z"
    }
   },
   "outputs": [],
   "source": [
    "IGData = IGData.reset_index(drop = True)"
   ]
  },
  {
   "cell_type": "markdown",
   "metadata": {},
   "source": [
    "## Splitting Instagram data into seperate image and video frames"
   ]
  },
  {
   "cell_type": "code",
   "execution_count": 24,
   "metadata": {
    "ExecuteTime": {
     "end_time": "2017-12-12T16:29:07.712257Z",
     "start_time": "2017-12-12T16:29:07.680085Z"
    }
   },
   "outputs": [],
   "source": [
    "instapics = instagram.loc[(instagram['type'] == 'instagram pic')]\n",
    "instapics = instapics.reset_index(drop=True)"
   ]
  },
  {
   "cell_type": "code",
   "execution_count": 25,
   "metadata": {
    "ExecuteTime": {
     "end_time": "2017-12-12T16:29:07.733241Z",
     "start_time": "2017-12-12T16:29:07.715702Z"
    }
   },
   "outputs": [],
   "source": [
    "instavids = instagram.loc[(instagram['type'] == 'instagram vid')]\n",
    "instavids = instavids.reset_index(drop=True)"
   ]
  },
  {
   "cell_type": "code",
   "execution_count": 26,
   "metadata": {
    "ExecuteTime": {
     "end_time": "2017-12-12T16:29:07.741797Z",
     "start_time": "2017-12-12T16:29:07.736843Z"
    }
   },
   "outputs": [],
   "source": [
    "instapicscontent = instapics['content']"
   ]
  },
  {
   "cell_type": "code",
   "execution_count": 27,
   "metadata": {
    "ExecuteTime": {
     "end_time": "2017-12-12T16:29:07.750390Z",
     "start_time": "2017-12-12T16:29:07.744521Z"
    }
   },
   "outputs": [],
   "source": [
    "picframe = pd.DataFrame.from_dict(instapicscontent)"
   ]
  },
  {
   "cell_type": "code",
   "execution_count": 28,
   "metadata": {
    "ExecuteTime": {
     "end_time": "2017-12-12T16:29:07.758628Z",
     "start_time": "2017-12-12T16:29:07.753534Z"
    }
   },
   "outputs": [],
   "source": [
    "instavidscontent = instavids['content']"
   ]
  },
  {
   "cell_type": "code",
   "execution_count": 29,
   "metadata": {
    "ExecuteTime": {
     "end_time": "2017-12-12T16:29:07.765797Z",
     "start_time": "2017-12-12T16:29:07.760918Z"
    }
   },
   "outputs": [],
   "source": [
    "vidframe = pd.DataFrame.from_dict(instavidscontent)"
   ]
  },
  {
   "cell_type": "code",
   "execution_count": 30,
   "metadata": {
    "ExecuteTime": {
     "end_time": "2017-12-12T16:29:07.924542Z",
     "start_time": "2017-12-12T16:29:07.768215Z"
    }
   },
   "outputs": [],
   "source": [
    "picframe['caption']  = [x['caption'] for x in instapics['content']]\n",
    "picframe['comment_count']  = [x['comment_count'] for x in instapics['content']]\n",
    "picframe['filter_name'] = [x['filter_name'] for x in instapics['content']]\n",
    "picframe['hashtags'] = [x['hashtags'] for x in instapics['content']]\n",
    "picframe['image_url'] = [x['image_url'] for x in instapics['content']]\n",
    "picframe['like_count'] = [x['like_count'] for x in instapics['content']]\n",
    "picframe['link'] = [x['link'] for x in instapics['content']]\n",
    "picframe['links'] = [x['links'] for x in instapics['content']]\n",
    "picframe['post_id'] = [x['post_id'] for x in instapics['content']]"
   ]
  },
  {
   "cell_type": "code",
   "execution_count": 31,
   "metadata": {
    "ExecuteTime": {
     "end_time": "2017-12-12T16:29:07.982812Z",
     "start_time": "2017-12-12T16:29:07.927632Z"
    }
   },
   "outputs": [],
   "source": [
    "picframe.drop(['content'], axis = 1, inplace = True)\n",
    "picframe = picframe.reset_index(drop=True)"
   ]
  },
  {
   "cell_type": "code",
   "execution_count": 32,
   "metadata": {
    "ExecuteTime": {
     "end_time": "2017-12-12T16:29:08.036472Z",
     "start_time": "2017-12-12T16:29:07.986555Z"
    }
   },
   "outputs": [],
   "source": [
    "vidframe['caption'] = [x['caption'] for x in instavids['content']]\n",
    "vidframe['comment_count'] = [x['comment_count'] for x in instavids['content']]\n",
    "vidframe['filter_name'] = [x['filter_name'] for x in instavids['content']]\n",
    "vidframe['hashtags'] = [x['hashtags'] for x in instavids['content']]\n",
    "vidframe['image_url'] = [x['image_url'] for x in instavids['content']]\n",
    "vidframe['like_count'] = [x['like_count'] for x in instavids['content']]\n",
    "vidframe['link'] = [x['link'] for x in instavids['content']]\n",
    "vidframe['links'] = [x['links'] for x in instavids['content']]\n",
    "vidframe['post_id'] = [x['post_id'] for x in instavids['content']]\n",
    "vidframe['video_url'] = [x['video_url'] for x in instavids['content']]"
   ]
  },
  {
   "cell_type": "code",
   "execution_count": 33,
   "metadata": {
    "ExecuteTime": {
     "end_time": "2017-12-12T16:29:08.051730Z",
     "start_time": "2017-12-12T16:29:08.039806Z"
    }
   },
   "outputs": [],
   "source": [
    "vidframe.drop(['content'], axis = 1, inplace = True)\n",
    "vidframe.reset_index(drop=True, inplace = True)"
   ]
  },
  {
   "cell_type": "markdown",
   "metadata": {},
   "source": [
    "## Merge Topic Content and Original Dataframes together (IGPics and IGVids)"
   ]
  },
  {
   "cell_type": "code",
   "execution_count": 34,
   "metadata": {
    "ExecuteTime": {
     "end_time": "2017-12-12T16:29:08.077712Z",
     "start_time": "2017-12-12T16:29:08.057567Z"
    }
   },
   "outputs": [],
   "source": [
    "IGPics = IGData[IGData['channel_type'] == 'photo']\n",
    "IGPics.reset_index(drop=True, inplace=True)"
   ]
  },
  {
   "cell_type": "code",
   "execution_count": 35,
   "metadata": {
    "ExecuteTime": {
     "end_time": "2017-12-12T16:29:19.616987Z",
     "start_time": "2017-12-12T16:29:08.080643Z"
    }
   },
   "outputs": [
    {
     "name": "stderr",
     "output_type": "stream",
     "text": [
      "/Users/skiparay/miniconda3/lib/python3.6/site-packages/ipykernel_launcher.py:1: SettingWithCopyWarning: \n",
      "A value is trying to be set on a copy of a slice from a DataFrame.\n",
      "Try using .loc[row_indexer,col_indexer] = value instead\n",
      "\n",
      "See the caveats in the documentation: http://pandas.pydata.org/pandas-docs/stable/indexing.html#indexing-view-versus-copy\n",
      "  \"\"\"Entry point for launching an IPython kernel.\n",
      "/Users/skiparay/miniconda3/lib/python3.6/site-packages/ipykernel_launcher.py:2: SettingWithCopyWarning: \n",
      "A value is trying to be set on a copy of a slice from a DataFrame.\n",
      "Try using .loc[row_indexer,col_indexer] = value instead\n",
      "\n",
      "See the caveats in the documentation: http://pandas.pydata.org/pandas-docs/stable/indexing.html#indexing-view-versus-copy\n",
      "  \n",
      "/Users/skiparay/miniconda3/lib/python3.6/site-packages/ipykernel_launcher.py:3: SettingWithCopyWarning: \n",
      "A value is trying to be set on a copy of a slice from a DataFrame.\n",
      "Try using .loc[row_indexer,col_indexer] = value instead\n",
      "\n",
      "See the caveats in the documentation: http://pandas.pydata.org/pandas-docs/stable/indexing.html#indexing-view-versus-copy\n",
      "  This is separate from the ipykernel package so we can avoid doing imports until\n",
      "/Users/skiparay/miniconda3/lib/python3.6/site-packages/ipykernel_launcher.py:4: SettingWithCopyWarning: \n",
      "A value is trying to be set on a copy of a slice from a DataFrame.\n",
      "Try using .loc[row_indexer,col_indexer] = value instead\n",
      "\n",
      "See the caveats in the documentation: http://pandas.pydata.org/pandas-docs/stable/indexing.html#indexing-view-versus-copy\n",
      "  after removing the cwd from sys.path.\n",
      "/Users/skiparay/miniconda3/lib/python3.6/site-packages/ipykernel_launcher.py:5: SettingWithCopyWarning: \n",
      "A value is trying to be set on a copy of a slice from a DataFrame.\n",
      "Try using .loc[row_indexer,col_indexer] = value instead\n",
      "\n",
      "See the caveats in the documentation: http://pandas.pydata.org/pandas-docs/stable/indexing.html#indexing-view-versus-copy\n",
      "  \"\"\"\n",
      "/Users/skiparay/miniconda3/lib/python3.6/site-packages/ipykernel_launcher.py:6: SettingWithCopyWarning: \n",
      "A value is trying to be set on a copy of a slice from a DataFrame.\n",
      "Try using .loc[row_indexer,col_indexer] = value instead\n",
      "\n",
      "See the caveats in the documentation: http://pandas.pydata.org/pandas-docs/stable/indexing.html#indexing-view-versus-copy\n",
      "  \n",
      "/Users/skiparay/miniconda3/lib/python3.6/site-packages/ipykernel_launcher.py:7: SettingWithCopyWarning: \n",
      "A value is trying to be set on a copy of a slice from a DataFrame.\n",
      "Try using .loc[row_indexer,col_indexer] = value instead\n",
      "\n",
      "See the caveats in the documentation: http://pandas.pydata.org/pandas-docs/stable/indexing.html#indexing-view-versus-copy\n",
      "  import sys\n"
     ]
    }
   ],
   "source": [
    "IGPics['Caption'] = picframe['caption']\n",
    "IGPics['Comment_Count'] = picframe['comment_count']\n",
    "IGPics['Hashtags'] = picframe['hashtags']\n",
    "IGPics['Image_URL'] = picframe['image_url']\n",
    "IGPics['Like_Count'] = picframe['like_count']\n",
    "IGPics['Post_Link'] = picframe['link']\n",
    "IGPics['PostID'] = picframe['post_id']"
   ]
  },
  {
   "cell_type": "code",
   "execution_count": 36,
   "metadata": {
    "ExecuteTime": {
     "end_time": "2017-12-12T16:29:31.156475Z",
     "start_time": "2017-12-12T16:29:19.620690Z"
    }
   },
   "outputs": [
    {
     "name": "stderr",
     "output_type": "stream",
     "text": [
      "/Users/skiparay/miniconda3/lib/python3.6/site-packages/ipykernel_launcher.py:1: SettingWithCopyWarning: \n",
      "A value is trying to be set on a copy of a slice from a DataFrame.\n",
      "Try using .loc[row_indexer,col_indexer] = value instead\n",
      "\n",
      "See the caveats in the documentation: http://pandas.pydata.org/pandas-docs/stable/indexing.html#indexing-view-versus-copy\n",
      "  \"\"\"Entry point for launching an IPython kernel.\n",
      "/Users/skiparay/miniconda3/lib/python3.6/site-packages/ipykernel_launcher.py:2: SettingWithCopyWarning: \n",
      "A value is trying to be set on a copy of a slice from a DataFrame.\n",
      "Try using .loc[row_indexer,col_indexer] = value instead\n",
      "\n",
      "See the caveats in the documentation: http://pandas.pydata.org/pandas-docs/stable/indexing.html#indexing-view-versus-copy\n",
      "  \n",
      "/Users/skiparay/miniconda3/lib/python3.6/site-packages/ipykernel_launcher.py:3: SettingWithCopyWarning: \n",
      "A value is trying to be set on a copy of a slice from a DataFrame.\n",
      "Try using .loc[row_indexer,col_indexer] = value instead\n",
      "\n",
      "See the caveats in the documentation: http://pandas.pydata.org/pandas-docs/stable/indexing.html#indexing-view-versus-copy\n",
      "  This is separate from the ipykernel package so we can avoid doing imports until\n",
      "/Users/skiparay/miniconda3/lib/python3.6/site-packages/ipykernel_launcher.py:4: SettingWithCopyWarning: \n",
      "A value is trying to be set on a copy of a slice from a DataFrame.\n",
      "Try using .loc[row_indexer,col_indexer] = value instead\n",
      "\n",
      "See the caveats in the documentation: http://pandas.pydata.org/pandas-docs/stable/indexing.html#indexing-view-versus-copy\n",
      "  after removing the cwd from sys.path.\n",
      "/Users/skiparay/miniconda3/lib/python3.6/site-packages/ipykernel_launcher.py:5: SettingWithCopyWarning: \n",
      "A value is trying to be set on a copy of a slice from a DataFrame.\n",
      "Try using .loc[row_indexer,col_indexer] = value instead\n",
      "\n",
      "See the caveats in the documentation: http://pandas.pydata.org/pandas-docs/stable/indexing.html#indexing-view-versus-copy\n",
      "  \"\"\"\n",
      "/Users/skiparay/miniconda3/lib/python3.6/site-packages/ipykernel_launcher.py:6: SettingWithCopyWarning: \n",
      "A value is trying to be set on a copy of a slice from a DataFrame.\n",
      "Try using .loc[row_indexer,col_indexer] = value instead\n",
      "\n",
      "See the caveats in the documentation: http://pandas.pydata.org/pandas-docs/stable/indexing.html#indexing-view-versus-copy\n",
      "  \n",
      "/Users/skiparay/miniconda3/lib/python3.6/site-packages/ipykernel_launcher.py:7: SettingWithCopyWarning: \n",
      "A value is trying to be set on a copy of a slice from a DataFrame.\n",
      "Try using .loc[row_indexer,col_indexer] = value instead\n",
      "\n",
      "See the caveats in the documentation: http://pandas.pydata.org/pandas-docs/stable/indexing.html#indexing-view-versus-copy\n",
      "  import sys\n"
     ]
    }
   ],
   "source": [
    "IGPics['Caption'] = picframe['caption']\n",
    "IGPics['Comment_Count'] = picframe['comment_count']\n",
    "IGPics['Hashtags'] = picframe['hashtags']\n",
    "IGPics['Image_URL'] = picframe['image_url']\n",
    "IGPics['Like_Count'] = picframe['like_count']\n",
    "IGPics['Post_Link'] = picframe['link']\n",
    "IGPics['PostID'] = picframe['post_id']"
   ]
  },
  {
   "cell_type": "code",
   "execution_count": 37,
   "metadata": {
    "ExecuteTime": {
     "end_time": "2017-12-12T16:29:31.241967Z",
     "start_time": "2017-12-12T16:29:31.159902Z"
    }
   },
   "outputs": [],
   "source": [
    "IGData = FB_and_IG_data[FB_and_IG_data['channel'] == 'instagram']\n",
    "IGVids = IGData[IGData['channel_type'] == 'video']\n",
    "IGData.reset_index(drop=True, inplace=True)"
   ]
  },
  {
   "cell_type": "code",
   "execution_count": 38,
   "metadata": {
    "ExecuteTime": {
     "end_time": "2017-12-12T16:29:31.279211Z",
     "start_time": "2017-12-12T16:29:31.244683Z"
    }
   },
   "outputs": [],
   "source": [
    "IGPics = IGPics[['brand', 'timestamp', 'Like_Count', 'impact', 'engagement', 'Comment_Count', 'Caption', 'Hashtags', 'Image_URL', 'Post_Link', 'PostID', 'share_token']]"
   ]
  },
  {
   "cell_type": "code",
   "execution_count": 39,
   "metadata": {
    "ExecuteTime": {
     "end_time": "2017-12-12T16:29:42.719141Z",
     "start_time": "2017-12-12T16:29:31.282121Z"
    }
   },
   "outputs": [
    {
     "name": "stderr",
     "output_type": "stream",
     "text": [
      "/Users/skiparay/miniconda3/lib/python3.6/site-packages/ipykernel_launcher.py:1: SettingWithCopyWarning: \n",
      "A value is trying to be set on a copy of a slice from a DataFrame.\n",
      "Try using .loc[row_indexer,col_indexer] = value instead\n",
      "\n",
      "See the caveats in the documentation: http://pandas.pydata.org/pandas-docs/stable/indexing.html#indexing-view-versus-copy\n",
      "  \"\"\"Entry point for launching an IPython kernel.\n",
      "/Users/skiparay/miniconda3/lib/python3.6/site-packages/ipykernel_launcher.py:2: SettingWithCopyWarning: \n",
      "A value is trying to be set on a copy of a slice from a DataFrame.\n",
      "Try using .loc[row_indexer,col_indexer] = value instead\n",
      "\n",
      "See the caveats in the documentation: http://pandas.pydata.org/pandas-docs/stable/indexing.html#indexing-view-versus-copy\n",
      "  \n",
      "/Users/skiparay/miniconda3/lib/python3.6/site-packages/ipykernel_launcher.py:3: SettingWithCopyWarning: \n",
      "A value is trying to be set on a copy of a slice from a DataFrame.\n",
      "Try using .loc[row_indexer,col_indexer] = value instead\n",
      "\n",
      "See the caveats in the documentation: http://pandas.pydata.org/pandas-docs/stable/indexing.html#indexing-view-versus-copy\n",
      "  This is separate from the ipykernel package so we can avoid doing imports until\n",
      "/Users/skiparay/miniconda3/lib/python3.6/site-packages/ipykernel_launcher.py:4: SettingWithCopyWarning: \n",
      "A value is trying to be set on a copy of a slice from a DataFrame.\n",
      "Try using .loc[row_indexer,col_indexer] = value instead\n",
      "\n",
      "See the caveats in the documentation: http://pandas.pydata.org/pandas-docs/stable/indexing.html#indexing-view-versus-copy\n",
      "  after removing the cwd from sys.path.\n",
      "/Users/skiparay/miniconda3/lib/python3.6/site-packages/ipykernel_launcher.py:5: SettingWithCopyWarning: \n",
      "A value is trying to be set on a copy of a slice from a DataFrame.\n",
      "Try using .loc[row_indexer,col_indexer] = value instead\n",
      "\n",
      "See the caveats in the documentation: http://pandas.pydata.org/pandas-docs/stable/indexing.html#indexing-view-versus-copy\n",
      "  \"\"\"\n",
      "/Users/skiparay/miniconda3/lib/python3.6/site-packages/ipykernel_launcher.py:6: SettingWithCopyWarning: \n",
      "A value is trying to be set on a copy of a slice from a DataFrame.\n",
      "Try using .loc[row_indexer,col_indexer] = value instead\n",
      "\n",
      "See the caveats in the documentation: http://pandas.pydata.org/pandas-docs/stable/indexing.html#indexing-view-versus-copy\n",
      "  \n",
      "/Users/skiparay/miniconda3/lib/python3.6/site-packages/ipykernel_launcher.py:7: SettingWithCopyWarning: \n",
      "A value is trying to be set on a copy of a slice from a DataFrame.\n",
      "Try using .loc[row_indexer,col_indexer] = value instead\n",
      "\n",
      "See the caveats in the documentation: http://pandas.pydata.org/pandas-docs/stable/indexing.html#indexing-view-versus-copy\n",
      "  import sys\n"
     ]
    }
   ],
   "source": [
    "IGVids['Caption'] = vidframe['caption']\n",
    "IGVids['Comment_Count'] = vidframe['comment_count']\n",
    "IGVids['Hashtags'] = vidframe['hashtags']\n",
    "IGVids['Like_Count'] = vidframe['like_count']\n",
    "IGVids['Post_Link'] = vidframe['link']\n",
    "IGVids['PostID'] = vidframe['post_id']\n",
    "IGVids['Video_URL'] = vidframe['video_url']\n",
    "IGVids.reset_index(drop=True, inplace=True)"
   ]
  },
  {
   "cell_type": "code",
   "execution_count": 40,
   "metadata": {
    "ExecuteTime": {
     "end_time": "2017-12-12T16:29:42.734977Z",
     "start_time": "2017-12-12T16:29:42.723788Z"
    }
   },
   "outputs": [],
   "source": [
    "IGVids = IGVids[['brand', 'timestamp', 'Like_Count', 'impact', 'engagement', 'Comment_Count', 'Caption', 'Hashtags', 'Video_URL', 'Post_Link', 'PostID', 'share_token']]"
   ]
  },
  {
   "cell_type": "markdown",
   "metadata": {
    "heading_collapsed": true
   },
   "source": [
    "# Top 25 Most and Least Impactful Posts"
   ]
  },
  {
   "cell_type": "code",
   "execution_count": 41,
   "metadata": {
    "ExecuteTime": {
     "end_time": "2017-12-12T16:29:42.766403Z",
     "start_time": "2017-12-12T16:29:42.738453Z"
    },
    "hidden": true
   },
   "outputs": [],
   "source": [
    "InstaTop25 = IGData.sort_values('impact', ascending=False)\n",
    "InstaBot25 = IGData.sort_values('impact', ascending=True)"
   ]
  },
  {
   "cell_type": "code",
   "execution_count": 42,
   "metadata": {
    "ExecuteTime": {
     "end_time": "2017-12-12T16:29:42.788364Z",
     "start_time": "2017-12-12T16:29:42.769027Z"
    },
    "hidden": true
   },
   "outputs": [],
   "source": [
    "InstaTop25 = InstaTop25.head(25)\n",
    "InstaTop25 = InstaTop25.reset_index(drop=True)\n",
    "InstaBot25 = InstaBot25.sort_values('impact', ascending=False).head(25)\n",
    "InstaBot25 = InstaBot25.reset_index(drop=True)"
   ]
  },
  {
   "cell_type": "markdown",
   "metadata": {},
   "source": [
    "# Visualizations"
   ]
  },
  {
   "cell_type": "markdown",
   "metadata": {},
   "source": [
    "## Instagram Data"
   ]
  },
  {
   "cell_type": "code",
   "execution_count": 65,
   "metadata": {
    "ExecuteTime": {
     "end_time": "2017-12-12T16:54:08.202764Z",
     "start_time": "2017-12-12T16:54:07.841623Z"
    },
    "scrolled": false
   },
   "outputs": [
    {
     "data": {
      "image/png": "[encoded data removed]",
      "text/plain": [
       "<matplotlib.figure.Figure at 0x265c8a438>"
      ]
     },
     "metadata": {},
     "output_type": "display_data"
    }
   ],
   "source": [
    "i = sns.countplot(x=IGPics['brand'], data=IGPics, order=['Allure','Architectural_Digest', 'Conde_Naste_Traveler', 'Glamor', 'Self', 'Teen_Vogue', 'Vanity_Fair', 'Vogue', 'W_Magazine'])\n",
    "_ = plt.xticks(rotation = 55)\n",
    "_ = plt.ylabel('Frequency')\n",
    "_ = i.set_xticklabels(('Allure', 'Architectural Digest','Conde Nast Traveler', 'Glamour', 'Self', 'Teen Vogue', 'Vanity Fair', 'Vogue', 'W Magazine'))\n",
    "# _ = plt.title('Brand Frequency Amongst Instagram Pictures')"
   ]
  },
  {
   "cell_type": "code",
   "execution_count": 66,
   "metadata": {
    "ExecuteTime": {
     "end_time": "2017-12-12T16:54:51.288900Z",
     "start_time": "2017-12-12T16:54:50.925724Z"
    }
   },
   "outputs": [
    {
     "data": {
      "image/png": "[encoded data removed]",
      "text/plain": [
       "<matplotlib.figure.Figure at 0x266d0e470>"
      ]
     },
     "metadata": {},
     "output_type": "display_data"
    }
   ],
   "source": [
    "k = sns.barplot(x = IGPics['brand'], y = IGPics['Like_Count'],order=['Allure','Architectural_Digest', 'Conde_Naste_Traveler', 'Glamor', 'Self', 'Teen_Vogue', 'Vanity_Fair', 'Vogue', 'W_Magazine'], ci = None)\n",
    "# _ = plt.xlabel('Brand')\n",
    "_ = plt.xticks(rotation = 55)\n",
    "_ = k.set_xticklabels(('Allure', 'Architectural Digest','Conde Nast Traveler', 'Glamour', 'Self', 'Teen Vogue', 'Vanity Fair', 'Vogue', 'W Magazine'))\n",
    "_ = plt.ylabel('Engagement')\n",
    "# _ = plt.title('Mean Brand Engagement Amongst Instagram Pictures')\n",
    "_ = plt.show()"
   ]
  },
  {
   "cell_type": "code",
   "execution_count": 67,
   "metadata": {
    "ExecuteTime": {
     "end_time": "2017-12-12T16:55:44.087843Z",
     "start_time": "2017-12-12T16:55:43.728566Z"
    }
   },
   "outputs": [
    {
     "data": {
      "image/png": "[encoded data removed]",
      "text/plain": [
       "<matplotlib.figure.Figure at 0x266ca6f28>"
      ]
     },
     "metadata": {},
     "output_type": "display_data"
    }
   ],
   "source": [
    "l = sns.countplot(x=IGVids['brand'], data=IGVids, order=['Allure','Architectural_Digest', 'Conde_Naste_Traveler', 'Glamor', 'Self', 'Teen_Vogue', 'Vanity_Fair', 'Vogue', 'W_Magazine'])\n",
    "_ = plt.xticks(rotation = 55)\n",
    "_ = l.set_xticklabels(('Allure', 'Architectural Digest','Conde Nast Traveler', 'Glamour', 'Self', 'Teen Vogue', 'Vanity Fair', 'Vogue', 'W Magazine'))\n",
    "_ = plt.ylabel('Frequency')\n",
    "# _ = plt.xlabel('Brand')\n",
    "_ = plt.ylim(0,3000)\n",
    "# _ = plt.title('Brand Frequency Amongst Instagram Videos')"
   ]
  },
  {
   "cell_type": "code",
   "execution_count": 68,
   "metadata": {
    "ExecuteTime": {
     "end_time": "2017-12-12T16:56:04.570615Z",
     "start_time": "2017-12-12T16:56:04.195496Z"
    }
   },
   "outputs": [
    {
     "data": {
      "image/png": "[encoded data removed]",
      "text/plain": [
       "<matplotlib.figure.Figure at 0x266e72588>"
      ]
     },
     "metadata": {},
     "output_type": "display_data"
    }
   ],
   "source": [
    "n = sns.barplot(x = IGVids['brand'], y = IGPics['Like_Count'],order=['Allure','Architectural_Digest', 'Conde_Naste_Traveler', 'Glamor', 'Self', 'Teen_Vogue', 'Vanity_Fair', 'Vogue', 'W_Magazine'], ci = None)\n",
    "# _ = plt.xlabel('Brand')\n",
    "_ = plt.xticks(rotation = 55)\n",
    "_ = plt.ylabel('Engagement')\n",
    "_ = n.set_xticklabels(('Allure', 'Architectural Digest','Conde Nast Traveler', 'Glamour', 'Self', 'Teen Vogue', 'Vanity Fair', 'Vogue', 'W Magazine'))\n",
    "# _ = plt.title('Mean Brand Engagement Amongst Instagram Videos')\n",
    "_ = plt.ylim(0, 80000)\n",
    "_ = plt.show()"
   ]
  },
  {
   "cell_type": "markdown",
   "metadata": {},
   "source": [
    "# Data Export"
   ]
  },
  {
   "cell_type": "markdown",
   "metadata": {},
   "source": [
    "## Grabbing image/video urls for later analysis"
   ]
  },
  {
   "cell_type": "code",
   "execution_count": 49,
   "metadata": {
    "ExecuteTime": {
     "end_time": "2017-12-12T16:29:44.600038Z",
     "start_time": "2017-12-12T16:29:44.295651Z"
    }
   },
   "outputs": [],
   "source": [
    "imageurls = []\n",
    "\n",
    "for i in range(len(picframe['image_url'])):\n",
    "    imageurls.append(picframe['image_url'][i])"
   ]
  },
  {
   "cell_type": "code",
   "execution_count": 50,
   "metadata": {
    "ExecuteTime": {
     "end_time": "2017-12-12T16:29:44.655299Z",
     "start_time": "2017-12-12T16:29:44.602520Z"
    }
   },
   "outputs": [],
   "source": [
    "vidurls = []\n",
    "\n",
    "for i in range(len(vidframe['video_url'])):\n",
    "    vidurls.append(vidframe['video_url'][i])"
   ]
  },
  {
   "cell_type": "code",
   "execution_count": null,
   "metadata": {
    "ExecuteTime": {
     "start_time": "2017-12-11T23:37:34.261Z"
    },
    "run_control": {
     "marked": false
    }
   },
   "outputs": [],
   "source": [
    "# with open(\"./assets/InstaPicsImageURLS.csv\", \"a\") as ip:\n",
    "#     wi = csv.writer(ip, dialect='excel')\n",
    "#     wi.writerows([x.split(',') for x in imageurls])\n",
    "#     ip.close()    "
   ]
  },
  {
   "cell_type": "code",
   "execution_count": null,
   "metadata": {
    "ExecuteTime": {
     "start_time": "2017-12-11T23:37:34.281Z"
    },
    "run_control": {
     "marked": true
    }
   },
   "outputs": [],
   "source": [
    "# with open(\"./assets/InstaVidsVideoURLS.csv\", \"a\") as iv:\n",
    "#     wv = csv.writer(iv, dialect='excel')\n",
    "#     wv.writerows([x.split(',') for x in vidurls])\n",
    "#     iv.close"
   ]
  },
  {
   "cell_type": "markdown",
   "metadata": {},
   "source": [
    "# Modeling"
   ]
  },
  {
   "cell_type": "markdown",
   "metadata": {},
   "source": [
    "## CountVectorizer/TF_IDF"
   ]
  },
  {
   "cell_type": "code",
   "execution_count": 51,
   "metadata": {
    "ExecuteTime": {
     "end_time": "2017-12-12T16:29:44.779085Z",
     "start_time": "2017-12-12T16:29:44.658141Z"
    }
   },
   "outputs": [],
   "source": [
    "from sklearn.feature_extraction.text import CountVectorizer\n",
    "from sklearn.model_selection import train_test_split\n",
    "def doCountVectorizer(data, stream, col, target, stop_wds=1, ngram=(1,1), top=25):\n",
    "    \n",
    "    #%% Set up stop word set to add to it if desired\n",
    "    \n",
    "    stopwords = nltk.corpus.stopwords.words('english')\n",
    "    stopwords.append('asdf') # this removes the placeholder for empty posts\n",
    "    stopwords.append('link')\n",
    "    stopwords.append('click')\n",
    "    stopwords.append('http')\n",
    "    stopwords.append('nast')\n",
    "    stopwords.append('bio')\n",
    "    stopwords.append('tap')\n",
    "    stopwords.append('see')\n",
    "    stopwords.append('regram')\n",
    "    stopwords.append('like')\n",
    "    stopwords.append('com')\n",
    "    #%% Initialize count vectorizer\n",
    "    if stop_wds:\n",
    "        cvt = CountVectorizer(stop_words=stopwords, \n",
    "                              strip_accents=\"unicode\",\n",
    "                              ngram_range=ngram,\n",
    "                              lowercase=True,\n",
    "                              max_df=0.95,\n",
    "                              max_features=5000)\n",
    "    else:\n",
    "        cvt = CountVectorizer(strip_accents=\"unicode\",\n",
    "                              ngram_range=ngram,\n",
    "                              lowercase=True,\n",
    "                              max_df=0.95,\n",
    "                              max_features=5000)\n",
    "    \n",
    "    #%% Parse input DataFrame to only feature desired data\n",
    "    \n",
    "    # copy portion of DF, to prevent any unwanted edits to main DF\n",
    "    df = data[data['brand']==stream].copy()\n",
    "    \n",
    "    # fill any NAN / NA values with gibberish and add gibberish to stop_words\n",
    "    df[col].fillna('asdf', inplace=True)\n",
    "    \n",
    "    #%% Perform train/test split\n",
    "    \n",
    "    X_trn, X_tst, y_trn, y_tst = train_test_split(df[col],df[target],\n",
    "                                                  test_size=0.3, random_state=6)\n",
    "    \n",
    "    #%% Pass training data through vectorizer\n",
    "    \n",
    "    fit_data = cvt.fit_transform(X_trn)\n",
    "    \n",
    "    # store words and frequencies in arrays, then combine them and make a DF\n",
    "    allwords = cvt.get_feature_names()\n",
    "    allfreqs = fit_data.toarray().sum(axis=0)\n",
    "    \n",
    "    stream_array = [[allwords[idx], allfreqs[idx]] for idx in range(len(allwords))]\n",
    "    \n",
    "    streamDF = pd.DataFrame(data=stream_array)\n",
    "    streamDF.columns = ['phrase', 'frequency']\n",
    "    \n",
    "    #%% Return the input number of top phrases\n",
    "    \n",
    "    return streamDF.sort_values('frequency', ascending=False)[:top]"
   ]
  },
  {
   "cell_type": "code",
   "execution_count": 52,
   "metadata": {
    "ExecuteTime": {
     "end_time": "2017-12-12T16:29:44.900487Z",
     "start_time": "2017-12-12T16:29:44.782289Z"
    }
   },
   "outputs": [],
   "source": [
    "from sklearn.feature_extraction.text import TfidfVectorizer\n",
    "from sklearn.model_selection import train_test_split\n",
    "def doTF_IDFVectorizer(data, stream, col, target, stop_wds=1, ngram=(1,1), top=25):\n",
    "     \n",
    "    #%% Set up stop word set to add to it if desired\n",
    "    \n",
    "    stopwords = nltk.corpus.stopwords.words('english')\n",
    "    stopwords.append('asdf') # this removes the placeholder for empty posts\n",
    "    stopwords.append('link')\n",
    "    stopwords.append('click')\n",
    "    stopwords.append('http')\n",
    "    stopwords.append('nast')\n",
    "    stopwords.append('bio')\n",
    "    stopwords.append('tap')\n",
    "    stopwords.append('see')\n",
    "    stopwords.append('regram')\n",
    "    stopwords.append('like')\n",
    "    stopwords.append('com')\n",
    "    \n",
    "    #%% Initialize TF-IDF vectorizer\n",
    "    if stop_wds:\n",
    "        cvt = TfidfVectorizer(stop_words=stopwords, \n",
    "                              strip_accents=\"unicode\",\n",
    "                              ngram_range=ngram,\n",
    "                              lowercase=True,\n",
    "                              max_df=0.95,\n",
    "                              max_features=5000)\n",
    "    else:\n",
    "        cvt = TfidfVectorizer(strip_accents=\"unicode\",\n",
    "                              ngram_range=ngram,\n",
    "                              lowercase=True,\n",
    "                              max_df=0.95,\n",
    "                              max_features=5000)\n",
    "    \n",
    "    #%% Parse input DataFrame to only feature desired data\n",
    "    \n",
    "    # copy portion of DF, to prevent any unwanted edits to main DF\n",
    "    df = data[data['brand']==stream].copy()\n",
    "    \n",
    "    # fill any NAN / NA values with gibberish and add gibberish to stop_words\n",
    "    df[col].fillna('asdf', inplace=True)\n",
    "    \n",
    "    #%% Perform train/test split\n",
    "    \n",
    "    X_trn, X_tst, y_trn, y_tst = train_test_split(df[col],df[target],\n",
    "                                                  test_size=0.3, random_state=6)\n",
    "    \n",
    "    #%% Pass training data through vectorizer\n",
    "    \n",
    "    fit_data = cvt.fit_transform(X_trn)\n",
    "    \n",
    "    # store words and frequencies in arrays, then combine them and make a DF\n",
    "    allwords = cvt.get_feature_names()\n",
    "    allfreqs = fit_data.toarray().sum(axis=0)\n",
    "    \n",
    "    stream_array = [[allwords[idx], allfreqs[idx]] for idx in range(len(allwords))]\n",
    "    \n",
    "    streamDF = pd.DataFrame(data=stream_array)\n",
    "    streamDF.columns = ['phrase', 'frequency']\n",
    "    \n",
    "    #%% Return the input number of top phrases\n",
    "    \n",
    "    return streamDF.sort_values('frequency', ascending=False)[:top]"
   ]
  },
  {
   "cell_type": "markdown",
   "metadata": {},
   "source": [
    "## CountVect/TF-IDF on Captions for Vogue and Teen Vogue"
   ]
  },
  {
   "cell_type": "code",
   "execution_count": 59,
   "metadata": {
    "ExecuteTime": {
     "end_time": "2017-12-12T16:38:17.990961Z",
     "start_time": "2017-12-12T16:38:17.875858Z"
    }
   },
   "outputs": [
    {
     "data": {
      "text/html": [
       "<div>\n",
       "<style scoped>\n",
       "    .dataframe tbody tr th:only-of-type {\n",
       "        vertical-align: middle;\n",
       "    }\n",
       "\n",
       "    .dataframe tbody tr th {\n",
       "        vertical-align: top;\n",
       "    }\n",
       "\n",
       "    .dataframe thead th {\n",
       "        text-align: right;\n",
       "    }\n",
       "</style>\n",
       "<table border=\"1\" class=\"dataframe\">\n",
       "  <thead>\n",
       "    <tr style=\"text-align: right;\">\n",
       "      <th></th>\n",
       "      <th>phrase</th>\n",
       "      <th>frequency</th>\n",
       "    </tr>\n",
       "  </thead>\n",
       "  <tbody>\n",
       "    <tr>\n",
       "      <th>2566</th>\n",
       "      <td>photographed</td>\n",
       "      <td>700</td>\n",
       "    </tr>\n",
       "    <tr>\n",
       "      <th>4711</th>\n",
       "      <td>vogue</td>\n",
       "      <td>461</td>\n",
       "    </tr>\n",
       "    <tr>\n",
       "      <th>3996</th>\n",
       "      <td>styled</td>\n",
       "      <td>177</td>\n",
       "    </tr>\n",
       "    <tr>\n",
       "      <th>69</th>\n",
       "      <td>2017</td>\n",
       "      <td>173</td>\n",
       "    </tr>\n",
       "    <tr>\n",
       "      <th>1360</th>\n",
       "      <td>fashion</td>\n",
       "      <td>152</td>\n",
       "    </tr>\n",
       "  </tbody>\n",
       "</table>\n",
       "</div>"
      ],
      "text/plain": [
       "            phrase  frequency\n",
       "2566  photographed        700\n",
       "4711         vogue        461\n",
       "3996        styled        177\n",
       "69            2017        173\n",
       "1360       fashion        152"
      ]
     },
     "execution_count": 59,
     "metadata": {},
     "output_type": "execute_result"
    }
   ],
   "source": [
    "doCountVectorizer(data = IGPics, stream = 'Vogue', col='Caption', target='impact').head(5)"
   ]
  },
  {
   "cell_type": "code",
   "execution_count": 61,
   "metadata": {
    "ExecuteTime": {
     "end_time": "2017-12-12T16:38:32.155277Z",
     "start_time": "2017-12-12T16:38:32.041869Z"
    }
   },
   "outputs": [
    {
     "data": {
      "text/html": [
       "<div>\n",
       "<style scoped>\n",
       "    .dataframe tbody tr th:only-of-type {\n",
       "        vertical-align: middle;\n",
       "    }\n",
       "\n",
       "    .dataframe tbody tr th {\n",
       "        vertical-align: top;\n",
       "    }\n",
       "\n",
       "    .dataframe thead th {\n",
       "        text-align: right;\n",
       "    }\n",
       "</style>\n",
       "<table border=\"1\" class=\"dataframe\">\n",
       "  <thead>\n",
       "    <tr style=\"text-align: right;\">\n",
       "      <th></th>\n",
       "      <th>phrase</th>\n",
       "      <th>frequency</th>\n",
       "    </tr>\n",
       "  </thead>\n",
       "  <tbody>\n",
       "    <tr>\n",
       "      <th>2566</th>\n",
       "      <td>photographed</td>\n",
       "      <td>43.103256</td>\n",
       "    </tr>\n",
       "    <tr>\n",
       "      <th>4711</th>\n",
       "      <td>vogue</td>\n",
       "      <td>37.929237</td>\n",
       "    </tr>\n",
       "    <tr>\n",
       "      <th>3996</th>\n",
       "      <td>styled</td>\n",
       "      <td>22.377227</td>\n",
       "    </tr>\n",
       "    <tr>\n",
       "      <th>69</th>\n",
       "      <td>2017</td>\n",
       "      <td>20.696317</td>\n",
       "    </tr>\n",
       "    <tr>\n",
       "      <th>1360</th>\n",
       "      <td>fashion</td>\n",
       "      <td>17.976217</td>\n",
       "    </tr>\n",
       "  </tbody>\n",
       "</table>\n",
       "</div>"
      ],
      "text/plain": [
       "            phrase  frequency\n",
       "2566  photographed  43.103256\n",
       "4711         vogue  37.929237\n",
       "3996        styled  22.377227\n",
       "69            2017  20.696317\n",
       "1360       fashion  17.976217"
      ]
     },
     "execution_count": 61,
     "metadata": {},
     "output_type": "execute_result"
    }
   ],
   "source": [
    "doTF_IDFVectorizer(data = IGPics, stream = 'Vogue', col='Caption', target='impact').head(5)"
   ]
  },
  {
   "cell_type": "code",
   "execution_count": 62,
   "metadata": {
    "ExecuteTime": {
     "end_time": "2017-12-12T16:38:44.150323Z",
     "start_time": "2017-12-12T16:38:44.037537Z"
    }
   },
   "outputs": [
    {
     "data": {
      "text/html": [
       "<div>\n",
       "<style scoped>\n",
       "    .dataframe tbody tr th:only-of-type {\n",
       "        vertical-align: middle;\n",
       "    }\n",
       "\n",
       "    .dataframe tbody tr th {\n",
       "        vertical-align: top;\n",
       "    }\n",
       "\n",
       "    .dataframe thead th {\n",
       "        text-align: right;\n",
       "    }\n",
       "</style>\n",
       "<table border=\"1\" class=\"dataframe\">\n",
       "  <thead>\n",
       "    <tr style=\"text-align: right;\">\n",
       "      <th></th>\n",
       "      <th>phrase</th>\n",
       "      <th>frequency</th>\n",
       "    </tr>\n",
       "  </thead>\n",
       "  <tbody>\n",
       "    <tr>\n",
       "      <th>4263</th>\n",
       "      <td>teenvogue</td>\n",
       "      <td>145</td>\n",
       "    </tr>\n",
       "    <tr>\n",
       "      <th>1975</th>\n",
       "      <td>happy</td>\n",
       "      <td>143</td>\n",
       "    </tr>\n",
       "    <tr>\n",
       "      <th>4394</th>\n",
       "      <td>today</td>\n",
       "      <td>134</td>\n",
       "    </tr>\n",
       "    <tr>\n",
       "      <th>4638</th>\n",
       "      <td>us</td>\n",
       "      <td>130</td>\n",
       "    </tr>\n",
       "    <tr>\n",
       "      <th>2656</th>\n",
       "      <td>one</td>\n",
       "      <td>124</td>\n",
       "    </tr>\n",
       "  </tbody>\n",
       "</table>\n",
       "</div>"
      ],
      "text/plain": [
       "         phrase  frequency\n",
       "4263  teenvogue        145\n",
       "1975      happy        143\n",
       "4394      today        134\n",
       "4638         us        130\n",
       "2656        one        124"
      ]
     },
     "execution_count": 62,
     "metadata": {},
     "output_type": "execute_result"
    }
   ],
   "source": [
    "doCountVectorizer(data = IGPics, stream = 'Teen_Vogue', col='Caption', target='impact').head(5)"
   ]
  },
  {
   "cell_type": "code",
   "execution_count": 63,
   "metadata": {
    "ExecuteTime": {
     "end_time": "2017-12-12T16:38:56.552277Z",
     "start_time": "2017-12-12T16:38:56.437227Z"
    }
   },
   "outputs": [
    {
     "data": {
      "text/html": [
       "<div>\n",
       "<style scoped>\n",
       "    .dataframe tbody tr th:only-of-type {\n",
       "        vertical-align: middle;\n",
       "    }\n",
       "\n",
       "    .dataframe tbody tr th {\n",
       "        vertical-align: top;\n",
       "    }\n",
       "\n",
       "    .dataframe thead th {\n",
       "        text-align: right;\n",
       "    }\n",
       "</style>\n",
       "<table border=\"1\" class=\"dataframe\">\n",
       "  <thead>\n",
       "    <tr style=\"text-align: right;\">\n",
       "      <th></th>\n",
       "      <th>phrase</th>\n",
       "      <th>frequency</th>\n",
       "    </tr>\n",
       "  </thead>\n",
       "  <tbody>\n",
       "    <tr>\n",
       "      <th>1975</th>\n",
       "      <td>happy</td>\n",
       "      <td>40.563420</td>\n",
       "    </tr>\n",
       "    <tr>\n",
       "      <th>555</th>\n",
       "      <td>birthday</td>\n",
       "      <td>34.737974</td>\n",
       "    </tr>\n",
       "    <tr>\n",
       "      <th>4394</th>\n",
       "      <td>today</td>\n",
       "      <td>19.167238</td>\n",
       "    </tr>\n",
       "    <tr>\n",
       "      <th>2522</th>\n",
       "      <td>mondaymotivation</td>\n",
       "      <td>18.748971</td>\n",
       "    </tr>\n",
       "    <tr>\n",
       "      <th>4263</th>\n",
       "      <td>teenvogue</td>\n",
       "      <td>18.492005</td>\n",
       "    </tr>\n",
       "  </tbody>\n",
       "</table>\n",
       "</div>"
      ],
      "text/plain": [
       "                phrase  frequency\n",
       "1975             happy  40.563420\n",
       "555           birthday  34.737974\n",
       "4394             today  19.167238\n",
       "2522  mondaymotivation  18.748971\n",
       "4263         teenvogue  18.492005"
      ]
     },
     "execution_count": 63,
     "metadata": {},
     "output_type": "execute_result"
    }
   ],
   "source": [
    "doTF_IDFVectorizer(data = IGPics, stream = 'Teen_Vogue', col='Caption', target='impact').head(5)"
   ]
  },
  {
   "cell_type": "markdown",
   "metadata": {},
   "source": [
    "## CountVect/TF-IDF on Hashtags for Vogue and Teen Vogue"
   ]
  },
  {
   "cell_type": "code",
   "execution_count": 69,
   "metadata": {
    "ExecuteTime": {
     "end_time": "2017-12-12T16:58:30.276311Z",
     "start_time": "2017-12-12T16:58:30.253810Z"
    }
   },
   "outputs": [
    {
     "data": {
      "text/html": [
       "<div>\n",
       "<style scoped>\n",
       "    .dataframe tbody tr th:only-of-type {\n",
       "        vertical-align: middle;\n",
       "    }\n",
       "\n",
       "    .dataframe tbody tr th {\n",
       "        vertical-align: top;\n",
       "    }\n",
       "\n",
       "    .dataframe thead th {\n",
       "        text-align: right;\n",
       "    }\n",
       "</style>\n",
       "<table border=\"1\" class=\"dataframe\">\n",
       "  <thead>\n",
       "    <tr style=\"text-align: right;\">\n",
       "      <th></th>\n",
       "      <th>phrase</th>\n",
       "      <th>frequency</th>\n",
       "    </tr>\n",
       "  </thead>\n",
       "  <tbody>\n",
       "    <tr>\n",
       "      <th>134</th>\n",
       "      <td>vogue125</td>\n",
       "      <td>45</td>\n",
       "    </tr>\n",
       "    <tr>\n",
       "      <th>83</th>\n",
       "      <td>metgala</td>\n",
       "      <td>34</td>\n",
       "    </tr>\n",
       "    <tr>\n",
       "      <th>8</th>\n",
       "      <td>annieleibovitz</td>\n",
       "      <td>33</td>\n",
       "    </tr>\n",
       "    <tr>\n",
       "      <th>59</th>\n",
       "      <td>irvingpenn</td>\n",
       "      <td>26</td>\n",
       "    </tr>\n",
       "    <tr>\n",
       "      <th>96</th>\n",
       "      <td>nyfw</td>\n",
       "      <td>21</td>\n",
       "    </tr>\n",
       "  </tbody>\n",
       "</table>\n",
       "</div>"
      ],
      "text/plain": [
       "             phrase  frequency\n",
       "134        vogue125         45\n",
       "83          metgala         34\n",
       "8    annieleibovitz         33\n",
       "59       irvingpenn         26\n",
       "96             nyfw         21"
      ]
     },
     "execution_count": 69,
     "metadata": {},
     "output_type": "execute_result"
    }
   ],
   "source": [
    "doCountVectorizer(data = IGPics, stream = 'Vogue', col='Hashtags', target='impact').head(5)"
   ]
  },
  {
   "cell_type": "code",
   "execution_count": 70,
   "metadata": {
    "ExecuteTime": {
     "end_time": "2017-12-12T17:00:01.135896Z",
     "start_time": "2017-12-12T17:00:01.111584Z"
    }
   },
   "outputs": [
    {
     "data": {
      "text/html": [
       "<div>\n",
       "<style scoped>\n",
       "    .dataframe tbody tr th:only-of-type {\n",
       "        vertical-align: middle;\n",
       "    }\n",
       "\n",
       "    .dataframe tbody tr th {\n",
       "        vertical-align: top;\n",
       "    }\n",
       "\n",
       "    .dataframe thead th {\n",
       "        text-align: right;\n",
       "    }\n",
       "</style>\n",
       "<table border=\"1\" class=\"dataframe\">\n",
       "  <thead>\n",
       "    <tr style=\"text-align: right;\">\n",
       "      <th></th>\n",
       "      <th>phrase</th>\n",
       "      <th>frequency</th>\n",
       "    </tr>\n",
       "  </thead>\n",
       "  <tbody>\n",
       "    <tr>\n",
       "      <th>134</th>\n",
       "      <td>vogue125</td>\n",
       "      <td>31.652161</td>\n",
       "    </tr>\n",
       "    <tr>\n",
       "      <th>8</th>\n",
       "      <td>annieleibovitz</td>\n",
       "      <td>26.833843</td>\n",
       "    </tr>\n",
       "    <tr>\n",
       "      <th>59</th>\n",
       "      <td>irvingpenn</td>\n",
       "      <td>24.152031</td>\n",
       "    </tr>\n",
       "    <tr>\n",
       "      <th>83</th>\n",
       "      <td>metgala</td>\n",
       "      <td>22.720182</td>\n",
       "    </tr>\n",
       "    <tr>\n",
       "      <th>103</th>\n",
       "      <td>pfw</td>\n",
       "      <td>20.049104</td>\n",
       "    </tr>\n",
       "  </tbody>\n",
       "</table>\n",
       "</div>"
      ],
      "text/plain": [
       "             phrase  frequency\n",
       "134        vogue125  31.652161\n",
       "8    annieleibovitz  26.833843\n",
       "59       irvingpenn  24.152031\n",
       "83          metgala  22.720182\n",
       "103             pfw  20.049104"
      ]
     },
     "execution_count": 70,
     "metadata": {},
     "output_type": "execute_result"
    }
   ],
   "source": [
    "doTF_IDFVectorizer(data = IGPics, stream = 'Vogue', col='Hashtags', target='impact').head(5)"
   ]
  },
  {
   "cell_type": "code",
   "execution_count": 71,
   "metadata": {
    "ExecuteTime": {
     "end_time": "2017-12-12T17:01:52.028241Z",
     "start_time": "2017-12-12T17:01:52.000433Z"
    }
   },
   "outputs": [
    {
     "data": {
      "text/html": [
       "<div>\n",
       "<style scoped>\n",
       "    .dataframe tbody tr th:only-of-type {\n",
       "        vertical-align: middle;\n",
       "    }\n",
       "\n",
       "    .dataframe tbody tr th {\n",
       "        vertical-align: top;\n",
       "    }\n",
       "\n",
       "    .dataframe thead th {\n",
       "        text-align: right;\n",
       "    }\n",
       "</style>\n",
       "<table border=\"1\" class=\"dataframe\">\n",
       "  <thead>\n",
       "    <tr style=\"text-align: right;\">\n",
       "      <th></th>\n",
       "      <th>phrase</th>\n",
       "      <th>frequency</th>\n",
       "    </tr>\n",
       "  </thead>\n",
       "  <tbody>\n",
       "    <tr>\n",
       "      <th>112</th>\n",
       "      <td>girlgaze</td>\n",
       "      <td>40</td>\n",
       "    </tr>\n",
       "    <tr>\n",
       "      <th>223</th>\n",
       "      <td>mondaymotivation</td>\n",
       "      <td>39</td>\n",
       "    </tr>\n",
       "    <tr>\n",
       "      <th>316</th>\n",
       "      <td>shinetheory</td>\n",
       "      <td>30</td>\n",
       "    </tr>\n",
       "    <tr>\n",
       "      <th>346</th>\n",
       "      <td>tbt</td>\n",
       "      <td>27</td>\n",
       "    </tr>\n",
       "    <tr>\n",
       "      <th>253</th>\n",
       "      <td>nyfw</td>\n",
       "      <td>27</td>\n",
       "    </tr>\n",
       "  </tbody>\n",
       "</table>\n",
       "</div>"
      ],
      "text/plain": [
       "               phrase  frequency\n",
       "112          girlgaze         40\n",
       "223  mondaymotivation         39\n",
       "316       shinetheory         30\n",
       "346               tbt         27\n",
       "253              nyfw         27"
      ]
     },
     "execution_count": 71,
     "metadata": {},
     "output_type": "execute_result"
    }
   ],
   "source": [
    "doCountVectorizer(data = IGPics, stream = 'Teen_Vogue', col='Hashtags', target='impact').head(5)"
   ]
  },
  {
   "cell_type": "code",
   "execution_count": 72,
   "metadata": {
    "ExecuteTime": {
     "end_time": "2017-12-12T17:01:53.815045Z",
     "start_time": "2017-12-12T17:01:53.787004Z"
    },
    "scrolled": true
   },
   "outputs": [
    {
     "data": {
      "text/html": [
       "<div>\n",
       "<style scoped>\n",
       "    .dataframe tbody tr th:only-of-type {\n",
       "        vertical-align: middle;\n",
       "    }\n",
       "\n",
       "    .dataframe tbody tr th {\n",
       "        vertical-align: top;\n",
       "    }\n",
       "\n",
       "    .dataframe thead th {\n",
       "        text-align: right;\n",
       "    }\n",
       "</style>\n",
       "<table border=\"1\" class=\"dataframe\">\n",
       "  <thead>\n",
       "    <tr style=\"text-align: right;\">\n",
       "      <th></th>\n",
       "      <th>phrase</th>\n",
       "      <th>frequency</th>\n",
       "    </tr>\n",
       "  </thead>\n",
       "  <tbody>\n",
       "    <tr>\n",
       "      <th>223</th>\n",
       "      <td>mondaymotivation</td>\n",
       "      <td>37.735853</td>\n",
       "    </tr>\n",
       "    <tr>\n",
       "      <th>112</th>\n",
       "      <td>girlgaze</td>\n",
       "      <td>27.786470</td>\n",
       "    </tr>\n",
       "    <tr>\n",
       "      <th>316</th>\n",
       "      <td>shinetheory</td>\n",
       "      <td>27.304771</td>\n",
       "    </tr>\n",
       "    <tr>\n",
       "      <th>253</th>\n",
       "      <td>nyfw</td>\n",
       "      <td>24.078863</td>\n",
       "    </tr>\n",
       "    <tr>\n",
       "      <th>346</th>\n",
       "      <td>tbt</td>\n",
       "      <td>22.469447</td>\n",
       "    </tr>\n",
       "  </tbody>\n",
       "</table>\n",
       "</div>"
      ],
      "text/plain": [
       "               phrase  frequency\n",
       "223  mondaymotivation  37.735853\n",
       "112          girlgaze  27.786470\n",
       "316       shinetheory  27.304771\n",
       "253              nyfw  24.078863\n",
       "346               tbt  22.469447"
      ]
     },
     "execution_count": 72,
     "metadata": {},
     "output_type": "execute_result"
    }
   ],
   "source": [
    "doTF_IDFVectorizer(data = IGPics, stream = 'Teen_Vogue', col='Hashtags', target='impact').head(5)"
   ]
  },
  {
   "cell_type": "markdown",
   "metadata": {},
   "source": [
    "## CountVectorizer/TF-IDF on Captions for Top 25 and Bottom 25 Instagram Posts"
   ]
  },
  {
   "cell_type": "code",
   "execution_count": null,
   "metadata": {
    "ExecuteTime": {
     "end_time": "2017-12-12T16:29:45.429659Z",
     "start_time": "2017-12-12T16:28:14.024Z"
    }
   },
   "outputs": [],
   "source": [
    "from sklearn.feature_extraction.text import TfidfVectorizer\n",
    "from sklearn.model_selection import train_test_split\n",
    "\n",
    "X_train, X_test, y_train, y_test = train_test_split(InstaTop25['caption'],InstaTop25['impact'],\n",
    "                                                  test_size=0.3, random_state=6)\n",
    "\n",
    "stopwords = nltk.corpus.stopwords.words('english')\n",
    "stopwords.append('asdf') # this removes the placeholder for empty posts\n",
    "stopwords.append('link')\n",
    "stopwords.append('click')\n",
    "stopwords.append('http')\n",
    "stopwords.append('nast')\n",
    "stopwords.append('bio')\n",
    "stopwords.append('tap')\n",
    "stopwords.append('see')\n",
    "stopwords.append('regram')\n",
    "stopwords.append('like')\n",
    "stopwords.append('com')\n",
    "\n",
    "cvt = CountVectorizer(stop_words=stopwords,\n",
    "                          strip_accents=\"unicode\",\n",
    "                          lowercase=True,\n",
    "                          max_df=0.95,\n",
    "                          max_features=5000)\n",
    "\n",
    "\n",
    "fit_data = cvt.fit_transform(X_train)\n",
    "allwords = cvt.get_feature_names()\n",
    "allfreqs = fit_data.toarray().sum(axis=0)\n",
    "\n",
    "stream_array = [[allwords[idx], allfreqs[idx]] for idx in range(len(allwords))]\n",
    "\n",
    "streamDF = pd.DataFrame(data=stream_array)\n",
    "streamDF.columns = ['phrase', 'frequency']\n",
    "\n",
    "streamDF.sort_values('frequency', ascending=False).head(5)"
   ]
  },
  {
   "cell_type": "code",
   "execution_count": null,
   "metadata": {
    "ExecuteTime": {
     "end_time": "2017-12-12T16:29:45.430557Z",
     "start_time": "2017-12-12T16:28:14.028Z"
    }
   },
   "outputs": [],
   "source": [
    "from sklearn.feature_extraction.text import TfidfVectorizer\n",
    "from sklearn.model_selection import train_test_split\n",
    "\n",
    "X_train, X_test, y_train, y_test = train_test_split(InstaTop25['caption'],InstaTop25['impact'],\n",
    "                                                  test_size=0.3, random_state=6)\n",
    "\n",
    "stopwords = nltk.corpus.stopwords.words('english')\n",
    "stopwords.append('asdf') # this removes the placeholder for empty posts\n",
    "stopwords.append('link')\n",
    "stopwords.append('click')\n",
    "stopwords.append('http')\n",
    "stopwords.append('nast')\n",
    "stopwords.append('bio')\n",
    "stopwords.append('tap')\n",
    "stopwords.append('see')\n",
    "stopwords.append('regram')\n",
    "stopwords.append('like')\n",
    "stopwords.append('com')\n",
    "\n",
    "cvt = TfidfVectorizer(stop_words=stopwords,\n",
    "                          strip_accents=\"unicode\",\n",
    "                          lowercase=True,\n",
    "                          max_df=0.95,\n",
    "                          max_features=5000)\n",
    "\n",
    "\n",
    "fit_data = cvt.fit_transform(X_train)\n",
    "allwords = cvt.get_feature_names()\n",
    "allfreqs = fit_data.toarray().sum(axis=0)\n",
    "\n",
    "stream_array = [[allwords[idx], allfreqs[idx]] for idx in range(len(allwords))]\n",
    "\n",
    "streamDF = pd.DataFrame(data=stream_array)\n",
    "streamDF.columns = ['phrase', 'frequency']\n",
    "\n",
    "streamDF.sort_values('frequency', ascending=False).head(5)"
   ]
  },
  {
   "cell_type": "code",
   "execution_count": null,
   "metadata": {
    "ExecuteTime": {
     "end_time": "2017-12-12T16:29:45.431375Z",
     "start_time": "2017-12-12T16:28:14.032Z"
    }
   },
   "outputs": [],
   "source": [
    "from sklearn.feature_extraction.text import TfidfVectorizer\n",
    "from sklearn.model_selection import train_test_split\n",
    "\n",
    "X_train, X_test, y_train, y_test = train_test_split(InstaBot25['caption'],InstaBot25['impact'],\n",
    "                                                  test_size=0.3, random_state=6)\n",
    "\n",
    "stopwords = nltk.corpus.stopwords.words('english')\n",
    "stopwords.append('asdf') # this removes the placeholder for empty posts\n",
    "stopwords.append('link')\n",
    "stopwords.append('click')\n",
    "stopwords.append('http')\n",
    "stopwords.append('nast')\n",
    "stopwords.append('bio')\n",
    "stopwords.append('tap')\n",
    "stopwords.append('see')\n",
    "stopwords.append('regram')\n",
    "stopwords.append('like')\n",
    "stopwords.append('com')\n",
    "\n",
    "cvt = CountVectorizer(stop_words=stopwords,\n",
    "                          strip_accents=\"unicode\",\n",
    "                          lowercase=True,\n",
    "                          max_df=0.95,\n",
    "                          max_features=5000)\n",
    "\n",
    "\n",
    "fit_data = cvt.fit_transform(X_train)\n",
    "allwords = cvt.get_feature_names()\n",
    "allfreqs = fit_data.toarray().sum(axis=0)\n",
    "\n",
    "stream_array = [[allwords[idx], allfreqs[idx]] for idx in range(len(allwords))]\n",
    "\n",
    "streamDF = pd.DataFrame(data=stream_array)\n",
    "streamDF.columns = ['phrase', 'frequency']\n",
    "\n",
    "streamDF.sort_values('frequency', ascending=False).head(5)"
   ]
  },
  {
   "cell_type": "code",
   "execution_count": null,
   "metadata": {
    "ExecuteTime": {
     "end_time": "2017-12-12T16:29:45.432280Z",
     "start_time": "2017-12-12T16:28:14.035Z"
    }
   },
   "outputs": [],
   "source": [
    "from sklearn.feature_extraction.text import TfidfVectorizer\n",
    "from sklearn.model_selection import train_test_split\n",
    "\n",
    "X_train, X_test, y_train, y_test = train_test_split(InstaBot25['caption'],InstaBot25['impact'],\n",
    "                                                  test_size=0.3, random_state=6)\n",
    "\n",
    "stopwords = nltk.corpus.stopwords.words('english')\n",
    "stopwords.append('asdf') # this removes the placeholder for empty posts\n",
    "stopwords.append('link')\n",
    "stopwords.append('click')\n",
    "stopwords.append('http')\n",
    "stopwords.append('nast')\n",
    "stopwords.append('bio')\n",
    "stopwords.append('tap')\n",
    "stopwords.append('see')\n",
    "stopwords.append('regram')\n",
    "stopwords.append('like')\n",
    "stopwords.append('com')\n",
    "\n",
    "cvt = TfidfVectorizer(stop_words=stopwords,\n",
    "                          strip_accents=\"unicode\",\n",
    "                          lowercase=True,\n",
    "                          max_df=0.95,\n",
    "                          max_features=5000)\n",
    "\n",
    "\n",
    "fit_data = cvt.fit_transform(X_train)\n",
    "allwords = cvt.get_feature_names()\n",
    "allfreqs = fit_data.toarray().sum(axis=0)\n",
    "\n",
    "stream_array = [[allwords[idx], allfreqs[idx]] for idx in range(len(allwords))]\n",
    "\n",
    "streamDF = pd.DataFrame(data=stream_array)\n",
    "streamDF.columns = ['phrase', 'frequency']\n",
    "\n",
    "streamDF.sort_values('frequency', ascending=False).head(5)"
   ]
  },
  {
   "cell_type": "markdown",
   "metadata": {},
   "source": [
    "## CountVectorizer/TF-IDF on Hashtags for Top 25 and Bottom 25 Instagram Posts"
   ]
  },
  {
   "cell_type": "code",
   "execution_count": null,
   "metadata": {
    "ExecuteTime": {
     "end_time": "2017-12-12T16:29:45.433303Z",
     "start_time": "2017-12-12T16:28:14.038Z"
    }
   },
   "outputs": [],
   "source": [
    "from sklearn.feature_extraction.text import TfidfVectorizer\n",
    "from sklearn.model_selection import train_test_split\n",
    "\n",
    "X_train, X_test, y_train, y_test = train_test_split(InstaTop25['hashtags'],InstaTop25['impact'],\n",
    "                                                  test_size=0.3, random_state=6)\n",
    "\n",
    "stopwords = nltk.corpus.stopwords.words('english')\n",
    "stopwords.append('asdf') # this removes the placeholder for empty posts\n",
    "stopwords.append('link')\n",
    "stopwords.append('click')\n",
    "stopwords.append('http')\n",
    "stopwords.append('nast')\n",
    "stopwords.append('bio')\n",
    "stopwords.append('tap')\n",
    "stopwords.append('see')\n",
    "stopwords.append('regram')\n",
    "stopwords.append('like')\n",
    "stopwords.append('com')\n",
    "\n",
    "cvt = CountVectorizer(stop_words=stopwords,\n",
    "                          strip_accents=\"unicode\",\n",
    "                          lowercase=True,\n",
    "                          max_df=0.95,\n",
    "                          max_features=5000)\n",
    "\n",
    "\n",
    "fit_data = cvt.fit_transform(X_train)\n",
    "allwords = cvt.get_feature_names()\n",
    "allfreqs = fit_data.toarray().sum(axis=0)\n",
    "\n",
    "stream_array = [[allwords[idx], allfreqs[idx]] for idx in range(len(allwords))]\n",
    "\n",
    "streamDF = pd.DataFrame(data=stream_array)\n",
    "streamDF.columns = ['phrase', 'frequency']\n",
    "\n",
    "streamDF.sort_values('frequency', ascending=False).head(5)"
   ]
  },
  {
   "cell_type": "code",
   "execution_count": null,
   "metadata": {
    "ExecuteTime": {
     "end_time": "2017-12-12T16:29:45.434165Z",
     "start_time": "2017-12-12T16:28:14.041Z"
    }
   },
   "outputs": [],
   "source": [
    "from sklearn.feature_extraction.text import TfidfVectorizer\n",
    "from sklearn.model_selection import train_test_split\n",
    "\n",
    "X_train, X_test, y_train, y_test = train_test_split(InstaTop25['hashtags'],InstaTop25['impact'],\n",
    "                                                  test_size=0.3, random_state=6)\n",
    "\n",
    "stopwords = nltk.corpus.stopwords.words('english')\n",
    "stopwords.append('asdf') # this removes the placeholder for empty posts\n",
    "stopwords.append('link')\n",
    "stopwords.append('click')\n",
    "stopwords.append('http')\n",
    "stopwords.append('nast')\n",
    "stopwords.append('bio')\n",
    "stopwords.append('tap')\n",
    "stopwords.append('see')\n",
    "stopwords.append('regram')\n",
    "stopwords.append('like')\n",
    "stopwords.append('com')\n",
    "\n",
    "cvt = TfidfVectorizer(stop_words=stopwords,\n",
    "                          strip_accents=\"unicode\",\n",
    "                          lowercase=True,\n",
    "                          max_df=0.95,\n",
    "                          max_features=5000)\n",
    "\n",
    "\n",
    "fit_data = cvt.fit_transform(X_train)\n",
    "allwords = cvt.get_feature_names()\n",
    "allfreqs = fit_data.toarray().sum(axis=0)\n",
    "\n",
    "stream_array = [[allwords[idx], allfreqs[idx]] for idx in range(len(allwords))]\n",
    "\n",
    "streamDF = pd.DataFrame(data=stream_array)\n",
    "streamDF.columns = ['phrase', 'frequency']\n",
    "\n",
    "streamDF.sort_values('frequency', ascending=False).head(5)"
   ]
  },
  {
   "cell_type": "code",
   "execution_count": null,
   "metadata": {
    "ExecuteTime": {
     "end_time": "2017-12-12T16:29:45.435030Z",
     "start_time": "2017-12-12T16:28:14.044Z"
    }
   },
   "outputs": [],
   "source": [
    "from sklearn.feature_extraction.text import TfidfVectorizer\n",
    "from sklearn.model_selection import train_test_split\n",
    "\n",
    "X_train, X_test, y_train, y_test = train_test_split(InstaBot25['hashtags'],InstaBot25['impact'],\n",
    "                                                  test_size=0.3, random_state=6)\n",
    "\n",
    "stopwords = nltk.corpus.stopwords.words('english')\n",
    "stopwords.append('asdf') # this removes the placeholder for empty posts\n",
    "stopwords.append('link')\n",
    "stopwords.append('click')\n",
    "stopwords.append('http')\n",
    "stopwords.append('nast')\n",
    "stopwords.append('bio')\n",
    "stopwords.append('tap')\n",
    "stopwords.append('see')\n",
    "stopwords.append('regram')\n",
    "stopwords.append('like')\n",
    "stopwords.append('com')\n",
    "\n",
    "cvt = CountVectorizer(stop_words=stopwords,\n",
    "                          strip_accents=\"unicode\",\n",
    "                          lowercase=True,\n",
    "                          max_df=0.95,\n",
    "                          max_features=5000)\n",
    "\n",
    "\n",
    "fit_data = cvt.fit_transform(X_train)\n",
    "allwords = cvt.get_feature_names()\n",
    "allfreqs = fit_data.toarray().sum(axis=0)\n",
    "\n",
    "stream_array = [[allwords[idx], allfreqs[idx]] for idx in range(len(allwords))]\n",
    "\n",
    "streamDF = pd.DataFrame(data=stream_array)\n",
    "streamDF.columns = ['phrase', 'frequency']\n",
    "\n",
    "streamDF.sort_values('frequency', ascending=False).head(5)"
   ]
  },
  {
   "cell_type": "code",
   "execution_count": null,
   "metadata": {
    "ExecuteTime": {
     "end_time": "2017-12-12T16:29:45.435841Z",
     "start_time": "2017-12-12T16:28:14.048Z"
    }
   },
   "outputs": [],
   "source": [
    "from sklearn.feature_extraction.text import TfidfVectorizer\n",
    "from sklearn.model_selection import train_test_split\n",
    "\n",
    "X_train, X_test, y_train, y_test = train_test_split(InstaBot25['hashtags'],InstaBot25['impact'],\n",
    "                                                  test_size=0.3, random_state=6)\n",
    "\n",
    "stopwords = nltk.corpus.stopwords.words('english')\n",
    "stopwords.append('asdf') # this removes the placeholder for empty posts\n",
    "stopwords.append('link')\n",
    "stopwords.append('click')\n",
    "stopwords.append('http')\n",
    "stopwords.append('nast')\n",
    "stopwords.append('bio')\n",
    "stopwords.append('tap')\n",
    "stopwords.append('see')\n",
    "stopwords.append('regram')\n",
    "stopwords.append('like')\n",
    "stopwords.append('com')\n",
    "\n",
    "cvt = TfidfVectorizer(stop_words=stopwords,\n",
    "                          strip_accents=\"unicode\",\n",
    "                          lowercase=True,\n",
    "                          max_df=0.95,\n",
    "                          max_features=5000)\n",
    "\n",
    "\n",
    "fit_data = cvt.fit_transform(X_train)\n",
    "allwords = cvt.get_feature_names()\n",
    "allfreqs = fit_data.toarray().sum(axis=0)\n",
    "\n",
    "stream_array = [[allwords[idx], allfreqs[idx]] for idx in range(len(allwords))]\n",
    "\n",
    "streamDF = pd.DataFrame(data=stream_array)\n",
    "streamDF.columns = ['phrase', 'frequency']\n",
    "\n",
    "streamDF.sort_values('frequency', ascending=False).head(5)"
   ]
  }
 ],
 "metadata": {
  "kernelspec": {
   "display_name": "Python 3",
   "language": "python",
   "name": "python3"
  },
  "language_info": {
   "codemirror_mode": {
    "name": "ipython",
    "version": 3
   },
   "file_extension": ".py",
   "mimetype": "text/x-python",
   "name": "python",
   "nbconvert_exporter": "python",
   "pygments_lexer": "ipython3",
   "version": "3.6.3"
  },
  "toc": {
   "nav_menu": {},
   "number_sections": true,
   "sideBar": true,
   "skip_h1_title": false,
   "toc_cell": false,
   "toc_position": {},
   "toc_section_display": "block",
   "toc_window_display": false
  },
  "varInspector": {
   "cols": {
    "lenName": 16,
    "lenType": 16,
    "lenVar": 40
   },
   "kernels_config": {
    "python": {
     "delete_cmd_postfix": "",
     "delete_cmd_prefix": "del ",
     "library": "var_list.py",
     "varRefreshCmd": "print(var_dic_list())"
    },
    "r": {
     "delete_cmd_postfix": ") ",
     "delete_cmd_prefix": "rm(",
     "library": "var_list.r",
     "varRefreshCmd": "cat(var_dic_list()) "
    }
   },
   "types_to_exclude": [
    "module",
    "function",
    "builtin_function_or_method",
    "instance",
    "_Feature"
   ],
   "window_display": false
  }
 },
 "nbformat": 4,
 "nbformat_minor": 2
}
